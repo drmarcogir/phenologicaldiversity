{
 "cells": [
  {
   "cell_type": "code",
   "execution_count": 1,
   "id": "984e2189-60ca-47d9-b715-5018f6634e82",
   "metadata": {},
   "outputs": [],
   "source": [
    "import ee\n",
    "ee.Initialize()\n",
    "import geemap \n",
    "Map = geemap.Map()"
   ]
  },
  {
   "cell_type": "code",
   "execution_count": 14,
   "id": "755d80a4-5474-4d11-a62e-1daaebcfa37d",
   "metadata": {},
   "outputs": [],
   "source": [
    "wpa = ee.FeatureCollection(\"WCMC/WDPA/current/polygons\")\n",
    "trends = ee.Image(\"users/marcogirardello/phenoutils/trends\")\n"
   ]
  },
  {
   "cell_type": "code",
   "execution_count": 16,
   "id": "d3a418e3-a6c1-42c5-a0d0-3c58fa5c49e7",
   "metadata": {},
   "outputs": [
    {
     "data": {
      "text/plain": [
       "['b1', 'b2']"
      ]
     },
     "execution_count": 16,
     "metadata": {},
     "output_type": "execute_result"
    }
   ],
   "source": [
    "trends.bandNames().getInfo()"
   ]
  },
  {
   "cell_type": "code",
   "execution_count": 17,
   "id": "cae6d63c-b63d-4cc7-8ac1-0fc3bca01221",
   "metadata": {},
   "outputs": [],
   "source": [
    "trends1 = trends.clip(wpa)"
   ]
  },
  {
   "cell_type": "code",
   "execution_count": 19,
   "id": "4a578fa5-aa54-47f0-89e2-74071ab9b816",
   "metadata": {},
   "outputs": [],
   "source": [
    "task = ee.batch.Export.image.toCloudStorage(image = trends1, description = \"trendsclipped\",bucket=\"phenotrends\",crs=\"EPSG:4326\",\n",
    "                                            fileFormat=\"GeoTiff\",maxPixels=1e13,scale=5000,skipEmptyTiles=True)\n",
    "task.start()"
   ]
  },
  {
   "cell_type": "code",
   "execution_count": 27,
   "id": "a1b24334-d74a-4f79-807e-d1631c9c0acd",
   "metadata": {},
   "outputs": [
    {
     "data": {
      "text/plain": [
       "<ee.image.Image at 0x7f61384e76d0>"
      ]
     },
     "execution_count": 27,
     "metadata": {},
     "output_type": "execute_result"
    }
   ],
   "source": [
    "trends1.select('b1')"
   ]
  },
  {
   "cell_type": "code",
   "execution_count": 28,
   "id": "80ad441b-080c-4b86-ab86-c189069c9a3c",
   "metadata": {},
   "outputs": [],
   "source": [
    "Map.addLayer(trends1.select('b1'),{'min':-20,'max':20,'palette':['blue','green','yellow','red']},'clipping')"
   ]
  },
  {
   "cell_type": "code",
   "execution_count": 22,
   "id": "d56ae05b-0347-4a94-b53b-7bbadce0ee70",
   "metadata": {},
   "outputs": [],
   "source": [
    "Map.addLayer(trends,'','no clipping')"
   ]
  },
  {
   "cell_type": "code",
   "execution_count": 24,
   "id": "8130889c-f4f5-4bd7-8f10-1aec76126466",
   "metadata": {},
   "outputs": [
    {
     "data": {
      "application/vnd.jupyter.widget-view+json": {
       "model_id": "bd9096c0f95e4f5e903bbfc34bbd9f45",
       "version_major": 2,
       "version_minor": 0
      },
      "text/plain": [
       "Map(center=[40, -100], controls=(WidgetControl(options=['position', 'transparent_bg'], widget=HBox(children=(T…"
      ]
     },
     "metadata": {},
     "output_type": "display_data"
    }
   ],
   "source": [
    "Map = geemap.Map()\n",
    "Map"
   ]
  }
 ],
 "metadata": {
  "kernelspec": {
   "display_name": "Python 3",
   "language": "python",
   "name": "python3"
  },
  "language_info": {
   "codemirror_mode": {
    "name": "ipython",
    "version": 3
   },
   "file_extension": ".py",
   "mimetype": "text/x-python",
   "name": "python",
   "nbconvert_exporter": "python",
   "pygments_lexer": "ipython3",
   "version": "3.8.10"
  }
 },
 "nbformat": 4,
 "nbformat_minor": 5
}
