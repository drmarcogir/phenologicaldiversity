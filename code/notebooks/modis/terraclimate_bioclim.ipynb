{
 "cells": [
  {
   "cell_type": "markdown",
   "id": "ec36ea42-dac0-45e0-93c7-a873ea374196",
   "metadata": {},
   "source": [
    "## Calculate bioclim variables using from terraclimate"
   ]
  },
  {
   "cell_type": "code",
   "execution_count": 1,
   "id": "577d9134-6d1e-4203-9e5b-5627d7835785",
   "metadata": {},
   "outputs": [],
   "source": [
    "import ee\n",
    "ee.Initialize()\n",
    "#import geemap\n",
    "#Map = geemap.Map()\n",
    "#from IPython.display import JSON\n",
    "#import os"
   ]
  },
  {
   "cell_type": "markdown",
   "id": "0797584a-3b7f-4bba-9cc3-0e701b898f97",
   "metadata": {},
   "source": [
    "#### Load terraclimate collection"
   ]
  },
  {
   "cell_type": "code",
   "execution_count": 2,
   "id": "50ecf105-0d89-4f8a-b63b-f40dfebcc82c",
   "metadata": {},
   "outputs": [],
   "source": [
    "col = ee.ImageCollection('IDAHO_EPSCOR/TERRACLIMATE')"
   ]
  },
  {
   "cell_type": "code",
   "execution_count": 3,
   "id": "a3165fb9-3b76-4abe-ae00-e07911b54d79",
   "metadata": {},
   "outputs": [],
   "source": [
    "# export polygon\n",
    "roi = ee.Geometry.Polygon(ee.FeatureCollection(\"users/marcogirardello/boundboxes/boxglobal1\").geometry().getInfo().get('coordinates')).bounds()"
   ]
  },
  {
   "cell_type": "code",
   "execution_count": 4,
   "id": "991c9ef8-07a6-49be-917e-1467786270ef",
   "metadata": {},
   "outputs": [],
   "source": [
    "def mean_calc(img):\n",
    "    tmp = img.select('tmmn').add(img.select('tmmx'))\n",
    "    return tmp.divide(2).rename('tmean').copyProperties(img,['system:time_start'])\n",
    "\n",
    "def bio2_calc(month):\n",
    "    return tmax.filterMetadata('month','equals',month).first().\\\n",
    "    subtract(tmin.filterMetadata('month','equals',month)\\\n",
    "         .first())"
   ]
  },
  {
   "cell_type": "code",
   "execution_count": 5,
   "id": "0750b0ea-8f7b-4868-a899-f366ec8c9539",
   "metadata": {},
   "outputs": [],
   "source": [
    "# list of months\n",
    "#months =ee.List(['%02d' % month for month in range(1,12+1)])\n",
    "months = ee.List(list(range(1,12+1)))\n",
    "# filters so to divide the year in quarters\n",
    "q1 = ee.Filter.calendarRange(1,3,'month')\n",
    "q2 = ee.Filter.calendarRange(4,6,'month')\n",
    "q3 = ee.Filter.calendarRange(7,9,'month')\n",
    "q4 = ee.Filter.calendarRange(10,12,'month')"
   ]
  },
  {
   "cell_type": "code",
   "execution_count": 6,
   "id": "e39fc940-db82-4608-bc90-07682b6429a2",
   "metadata": {
    "collapsed": true,
    "jupyter": {
     "outputs_hidden": true
    },
    "tags": []
   },
   "outputs": [
    {
     "ename": "NameError",
     "evalue": "name 'os' is not defined",
     "output_type": "error",
     "traceback": [
      "\u001b[0;31m---------------------------------------------------------------------------\u001b[0m",
      "\u001b[0;31mNameError\u001b[0m                                 Traceback (most recent call last)",
      "\u001b[0;32m<ipython-input-6-6196c18c12bc>\u001b[0m in \u001b[0;36m<module>\u001b[0;34m\u001b[0m\n\u001b[1;32m      1\u001b[0m \u001b[0;31m# loop through years\u001b[0m\u001b[0;34m\u001b[0m\u001b[0;34m\u001b[0m\u001b[0;34m\u001b[0m\u001b[0m\n\u001b[1;32m      2\u001b[0m \u001b[0;31m#%env year = 2003\u001b[0m\u001b[0;34m\u001b[0m\u001b[0;34m\u001b[0m\u001b[0;34m\u001b[0m\u001b[0m\n\u001b[0;32m----> 3\u001b[0;31m \u001b[0myear\u001b[0m \u001b[0;34m=\u001b[0m \u001b[0mint\u001b[0m\u001b[0;34m(\u001b[0m\u001b[0mos\u001b[0m\u001b[0;34m.\u001b[0m\u001b[0menviron\u001b[0m\u001b[0;34m[\u001b[0m\u001b[0;34m'year'\u001b[0m\u001b[0;34m]\u001b[0m\u001b[0;34m)\u001b[0m\u001b[0;34m\u001b[0m\u001b[0;34m\u001b[0m\u001b[0m\n\u001b[0m",
      "\u001b[0;31mNameError\u001b[0m: name 'os' is not defined"
     ]
    }
   ],
   "source": [
    "# loop through years\n",
    "#%env year = 2003\n",
    "year = int(os.environ['year'])"
   ]
  },
  {
   "cell_type": "code",
   "execution_count": 7,
   "id": "88a20f35-e205-4318-9343-dbb19b194761",
   "metadata": {
    "collapsed": true,
    "jupyter": {
     "outputs_hidden": true
    },
    "tags": []
   },
   "outputs": [
    {
     "ename": "NameError",
     "evalue": "name 'year' is not defined",
     "output_type": "error",
     "traceback": [
      "\u001b[0;31m---------------------------------------------------------------------------\u001b[0m",
      "\u001b[0;31mNameError\u001b[0m                                 Traceback (most recent call last)",
      "\u001b[0;32m<ipython-input-7-5d81aaa7f9fc>\u001b[0m in \u001b[0;36m<module>\u001b[0;34m\u001b[0m\n\u001b[0;32m----> 1\u001b[0;31m \u001b[0mprec\u001b[0m \u001b[0;34m=\u001b[0m \u001b[0mcol\u001b[0m\u001b[0;34m.\u001b[0m\u001b[0mselect\u001b[0m\u001b[0;34m(\u001b[0m\u001b[0;34m'pr'\u001b[0m\u001b[0;34m)\u001b[0m\u001b[0;34m.\u001b[0m\u001b[0mfilterDate\u001b[0m\u001b[0;34m(\u001b[0m\u001b[0mstr\u001b[0m\u001b[0;34m(\u001b[0m\u001b[0myear\u001b[0m\u001b[0;34m)\u001b[0m\u001b[0;34m+\u001b[0m\u001b[0;34m'-01-01'\u001b[0m\u001b[0;34m,\u001b[0m\u001b[0mstr\u001b[0m\u001b[0;34m(\u001b[0m\u001b[0myear\u001b[0m\u001b[0;34m)\u001b[0m\u001b[0;34m+\u001b[0m\u001b[0;34m'-12-31'\u001b[0m\u001b[0;34m)\u001b[0m\u001b[0;34m\u001b[0m\u001b[0;34m\u001b[0m\u001b[0m\n\u001b[0m\u001b[1;32m      2\u001b[0m \u001b[0mtmin\u001b[0m \u001b[0;34m=\u001b[0m \u001b[0mcol\u001b[0m\u001b[0;34m.\u001b[0m\u001b[0mselect\u001b[0m\u001b[0;34m(\u001b[0m\u001b[0;34m'tmmn'\u001b[0m\u001b[0;34m)\u001b[0m\u001b[0;34m.\u001b[0m\u001b[0mfilterDate\u001b[0m\u001b[0;34m(\u001b[0m\u001b[0mstr\u001b[0m\u001b[0;34m(\u001b[0m\u001b[0myear\u001b[0m\u001b[0;34m)\u001b[0m\u001b[0;34m+\u001b[0m\u001b[0;34m'-01-01'\u001b[0m\u001b[0;34m,\u001b[0m\u001b[0mstr\u001b[0m\u001b[0;34m(\u001b[0m\u001b[0myear\u001b[0m\u001b[0;34m)\u001b[0m\u001b[0;34m+\u001b[0m\u001b[0;34m'-12-31'\u001b[0m\u001b[0;34m)\u001b[0m\u001b[0;34m\u001b[0m\u001b[0;34m\u001b[0m\u001b[0m\n\u001b[1;32m      3\u001b[0m \u001b[0mtmax\u001b[0m \u001b[0;34m=\u001b[0m \u001b[0mcol\u001b[0m\u001b[0;34m.\u001b[0m\u001b[0mselect\u001b[0m\u001b[0;34m(\u001b[0m\u001b[0;34m'tmmx'\u001b[0m\u001b[0;34m)\u001b[0m\u001b[0;34m.\u001b[0m\u001b[0mfilterDate\u001b[0m\u001b[0;34m(\u001b[0m\u001b[0mstr\u001b[0m\u001b[0;34m(\u001b[0m\u001b[0myear\u001b[0m\u001b[0;34m)\u001b[0m\u001b[0;34m+\u001b[0m\u001b[0;34m'-01-01'\u001b[0m\u001b[0;34m,\u001b[0m\u001b[0mstr\u001b[0m\u001b[0;34m(\u001b[0m\u001b[0myear\u001b[0m\u001b[0;34m)\u001b[0m\u001b[0;34m+\u001b[0m\u001b[0;34m'-12-31'\u001b[0m\u001b[0;34m)\u001b[0m\u001b[0;34m\u001b[0m\u001b[0;34m\u001b[0m\u001b[0m\n\u001b[1;32m      4\u001b[0m \u001b[0mtmean\u001b[0m \u001b[0;34m=\u001b[0m \u001b[0mcol\u001b[0m\u001b[0;34m.\u001b[0m\u001b[0mfilterDate\u001b[0m\u001b[0;34m(\u001b[0m\u001b[0mstr\u001b[0m\u001b[0;34m(\u001b[0m\u001b[0myear\u001b[0m\u001b[0;34m)\u001b[0m\u001b[0;34m+\u001b[0m\u001b[0;34m'-01-01'\u001b[0m\u001b[0;34m,\u001b[0m\u001b[0mstr\u001b[0m\u001b[0;34m(\u001b[0m\u001b[0myear\u001b[0m\u001b[0;34m)\u001b[0m\u001b[0;34m+\u001b[0m\u001b[0;34m'-12-31'\u001b[0m\u001b[0;34m)\u001b[0m\u001b[0;34m.\u001b[0m\u001b[0mmap\u001b[0m\u001b[0;34m(\u001b[0m\u001b[0mmean_calc\u001b[0m\u001b[0;34m)\u001b[0m\u001b[0;34m\u001b[0m\u001b[0;34m\u001b[0m\u001b[0m\n",
      "\u001b[0;31mNameError\u001b[0m: name 'year' is not defined"
     ]
    }
   ],
   "source": [
    "prec = col.select('pr').filterDate(str(year)+'-01-01',str(year)+'-12-31')\n",
    "tmin = col.select('tmmn').filterDate(str(year)+'-01-01',str(year)+'-12-31')\n",
    "tmax = col.select('tmmx').filterDate(str(year)+'-01-01',str(year)+'-12-31')\n",
    "tmean = col.filterDate(str(year)+'-01-01',str(year)+'-12-31').map(mean_calc)"
   ]
  },
  {
   "cell_type": "code",
   "execution_count": 44,
   "id": "e39ef3b4-4809-4eed-8809-97f12dd4f141",
   "metadata": {},
   "outputs": [],
   "source": [
    "# bio 1 (mean annual temperature)\n",
    "bio1 = tmean.mean().multiply(0.1)\n",
    "# bio 2 Mean Diurnal Range\n",
    "bio2 = col.filterDate(str(year)+'-01-01',str(year)+'-12-31').\\\n",
    "map(lambda img: img.select('tmmx').subtract(img.select('tmmn'))).mean().rename('bio2')\n",
    "# bio 4 (temperature seasonality)\n",
    "bio4 = tmean.reduce(ee.Reducer.stdDev())\n",
    "# bio 5 (max temperature of warmest month)\n",
    "bio5 = tmax.max()\n",
    "# bio 6 (min temperature of the coldest month)\n",
    "bio6 = tmin.min()\n",
    "# bio 7 (temperature annual range)\n",
    "bio7 = bio5.subtract(bio6)\n",
    "#bio 8 (mean temperature of wettest quarter) \n",
    "bio8 = ee.ImageCollection([prec.filter(q1).sum().addBands(tmean.filter(q1).mean()),\n",
    "                    prec.filter(q2).sum().addBands(tmean.filter(q2).mean()),\n",
    "                    prec.filter(q3).sum().addBands(tmean.filter(q3).mean()),\n",
    "                    prec.filter(q4).sum().addBands(tmean.filter(q4).mean())]).reduce(ee.Reducer.max(2)).select('max1')\n",
    "# bio 9 (mean temperature of driest quarter) \n",
    "bio9 = ee.ImageCollection([prec.filter(q1).sum().addBands(tmean.filter(q1).mean()),\n",
    "                    prec.filter(q2).sum().addBands(tmean.filter(q2).mean()),\n",
    "                    prec.filter(q3).sum().addBands(tmean.filter(q3).mean()),\n",
    "                    prec.filter(q4).sum().addBands(tmean.filter(q4).mean())]).reduce(ee.Reducer.min(2)).select('min1')\n",
    "# bio 10 (mean temperature of warmest quarter)\n",
    "bio10 = ee.ImageCollection([tmean.filter(q1).mean(),tmean.filter(q2).mean(),tmean.filter(q3).mean(),tmean.filter(q4).mean()]).max()\n",
    "# bio 11 (mean temperature of coldest quarter)\n",
    "bio11 = ee.ImageCollection([tmean.filter(q1).mean(),tmean.filter(q2).mean(),tmean.filter(q3).mean(),tmean.filter(q4).mean()]).min()\n",
    "# bio 12 (total annual precipitation)\n",
    "bio12 = prec.sum().float()\n",
    "# bio 13 (precipitation of wettest month)\n",
    "bio13 = prec.max()\n",
    "# bio 14 (precipitation of driest month)\n",
    "bio14 = prec.min()\n",
    "# bio 15 (precipitation seasonality (coef variation))\n",
    "bio15 = prec.map(lambda image:image.add(1)).reduce(ee.Reducer.stdDev()).\\\n",
    "divide(prec.map(lambda image:image.add(1)).reduce(ee.Reducer.mean()))\n",
    "bio15 = bio15.multiply(100)\n",
    "# bio 16 (precipitation of wettest quarter)\n",
    "bio16 = ee.ImageCollection([prec.filter(q1).sum(),prec.filter(q2).sum(),prec.filter(q3).sum(),prec.filter(q4).sum()]).max().float()\n",
    "# bio 17 (precipitation of driest quarter)\n",
    "bio17 = ee.ImageCollection([prec.filter(q1).sum(),prec.filter(q2).sum(),prec.filter(q3).sum(),prec.filter(q4).sum()]).min().float()\n",
    "# bio 18 (precipitation of warmest quarter)\n",
    "bio18 = ee.ImageCollection([tmean.filter(q1).mean().addBands(prec.filter(q1).sum()),\n",
    "                          tmean.filter(q2).mean().addBands(prec.filter(q2).sum()),\n",
    "                          tmean.filter(q3).mean().addBands(prec.filter(q3).sum()),\n",
    "                          tmean.filter(q4).mean().addBands(prec.filter(q4).sum())]).reduce(ee.Reducer.max(2)).select('max1').float()\n",
    "# bio 19 (precipitation of coldest quarter) \n",
    "bio19 = ee.ImageCollection([tmean.filter(q1).mean().addBands(prec.filter(q1).sum()),\n",
    "                          tmean.filter(q2).mean().addBands(prec.filter(q2).sum()),\n",
    "                          tmean.filter(q3).mean().addBands(prec.filter(q3).sum()),\n",
    "                          tmean.filter(q4).mean().addBands(prec.filter(q4).sum())]).reduce(ee.Reducer.min(2)).select('min1').float()\n",
    "# bio 3 (isothermality)\n",
    "bio3 = bio2.divide(bio7).multiply(100)"
   ]
  },
  {
   "cell_type": "code",
   "execution_count": 49,
   "id": "af687fd9-b56e-477a-8312-eea289f05d66",
   "metadata": {},
   "outputs": [],
   "source": [
    "finalres = ee.List([bio1,bio2,bio3,bio4,bio5,bio6,bio7,bio8,bio9,bio10,bio11,bio12,bio13,bio14,bio15,\n",
    "                   bio16,bio17,bio18,bio19])"
   ]
  },
  {
   "cell_type": "code",
   "execution_count": 66,
   "id": "ee542e65-e542-4868-a64d-d60a23dc6716",
   "metadata": {
    "jupyter": {
     "source_hidden": true
    },
    "tags": []
   },
   "outputs": [],
   "source": [
    "# # bio19 for entire collection\n",
    "# tmean = col.map(mean_calc)\n",
    "# prec = col.select('pr')\n",
    "\n",
    "# yearl = ee.List(list(range(1958,2000+1)))\n",
    "\n",
    "# def bio_19glob(year):\n",
    "#     temp_tmp = col.filter(ee.Filter.calendarRange(year,year,'year')).map(mean_calc)\n",
    "#     prec_tmp = col.filter(ee.Filter.calendarRange(year,year,'year')).select('pr')\n",
    "#     bio19 = ee.ImageCollection([temp_tmp.filter(q1).mean().addBands(prec_tmp.filter(q1).sum()),\n",
    "#                           temp_tmp.filter(q2).mean().addBands(prec_tmp.filter(q2).sum()),\n",
    "#                           temp_tmp.filter(q3).mean().addBands(prec_tmp.filter(q3).sum()),\n",
    "#                           temp_tmp.filter(q4).mean().addBands(prec_tmp.filter(q4).sum())]).\\\n",
    "#                           reduce(ee.Reducer.min(2)).select('min1').float()\n",
    "#     return bio19\n",
    "\n",
    "# bio19glob = ee.ImageCollection(yearl.map(bio_19glob)).mean()"
   ]
  },
  {
   "cell_type": "code",
   "execution_count": 51,
   "id": "07675e05-d8a7-4ce9-995a-d3ce72e9f6e4",
   "metadata": {},
   "outputs": [],
   "source": [
    "#%env biomin = 0\n",
    "#env biomax = 19\n",
    "#biomin = int(os.environ['biomin'])\n",
    "#biomax = int(os.environ['biomax'])\n",
    "biomin = 0\n",
    "biomax = 19"
   ]
  },
  {
   "cell_type": "code",
   "execution_count": 50,
   "id": "967e94de-d759-4c10-8ee0-fcd22c446dff",
   "metadata": {},
   "outputs": [
    {
     "name": "stdout",
     "output_type": "stream",
     "text": [
      "15\n",
      "16\n",
      "17\n",
      "18\n"
     ]
    }
   ],
   "source": [
    "#for i in range(biomin,biomax):\n",
    "for i in range(biomin,biomax):\n",
    "    print(i)\n",
    "    tmp = ee.Image(finalres.get(i))\n",
    "    task = ee.batch.Export.image.toCloudStorage(image = tmp,bucket='era5landbioclim',crs='EPSG:4326',\n",
    "                                            fileFormat='GeoTIFF',\n",
    "                                            maxPixels=1e13,scale=4638.312116386398,description='bio'+str(i+1)+'_'+str(year)+'_terraclimate',\n",
    "                                            region = roi)\n",
    "    task.start()"
   ]
  },
  {
   "cell_type": "markdown",
   "id": "61d4415c-fd26-418b-808d-d171a8a7fe3f",
   "metadata": {},
   "source": [
    "#### Export pet"
   ]
  },
  {
   "cell_type": "code",
   "execution_count": 12,
   "id": "a528539d-14d0-472c-bcee-3f6fa81cf5fc",
   "metadata": {},
   "outputs": [],
   "source": [
    "pet = col.select('pet')"
   ]
  },
  {
   "cell_type": "code",
   "execution_count": 7,
   "id": "d671c9de-6a8e-4b80-8a70-731ccf7deef0",
   "metadata": {
    "tags": []
   },
   "outputs": [
    {
     "name": "stdout",
     "output_type": "stream",
     "text": [
      "2000\n",
      "2001\n",
      "2002\n",
      "2003\n",
      "2004\n",
      "2005\n",
      "2006\n",
      "2007\n",
      "2008\n",
      "2009\n",
      "2010\n",
      "2011\n",
      "2012\n",
      "2013\n",
      "2014\n",
      "2015\n",
      "2016\n",
      "2017\n",
      "2018\n",
      "2019\n",
      "2020\n"
     ]
    }
   ],
   "source": [
    "for year in range(2000,2020+1):\n",
    "    print(year)\n",
    "    pet_i = pet.filterDate(str(year)+'-01-01',str(year)+'-12-31')\n",
    "    pet_year_i = pet_i.sum().toDouble()\n",
    "    task = ee.batch.Export.image.toCloudStorage(image = pet_year_i,bucket='terraclimatepet',crs='EPSG:4326',\n",
    "                                            fileFormat='GeoTIFF',\n",
    "                                            maxPixels=1e13,scale=4638.312116386398,description='pet'+'_sum_'+str(year)+'_terraclimate',\n",
    "                                            region = roi)\n",
    "    task.start()"
   ]
  },
  {
   "cell_type": "markdown",
   "id": "157100c1-5346-4f51-8696-7f6cd966ea26",
   "metadata": {},
   "source": [
    "#### Export precipitation"
   ]
  },
  {
   "cell_type": "code",
   "execution_count": 18,
   "id": "64e42970-c0db-4d0b-a955-809d0580c65e",
   "metadata": {},
   "outputs": [],
   "source": [
    "pr = col.select('pr')"
   ]
  },
  {
   "cell_type": "code",
   "execution_count": 19,
   "id": "5965dd70-962c-4309-8170-7a522372dde6",
   "metadata": {},
   "outputs": [
    {
     "name": "stdout",
     "output_type": "stream",
     "text": [
      "2000\n",
      "2001\n",
      "2002\n",
      "2003\n",
      "2004\n",
      "2005\n",
      "2006\n",
      "2007\n",
      "2008\n",
      "2009\n",
      "2010\n",
      "2011\n",
      "2012\n",
      "2013\n",
      "2014\n",
      "2015\n",
      "2016\n",
      "2017\n",
      "2018\n",
      "2019\n",
      "2020\n"
     ]
    }
   ],
   "source": [
    "for year in range(2000,2020+1):\n",
    "    print(year)\n",
    "    pr_i = pr.filterDate(str(year)+'-01-01',str(year)+'-12-31')\n",
    "    pr_year_i = pr_i.mean().toDouble()\n",
    "    task = ee.batch.Export.image.toCloudStorage(image = pr_year_i,bucket='terraclimatepet',crs='EPSG:4326',\n",
    "                                            fileFormat='GeoTIFF',\n",
    "                                            maxPixels=1e13,scale=4638.312116386398,description='pr'+'_mean_'+str(year)+'_terraclimate',\n",
    "                                            region = roi)\n",
    "    task.start()"
   ]
  }
 ],
 "metadata": {
  "kernelspec": {
   "display_name": "Python 3 (ipykernel)",
   "language": "python",
   "name": "python3"
  },
  "language_info": {
   "codemirror_mode": {
    "name": "ipython",
    "version": 3
   },
   "file_extension": ".py",
   "mimetype": "text/x-python",
   "name": "python",
   "nbconvert_exporter": "python",
   "pygments_lexer": "ipython3",
   "version": "3.10.12"
  }
 },
 "nbformat": 4,
 "nbformat_minor": 5
}
