{
 "cells": [
  {
   "cell_type": "code",
   "execution_count": 1,
   "id": "b4a44847-b867-4ccf-bb4d-65618761893d",
   "metadata": {},
   "outputs": [],
   "source": [
    "import ee\n",
    "ee.Initialize()"
   ]
  },
  {
   "cell_type": "code",
   "execution_count": 25,
   "id": "18d157ad-336d-4352-b701-1839a915ff9c",
   "metadata": {},
   "outputs": [],
   "source": [
    "dem = ee.Image(\"USGS/GMTED2010\")\n",
    "forestmask = ee.Image('users/marcogirardello/phenoutils/mask_unchanged_500m')\n",
    "smallgrid = ee.FeatureCollection('users/marcogirardello/phenoutils/grid_export_phenology')"
   ]
  },
  {
   "cell_type": "code",
   "execution_count": 7,
   "id": "0638cd8c-d4a9-45b0-9837-9290382a869f",
   "metadata": {},
   "outputs": [],
   "source": [
    "dem1 = dem.updateMask(forestmask.eq(1))"
   ]
  },
  {
   "cell_type": "code",
   "execution_count": 8,
   "id": "a54a67f4-559a-49da-837c-f1bc4af9edd4",
   "metadata": {},
   "outputs": [],
   "source": [
    "mean_dem = dem1.reduceResolution(ee.Reducer.mean(), bestEffort = False, maxPixels = 900).\\\n",
    "                          reproject(ee.Projection('EPSG:4326').scale(0.05, 0.05)).updateMask(1) "
   ]
  },
  {
   "cell_type": "code",
   "execution_count": 13,
   "id": "05386070-bb91-458c-8a5d-235382af723d",
   "metadata": {},
   "outputs": [],
   "source": [
    "mean_slope = ee.Terrain.slope(dem1).reduceResolution(ee.Reducer.mean(), bestEffort = False, maxPixels = 900).\\\n",
    "                          reproject(ee.Projection('EPSG:4326').scale(0.05, 0.05)).updateMask(1) "
   ]
  },
  {
   "cell_type": "code",
   "execution_count": 15,
   "id": "870dd387-d4b6-4281-a8d3-09dcde468b47",
   "metadata": {},
   "outputs": [],
   "source": [
    "std_slope = ee.Terrain.slope(dem1).reduceResolution(ee.Reducer.stdDev(), bestEffort = False, maxPixels = 900).\\\n",
    "                          reproject(ee.Projection('EPSG:4326').scale(0.05, 0.05)).updateMask(1) "
   ]
  },
  {
   "cell_type": "code",
   "execution_count": 16,
   "id": "0e85822f-762b-49bd-9634-4a8ccc581073",
   "metadata": {},
   "outputs": [],
   "source": [
    "std_dem = dem1.reduceResolution(ee.Reducer.stdDev(), bestEffort = False, maxPixels = 900).\\\n",
    "                          reproject(ee.Projection('EPSG:4326').scale(0.05, 0.05)).updateMask(1)"
   ]
  },
  {
   "cell_type": "code",
   "execution_count": 35,
   "id": "935e7339-f91f-4571-8e54-bca7e5169145",
   "metadata": {},
   "outputs": [],
   "source": [
    "polyl = list(range(1,42+1))"
   ]
  },
  {
   "cell_type": "code",
   "execution_count": 26,
   "id": "20e3b4e5-b4d7-40f9-b065-2bc1563d19e5",
   "metadata": {
    "collapsed": true,
    "jupyter": {
     "outputs_hidden": true
    },
    "tags": []
   },
   "outputs": [
    {
     "ename": "NameError",
     "evalue": "name 'polyl' is not defined",
     "output_type": "error",
     "traceback": [
      "\u001b[0;31m---------------------------------------------------------------------------\u001b[0m",
      "\u001b[0;31mNameError\u001b[0m                                 Traceback (most recent call last)",
      "\u001b[0;32m/tmp/ipykernel_149375/2753720989.py\u001b[0m in \u001b[0;36m<module>\u001b[0;34m\u001b[0m\n\u001b[1;32m      1\u001b[0m \u001b[0;31m# Remember year!\u001b[0m\u001b[0;34m\u001b[0m\u001b[0;34m\u001b[0m\u001b[0;34m\u001b[0m\u001b[0m\n\u001b[0;32m----> 2\u001b[0;31m \u001b[0;32mfor\u001b[0m \u001b[0mpoly\u001b[0m \u001b[0;32min\u001b[0m \u001b[0mpolyl\u001b[0m\u001b[0;34m:\u001b[0m\u001b[0;34m\u001b[0m\u001b[0;34m\u001b[0m\u001b[0m\n\u001b[0m\u001b[1;32m      3\u001b[0m     \u001b[0;31m#print(poly)\u001b[0m\u001b[0;34m\u001b[0m\u001b[0;34m\u001b[0m\u001b[0;34m\u001b[0m\u001b[0m\n\u001b[1;32m      4\u001b[0m     \u001b[0;31m# filter a given square\u001b[0m\u001b[0;34m\u001b[0m\u001b[0;34m\u001b[0m\u001b[0;34m\u001b[0m\u001b[0m\n\u001b[1;32m      5\u001b[0m     \u001b[0monesquare\u001b[0m \u001b[0;34m=\u001b[0m \u001b[0msmallgrid\u001b[0m\u001b[0;34m.\u001b[0m\u001b[0mfilterMetadata\u001b[0m\u001b[0;34m(\u001b[0m\u001b[0;34m'polyID'\u001b[0m\u001b[0;34m,\u001b[0m\u001b[0;34m'equals'\u001b[0m\u001b[0;34m,\u001b[0m\u001b[0mpoly\u001b[0m\u001b[0;34m)\u001b[0m\u001b[0;34m\u001b[0m\u001b[0;34m\u001b[0m\u001b[0m\n",
      "\u001b[0;31mNameError\u001b[0m: name 'polyl' is not defined"
     ]
    }
   ],
   "source": [
    "# Remember year!\n",
    "for poly in polyl:\n",
    "    #print(poly)\n",
    "    # filter a given square\n",
    "    onesquare = smallgrid.filterMetadata('polyID','equals',poly)\n",
    "    roi1 = ee.Geometry.Polygon(onesquare.geometry().getInfo().get('coordinates'))\n",
    "    roi1 = roi1.bounds()\n",
    "    # polygon number\n",
    "    polyname = 'mean_dem'+'_'+'poly_'+str(poly)\n",
    "    # export tile\n",
    "    filename = 'mean_dem'+'_'+'poly_'+str(poly)\n",
    "    task = ee.batch.Export.image.toCloudStorage(image = mean_dem,description = polyname,\n",
    "                                     bucket = 'topography_5km',fileNamePrefix = filename,\n",
    "                                     scale = 5565.974539663679,fileFormat='GeoTIFF',\n",
    "                                    skipEmptyTiles = True, crs ='EPSG:4326',maxPixels=1e13,\n",
    "                                    region = roi1)\n",
    "    task.start()"
   ]
  },
  {
   "cell_type": "markdown",
   "id": "378b5325-b383-4172-af69-b87c456c0b79",
   "metadata": {
    "tags": []
   },
   "source": [
    "#### Min and Max Elevation"
   ]
  },
  {
   "cell_type": "code",
   "execution_count": 34,
   "id": "f8bf160c-5dbd-4c95-b757-75576a516fbd",
   "metadata": {},
   "outputs": [],
   "source": [
    "max_dem = dem1.reduceResolution(ee.Reducer.max(), bestEffort = False, maxPixels = 900).\\\n",
    "                          reproject(ee.Projection('EPSG:4326').scale(0.05, 0.05)).updateMask(1) \n",
    "min_dem = dem1.reduceResolution(ee.Reducer.min(), bestEffort = False, maxPixels = 900).\\\n",
    "                          reproject(ee.Projection('EPSG:4326').scale(0.05, 0.05)).updateMask(1) \n",
    "range_dem = max_dem.subtract(min_dem)"
   ]
  },
  {
   "cell_type": "code",
   "execution_count": 38,
   "id": "0d05431d-3a73-40b6-a8ae-e2e03bde78b2",
   "metadata": {},
   "outputs": [
    {
     "data": {
      "text/plain": [
       "<ee.image.Image at 0x7f82b7542df0>"
      ]
     },
     "execution_count": 38,
     "metadata": {},
     "output_type": "execute_result"
    }
   ],
   "source": [
    "range_dem"
   ]
  },
  {
   "cell_type": "code",
   "execution_count": 39,
   "id": "f916b056-c5a5-4be0-ab03-ff04fb7fc41b",
   "metadata": {},
   "outputs": [
    {
     "name": "stdout",
     "output_type": "stream",
     "text": [
      "1\n",
      "2\n",
      "3\n",
      "4\n",
      "5\n",
      "6\n",
      "7\n",
      "8\n",
      "9\n",
      "10\n",
      "11\n",
      "12\n",
      "13\n",
      "14\n",
      "15\n",
      "16\n",
      "17\n",
      "18\n",
      "19\n",
      "20\n",
      "21\n",
      "22\n",
      "23\n",
      "24\n",
      "25\n",
      "26\n",
      "27\n",
      "28\n",
      "29\n",
      "30\n",
      "31\n",
      "32\n",
      "33\n",
      "34\n",
      "35\n",
      "36\n",
      "37\n",
      "38\n",
      "39\n",
      "40\n",
      "41\n",
      "42\n"
     ]
    }
   ],
   "source": [
    "# Remember year!\n",
    "for poly in polyl:\n",
    "    print(poly)\n",
    "    # filter a given square\n",
    "    onesquare = smallgrid.filterMetadata('polyID','equals',poly)\n",
    "    roi1 = ee.Geometry.Polygon(onesquare.geometry().getInfo().get('coordinates'))\n",
    "    roi1 = roi1.bounds()\n",
    "    # polygon number\n",
    "    polyname = 'range_dem'+'_'+'poly_'+str(poly)\n",
    "    # export tile\n",
    "    filename = 'range_dem'+'_'+'poly_'+str(poly)\n",
    "    task = ee.batch.Export.image.toCloudStorage(image = mean_dem,description = polyname,\n",
    "                                     bucket = 'topography_5km',fileNamePrefix = filename,\n",
    "                                     scale = 5565.974539663679,fileFormat='GeoTIFF',\n",
    "                                    skipEmptyTiles = True, crs ='EPSG:4326',maxPixels=1e13,\n",
    "                                    region = roi1)\n",
    "    task.start()"
   ]
  },
  {
   "cell_type": "code",
   "execution_count": 15,
   "id": "0607d0f4-353a-45db-bd8c-aec94be9f5f5",
   "metadata": {},
   "outputs": [],
   "source": []
  },
  {
   "cell_type": "code",
   "execution_count": 20,
   "id": "0cc749ae-9192-48e1-9d22-cbfc81b374a2",
   "metadata": {},
   "outputs": [],
   "source": [
    "#Map.addLayer(range,{'min':0,'max':1000,'palette':['blue','green','yellow','red']},'range')"
   ]
  },
  {
   "cell_type": "code",
   "execution_count": 22,
   "id": "7453efa6-1141-4e14-93f8-fbd82f266d65",
   "metadata": {},
   "outputs": [],
   "source": [
    "#Map"
   ]
  }
 ],
 "metadata": {
  "kernelspec": {
   "display_name": "Python 3 (ipykernel)",
   "language": "python",
   "name": "python3"
  },
  "language_info": {
   "codemirror_mode": {
    "name": "ipython",
    "version": 3
   },
   "file_extension": ".py",
   "mimetype": "text/x-python",
   "name": "python",
   "nbconvert_exporter": "python",
   "pygments_lexer": "ipython3",
   "version": "3.10.12"
  }
 },
 "nbformat": 4,
 "nbformat_minor": 5
}
