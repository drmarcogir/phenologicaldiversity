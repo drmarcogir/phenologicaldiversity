{
 "cells": [
  {
   "cell_type": "markdown",
   "id": "78d89c31-3c2b-4b98-893e-63c41c6911cb",
   "metadata": {},
   "source": [
    "## Calculate bioclim variables using from ERA5 land"
   ]
  },
  {
   "cell_type": "markdown",
   "id": "93ea586b-6142-4cb4-902c-47b1ed9349ed",
   "metadata": {},
   "source": [
    "#### E-mail and example script for precipitation\n",
    "https://groups.google.com/g/google-earth-engine-developers/c/Nekt6h8epGE/m/8h_CbkJOBAAJ\n",
    "https://code.earthengine.google.com/7ced5dd6e7ba1b0134e3747ccda93b36"
   ]
  },
  {
   "cell_type": "code",
   "execution_count": 1,
   "id": "cb413134-700d-4fd5-bafa-5e970e6bbada",
   "metadata": {},
   "outputs": [],
   "source": [
    "import ee\n",
    "ee.Initialize()\n",
    "import geemap\n",
    "#Map = geemap.Map()\n",
    "#from IPython.display import JSON\n",
    "import os"
   ]
  },
  {
   "cell_type": "markdown",
   "id": "1fe65654-9917-49fc-8d80-a4be7343e73d",
   "metadata": {},
   "source": [
    "#### Load ERA5 land collection"
   ]
  },
  {
   "cell_type": "code",
   "execution_count": 2,
   "id": "ea8854c5-6ddc-403a-b552-5ccf2e96c292",
   "metadata": {},
   "outputs": [],
   "source": [
    "#era5m = ee.ImageCollection(\"ECMWF/ERA5_LAND/MONTHLY\")\n",
    "era5h = ee.ImageCollection(\"ECMWF/ERA5_LAND/HOURLY\")"
   ]
  },
  {
   "cell_type": "code",
   "execution_count": 3,
   "id": "b85e5093-280c-49a9-8f9f-bfa0948f65b6",
   "metadata": {},
   "outputs": [],
   "source": [
    "# export polygon\n",
    "roi = ee.Geometry.Polygon(ee.FeatureCollection(\"users/marcogirardello/boundboxes/boxglobal1\").geometry().getInfo().get('coordinates')).bounds()"
   ]
  },
  {
   "cell_type": "code",
   "execution_count": 4,
   "id": "4bfcc1dc-83bb-4926-93e0-d5234a2b47c0",
   "metadata": {},
   "outputs": [],
   "source": [
    "def prec_agg(month):\n",
    "    # focal month\n",
    "    fmonth_tmp = ee.Date(year_ee.cat(month).cat(fday))\n",
    "    # advance start of one day\n",
    "    fmonth_start = fmonth_tmp.advance(1,'day')\n",
    "    # calculate end and advance end of one day\n",
    "    fmonth_end = fmonth_start.advance(1, 'month').advance(1,'day')\n",
    "    # filter collection calculate sum and multiply by 1000\n",
    "    return era5h.select('total_precipitation').filterMetadata('hour', 'equals',0).\\\n",
    "    filter(ee.Filter.date(fmonth_start, fmonth_end)).sum().multiply(1000).set({'month':month})\n",
    "\n",
    "def temp_min(month):\n",
    "    # focal month\n",
    "    fmonth_start = ee.Date(year_ee.cat(month).cat(fday))\n",
    "    # calculate end\n",
    "    fmonth_end = fmonth_start.advance(1, 'month')\n",
    "    # aggregate data to daily level\n",
    "    col = era5h.select('temperature_2m').filter(ee.Filter.date(fmonth_start, fmonth_end))\n",
    "    # days within month (based on collection size)\n",
    "    days = ee.List.sequence(start=1,end=fmonth_end.difference(fmonth_start, 'days'),step=1)\n",
    "    # min daily temperature\n",
    "    tmin = ee.ImageCollection(days.map(lambda inday:col.filter(ee.Filter.calendarRange(inday,inday,'day_of_month')).mean())).min().subtract(273.15).set({'month':month})\n",
    "    return(tmin)\n",
    "\n",
    "\n",
    "def temp_max(month):\n",
    "    # focal month\n",
    "    fmonth_start = ee.Date(year_ee.cat(month).cat(fday))\n",
    "    # calculate end\n",
    "    fmonth_end = fmonth_start.advance(1, 'month')\n",
    "    # aggregate data to daily level\n",
    "    col = era5h.select('temperature_2m').filter(ee.Filter.date(fmonth_start, fmonth_end))\n",
    "    # days within month (based on collection size)\n",
    "    days = ee.List.sequence(start=1,end=fmonth_end.difference(fmonth_start, 'days'),step=1)\n",
    "    # max daily temperature\n",
    "    tmax = ee.ImageCollection(days.map(lambda inday:col.filter(ee.Filter.calendarRange(inday,inday,'day_of_month')).mean())).max().subtract(273.15).set({'month':month})\n",
    "    return(tmax)\n",
    "\n",
    "def temp_mean(month):\n",
    "    # focal month\n",
    "    fmonth_start = ee.Date(year_ee.cat(month).cat(fday))\n",
    "    # calculate end\n",
    "    fmonth_end = fmonth_start.advance(1, 'month')\n",
    "    # aggregate data to daily level\n",
    "    col = era5h.select('temperature_2m').filter(ee.Filter.date(fmonth_start, fmonth_end))\n",
    "    # days within month (based on collection size)\n",
    "    days = ee.List.sequence(start=1,end=fmonth_end.difference(fmonth_start, 'days'),step=1)\n",
    "    # mean daily temperature\n",
    "    tmean = ee.ImageCollection(days.map(lambda inday:col.filter(ee.Filter.calendarRange(inday,inday,'day_of_month')).mean())).mean().subtract(273.15).set({'month':month})\n",
    "    return(tmean)\n",
    "\n",
    "def bio2_calc(month):\n",
    "    return tmax.filterMetadata('month','equals',month).first().\\\n",
    "    subtract(tmin.filterMetadata('month','equals',month)\\\n",
    "         .first())\n",
    "\n",
    "def bio2_calc1(month):\n",
    "    # focal month\n",
    "    fmonth_start = ee.Date(year_ee.cat(month).cat(fday))\n",
    "    # calculate end\n",
    "    fmonth_end = fmonth_start.advance(1, 'month')\n",
    "    # aggregate data to daily level\n",
    "    col = era5h.select('temperature_2m').filter(ee.Filter.date(fmonth_start, fmonth_end))\n",
    "    # days within month (based on collection size)\n",
    "    days = ee.List.sequence(start=1,end=fmonth_end.difference(fmonth_start, 'days'),step=1)\n",
    "    # mean daily temperature\n",
    "    tmax = ee.ImageCollection(days.map(lambda inday:col.filter(ee.Filter.calendarRange(inday,inday,'day_of_month')).mean())).max().subtract(273.15).set({'month':month})\n",
    "    tmin = ee.ImageCollection(days.map(lambda inday:col.filter(ee.Filter.calendarRange(inday,inday,'day_of_month')).mean())).min().subtract(273.15).set({'month':month})\n",
    "    return tmax.subtract(tmin)"
   ]
  },
  {
   "cell_type": "code",
   "execution_count": 5,
   "id": "7b0144fa-ddc5-42a2-8a0b-9745e8c6269a",
   "metadata": {},
   "outputs": [],
   "source": [
    "# list of months\n",
    "months =ee.List(['%02d' % month for month in range(1,12+1)])\n",
    "# filters so to divide the year in quarters\n",
    "q1 = ee.Filter.Or(ee.Filter.eq('month','01'),ee.Filter.eq('month','02'),ee.Filter.eq('month','03'))\n",
    "q2 = ee.Filter.Or(ee.Filter.eq('month','04'),ee.Filter.eq('month','05'),ee.Filter.eq('month','06'))\n",
    "q3 = ee.Filter.Or(ee.Filter.eq('month','07'),ee.Filter.eq('month','08'),ee.Filter.eq('month','09'))\n",
    "q4 = ee.Filter.Or(ee.Filter.eq('month','10'),ee.Filter.eq('month','11'),ee.Filter.eq('month','12'))"
   ]
  },
  {
   "cell_type": "code",
   "execution_count": 152,
   "id": "0a1ca88d-8725-4cc8-9b3f-fe468e301f1b",
   "metadata": {},
   "outputs": [],
   "source": [
    "#for i in range(2003,2020+1):\n",
    "#    #print(i)\n",
    "#    # loop through years\n",
    "#    year = ee.Number(i)\n",
    "#    # convert year into ee object\n",
    "#    year_ee = ee.String(str(year)+'-')\n",
    "#    # first day of the month into ee object\n",
    "#    fday = ee.String('-01')"
   ]
  },
  {
   "cell_type": "code",
   "execution_count": 12,
   "id": "c7b4d400-9dc0-4224-bf25-0698e7be2162",
   "metadata": {},
   "outputs": [
    {
     "name": "stdout",
     "output_type": "stream",
     "text": [
      "env: year=2000\n"
     ]
    }
   ],
   "source": [
    "# loop through years\n",
    "%env year = 2000\n",
    "year = int(os.environ['year'])\n",
    "# convert year into ee object\n",
    "year_ee = ee.String(str(year)+'-')\n",
    "# first day of the month into ee object\n",
    "fday = ee.String('-01')"
   ]
  },
  {
   "cell_type": "code",
   "execution_count": 13,
   "id": "cc2cf9a8-3335-4a5e-90db-d60ed5a142ae",
   "metadata": {},
   "outputs": [],
   "source": [
    "prec = ee.ImageCollection(months.map(prec_agg))\n",
    "tmin = ee.ImageCollection(months.map(temp_min))\n",
    "tmax = ee.ImageCollection(months.map(temp_max))\n",
    "tmean = ee.ImageCollection(months.map(temp_mean))"
   ]
  },
  {
   "cell_type": "code",
   "execution_count": 30,
   "id": "c0a41df6-2a66-4d7a-9c38-a49fdbbd380b",
   "metadata": {},
   "outputs": [],
   "source": [
    "# bio 1 (mean annual temperature)\n",
    "bio1 = ee.ImageCollection(months.map(temp_mean)).mean()\n",
    "# bio 2 Mean Diurnal Range\n",
    "bio2 = ee.ImageCollection(months.map(bio2_calc)).mean()\n",
    "# bio 4 (temperature seasonality)\n",
    "bio4 = ee.ImageCollection(months.map(temp_mean)).reduce(ee.Reducer.stdDev())\n",
    "# bio 5 (max temperature of warmest month)\n",
    "bio5 = tmax.max()\n",
    "# bio 6 (min temperature of the coldest month)\n",
    "bio6 = tmin.min()\n",
    "# bio 7 (temperature annual range)\n",
    "bio7 = bio5.subtract(bio6)\n",
    "#bio 8 (mean temperature of wettest quarter) \n",
    "bio8 = ee.ImageCollection([prec.filter(q1).sum().addBands(tmean.filter(q1).mean()),\n",
    "                    prec.filter(q2).sum().addBands(tmean.filter(q2).mean()),\n",
    "                    prec.filter(q3).sum().addBands(tmean.filter(q3).mean()),\n",
    "                    prec.filter(q4).sum().addBands(tmean.filter(q4).mean())]).reduce(ee.Reducer.max(2)).select('max1')\n",
    "# bio 9 (mean temperature of driest quarter) \n",
    "bio9 = ee.ImageCollection([prec.filter(q1).sum().addBands(tmean.filter(q1).mean()),\n",
    "                    prec.filter(q2).sum().addBands(tmean.filter(q2).mean()),\n",
    "                    prec.filter(q3).sum().addBands(tmean.filter(q3).mean()),\n",
    "                    prec.filter(q4).sum().addBands(tmean.filter(q4).mean())]).reduce(ee.Reducer.min(2)).select('min1')\n",
    "# bio 10 (mean temperature of warmest quarter)\n",
    "bio10 = ee.ImageCollection([tmean.filter(q1).mean(),tmean.filter(q2).mean(),tmean.filter(q3).mean(),tmean.filter(q4).mean()]).max()\n",
    "# bio 11 (mean temperature of coldest quarter)\n",
    "bio11 = ee.ImageCollection([tmean.filter(q1).mean(),tmean.filter(q2).mean(),tmean.filter(q3).mean(),tmean.filter(q4).mean()]).min()\n",
    "# bio 12 (total annual precipitation)\n",
    "bio12 = prec.sum()\n",
    "# bio 13 (precipitation of wettest month)\n",
    "bio13 = prec.max()\n",
    "# bio 14 (precipitation of driest month)\n",
    "bio14 = prec.min()\n",
    "# bio 15 (precipitation seasonality (coef variation))\n",
    "bio15 = prec.map(lambda image:image.add(1)).reduce(ee.Reducer.stdDev()).\\\n",
    "divide(prec.map(lambda image:image.add(1)).reduce(ee.Reducer.mean()))\n",
    "bio15 = bio15.multiply(100)\n",
    "# bio 16 (precipitation of wettest quarter)\n",
    "bio16 = ee.ImageCollection([prec.filter(q1).sum(),prec.filter(q2).sum(),prec.filter(q3).sum(),prec.filter(q4).sum()]).max()\n",
    "# bio 17 (precipitation of driest quarter)\n",
    "bio17 = ee.ImageCollection([prec.filter(q1).sum(),prec.filter(q2).sum(),prec.filter(q3).sum(),prec.filter(q4).sum()]).min()\n",
    "# bio 18 (precipitation of warmest quarter)\n",
    "bio18 = ee.ImageCollection([tmean.filter(q1).mean().addBands(prec.filter(q1).sum()),\n",
    "                          tmean.filter(q2).mean().addBands(prec.filter(q2).sum()),\n",
    "                          tmean.filter(q3).mean().addBands(prec.filter(q3).sum()),\n",
    "                          tmean.filter(q4).mean().addBands(prec.filter(q4).sum())]).reduce(ee.Reducer.max(2)).select('max1')\n",
    "# bio 19 (precipitation of coldest quarter) \n",
    "bio19 = ee.ImageCollection([tmean.filter(q1).mean().addBands(prec.filter(q1).sum()),\n",
    "                          tmean.filter(q2).mean().addBands(prec.filter(q2).sum()),\n",
    "                          tmean.filter(q3).mean().addBands(prec.filter(q3).sum()),\n",
    "                          tmean.filter(q4).mean().addBands(prec.filter(q4).sum())]).reduce(ee.Reducer.min(2)).select('min1')\n",
    "# bio 3 (isothermality)\n",
    "bio3 = bio2.divide(bio7).multiply(100)"
   ]
  },
  {
   "cell_type": "code",
   "execution_count": 31,
   "id": "72c47804-4ec8-43d0-bfe5-a2ea9b270c3c",
   "metadata": {},
   "outputs": [],
   "source": [
    "finalres = ee.List([bio1,bio2,bio3,bio4,bio5,bio6,bio7,bio8,bio9,bio10,bio11,bio12,bio13,bio14,bio15,\n",
    "                   bio16,bio17,bio18,bio19])"
   ]
  },
  {
   "cell_type": "code",
   "execution_count": 24,
   "id": "618aa918-bf50-4942-bab1-b0e621a402be",
   "metadata": {},
   "outputs": [
    {
     "name": "stdout",
     "output_type": "stream",
     "text": [
      "env: biomin=0\n",
      "env: biomax=3\n"
     ]
    }
   ],
   "source": [
    "%env biomin = 0\n",
    "%env biomax = 18\n",
    "biomin = int(os.environ['biomin'])\n",
    "biomax = int(os.environ['biomax'])"
   ]
  },
  {
   "cell_type": "code",
   "execution_count": 32,
   "id": "5a9301bd-2f53-4a1f-ab83-cbb77d9291f9",
   "metadata": {},
   "outputs": [],
   "source": [
    "for i in range(biomin,biomax):\n",
    "    tmp = ee.Image(finalres.get(i))\n",
    "    task = ee.batch.Export.image.toCloudStorage(image = tmp,bucket='era5landbioclim',crs='EPSG:4326',\n",
    "                                            fileFormat='GeoTIFF',\n",
    "                                            maxPixels=1e13,scale=11131.949079327358,description='bio'+str(i+1)+'_'+str(year),\n",
    "                                            region = roi)\n",
    "    task.start()"
   ]
  }
 ],
 "metadata": {
  "kernelspec": {
   "display_name": "Python 3",
   "language": "python",
   "name": "python3"
  },
  "language_info": {
   "codemirror_mode": {
    "name": "ipython",
    "version": 3
   },
   "file_extension": ".py",
   "mimetype": "text/x-python",
   "name": "python",
   "nbconvert_exporter": "python",
   "pygments_lexer": "ipython3",
   "version": "3.8.10"
  }
 },
 "nbformat": 4,
 "nbformat_minor": 5
}
