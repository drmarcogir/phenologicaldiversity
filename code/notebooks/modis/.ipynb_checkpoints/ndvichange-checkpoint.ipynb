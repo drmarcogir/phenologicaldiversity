{
 "cells": [
  {
   "cell_type": "markdown",
   "metadata": {},
   "source": [
    "## Yearly NDVI composite using three months with highest NDVI. Median taken across three months."
   ]
  },
  {
   "cell_type": "markdown",
   "metadata": {},
   "source": [
    "#### Load libraries"
   ]
  },
  {
   "cell_type": "code",
   "execution_count": 1,
   "metadata": {},
   "outputs": [],
   "source": [
    "import ee\n",
    "ee.Initialize()\n",
    "import geemap\n",
    "Map = geemap.Map()\n",
    "from IPython.display import JSON"
   ]
  },
  {
   "cell_type": "markdown",
   "metadata": {},
   "source": [
    "#### Required functions"
   ]
  },
  {
   "cell_type": "code",
   "execution_count": 2,
   "metadata": {},
   "outputs": [],
   "source": [
    "# add NDVI to data\n",
    "def addNDVI(image):\n",
    "    #image = image.updateMask(MakMarco.eq(1))\n",
    "    return image.addBands(image.normalizedDifference(['sur_refl_b02','sur_refl_b01']).rename('NDVI')).float()\n",
    "\n",
    "# function for extracting quality bits\n",
    "def getQABits(image, start, end, mascara):\n",
    "    # Compute the bits we need to extract.\n",
    "    pattern = 0\n",
    "    for i in range(start,end+1):\n",
    "        pattern += 2**i\n",
    "    # Return a single band image of the extracted QA bits, giving the     band a new name.\n",
    "    return image.select([0], [mascara]).bitwiseAnd(pattern).rightShift(start)\n",
    "\n",
    "# mask out low quality pixels (based on flags)\n",
    "def maskPixels(image0):\n",
    "    #Select the QA band\n",
    "    QA = image0.select('StateQA')\n",
    "    # Get the land_water_flag bits\n",
    "    landWaterFlag = getQABits(QA, 3, 5, 'land_water_flag')\n",
    "    #Get the cloud_state bits and find cloudy areas.\n",
    "    cloud = getQABits(QA, 0, 1, 'cloud_state').expression(\"b(0) == 1 || b(0) == 2\")\n",
    "    # Get the cloud_shadow bit\n",
    "    cloudShadows = getQABits(QA, 2, 2, 'cloud_shadow')\n",
    "    # Get the Pixel is adjacent to cloud bit\n",
    "    cloudAdjacent = getQABits(QA, 13, 13, 'cloud_adj')\n",
    "    # Get the internal cloud flag\n",
    "    cloud2 = getQABits(QA, 10, 10, 'cloud_internal')\n",
    "    # Get the internal fire flag\n",
    "    fire = getQABits(QA, 11, 11, 'fire_internal')\n",
    "    # Get the MOD35 snow/ice flag\n",
    "    snow1 = getQABits(QA, 12, 12, 'snow_MOD35')\n",
    "    # Get the internal snow flag\n",
    "    snow2 = getQABits(QA, 15, 15, 'snow_internal')\n",
    "    # create mask\n",
    "    mask = landWaterFlag.eq(1).And(cloud.Not()).And(cloudShadows.Not()).And(cloudAdjacent.Not()).And(cloud2.Not()).And(fire.Not()).And(snow1.Not()).And(snow2.Not())\n",
    "    return image0.updateMask(mask) \n",
    "\n",
    "def aggmonth(year):\n",
    "    tmp = collection.\\\n",
    "    filter(ee.Filter.calendarRange(year,year,'year'))\n",
    "    month = ee.List(list(range(1,12+1)))\n",
    "    tmp1 = month.map(lambda month:tmp.\\\n",
    "                     filter(ee.Filter.calendarRange(month,month,'month'))\\\n",
    "                     .median()\\\n",
    "                     .updateMask(forestmask.eq(1))\\\n",
    "                     .set({'system:time_start':ee.Date.fromYMD(year,month,1).millis()})) \n",
    "    return tmp1\n",
    "\n",
    "def filtermosaic_m2(month):\n",
    "    tmp = monthcol\\\n",
    "        .filterMetadata('month','equals',month)\\\n",
    "        .first()\n",
    "    tmp1 = tmp.updateMask(tmp.eq(mosaic_f1.select('constant')).Not())\n",
    "    return tmp1\n",
    "                    \n",
    "\n",
    "def filtermosaic_m3(month):\n",
    "    tmp = monthcol\\\n",
    "        .filterMetadata('month','equals',month)\\\n",
    "        .first()\n",
    "    tmp1 = tmp.updateMask(tmp.eq(mosaic_f1.select('constant')).Not()).updateMask(tmp.eq(mosaic_f2.select('constant')).Not())\n",
    "    return tmp1\n",
    "\n",
    "\n",
    "def addinfo_col(image):\n",
    "    month = ee.Number.parse(image.date().format('MM'))\n",
    "    res = image\\\n",
    "    .updateMask(forestmask.eq(1))\\\n",
    "    .addBands(ee.Image.constant(month).cast({'constant': ee.PixelType('int',0,31)}))\\\n",
    "    .set({'month':month})\n",
    "    return res\n",
    "\n",
    "def agg_meanmax(year):\n",
    "    tmp = collection_yearmonths.\\\n",
    "    filter(ee.Filter.calendarRange(year,year,'year'))"
   ]
  },
  {
   "cell_type": "markdown",
   "metadata": {},
   "source": [
    "#### Load collections"
   ]
  },
  {
   "cell_type": "code",
   "execution_count": 3,
   "metadata": {},
   "outputs": [],
   "source": [
    "# MODIS reflectances\n",
    "collection = ee.ImageCollection('MODIS/006/MOD09A1').filterDate('2000-01-01', '2020-12-31').map(maskPixels).map(addNDVI).select('NDVI')\n",
    "# forest mask (500 m resolution)\n",
    "forestmask = ee.Image('users/marcogirardello/phenoutils/mask_unchanged_500m')"
   ]
  },
  {
   "cell_type": "markdown",
   "metadata": {},
   "source": [
    "### Aggregate data at monthly level and create long term averages"
   ]
  },
  {
   "cell_type": "code",
   "execution_count": 4,
   "metadata": {},
   "outputs": [],
   "source": [
    "# year list \n",
    "year = ee.List(list(range(2001,2020+1)))\n",
    "\n",
    "# aggregate at monthly level within the same year\n",
    "collection_yearmonths = ee.ImageCollection.fromImages(year.map(aggmonth).flatten())\n",
    "\n",
    "# month list\n",
    "month = ee.List(list(range(1,12+1)))\n",
    "\n",
    "# average monthly data across years \n",
    "monthcol = ee.ImageCollection.fromImages(month.map(lambda month:collection_yearmonths\\\n",
    "                                                   .filter(ee.Filter.calendarRange(month,month,'month'))\\\n",
    "                                                   .median()\\\n",
    "                                                   .updateMask(forestmask.eq(1))\\\n",
    "                                                   .addBands(ee.Image.constant(month).cast({'constant': ee.PixelType('int',0,31)}))\\\n",
    "                                                   .set({'month':month})))"
   ]
  },
  {
   "cell_type": "markdown",
   "metadata": {},
   "source": [
    "### Quality mosaics: create separate quality mosaics, so to identify three filters i.e. 3 months when NDVI is highest"
   ]
  },
  {
   "cell_type": "code",
   "execution_count": 5,
   "metadata": {},
   "outputs": [],
   "source": [
    "month1 = monthcol.qualityMosaic('NDVI')\n",
    "mosaic1 = month1.select('constant')"
   ]
  },
  {
   "cell_type": "code",
   "execution_count": 6,
   "metadata": {},
   "outputs": [],
   "source": [
    "# month list\n",
    "month = ee.List(list(range(1,12+1)))\n",
    "# month mask\n",
    "mosaic_f1 = month1.select('constant')\n",
    "# exclude months from collection (pixelwise operation)\n",
    "month2 = ee.ImageCollection.fromImages(month.map(filtermosaic_m2)).qualityMosaic('NDVI')\n",
    "mosaic2 = month2.select('constant')"
   ]
  },
  {
   "cell_type": "code",
   "execution_count": 7,
   "metadata": {},
   "outputs": [],
   "source": [
    "# month list\n",
    "month = ee.List(list(range(1,12+1)))\n",
    "mosaic_f2 = month2.select('constant')\n",
    "month3 = ee.ImageCollection.fromImages(month.map(filtermosaic_m3)).qualityMosaic('NDVI')\n",
    "mosaic3 = month3.select('constant')"
   ]
  },
  {
   "cell_type": "code",
   "execution_count": 9,
   "metadata": {},
   "outputs": [],
   "source": [
    "# add month to original collection\n",
    "collection_yearmonths1 = collection_yearmonths.map(addinfo_col)"
   ]
  },
  {
   "cell_type": "markdown",
   "metadata": {},
   "source": [
    "### Create a yearly composite using three month with the highest NDVI values (median on max NDVI for three months of interest)"
   ]
  },
  {
   "cell_type": "code",
   "execution_count": 115,
   "metadata": {
    "jupyter": {
     "source_hidden": true
    },
    "tags": []
   },
   "outputs": [],
   "source": [
    "def filtermos_year(month):\n",
    "    tmp1 = tmp\\\n",
    "        .filterMetadata('month','equals',month)\\\n",
    "        .first()\n",
    "    tmp2 = tmp1.updateMask(tmp1.select('constant').eq(mosaic1.select('constant')))#.updateMask(tmp1.eq(mosaic2.select('constant'))).updateMask(tmp1.eq(mosaic3.select('constant')))\n",
    "    return tmp2"
   ]
  },
  {
   "cell_type": "code",
   "execution_count": 12,
   "metadata": {},
   "outputs": [],
   "source": [
    "year = ee.Number(2003)\n",
    "# step 1 filter by year\n",
    "tmp = collection_yearmonths1.\\\n",
    "     filter(ee.Filter.calendarRange(year,year,'year'))\n",
    "\n",
    "# step 2 filter months (mosaic stuff)\n",
    "month = ee.List(list(range(1,12+1)))\n"
   ]
  },
  {
   "cell_type": "code",
   "execution_count": 53,
   "metadata": {},
   "outputs": [],
   "source": [
    "def yearly_month(month):\n",
    "    tmp1 = tmp.filterMetadata('month','equals',month).first()\n",
    "    #tmp2 = tmp1.updateMask(tmp1.select('constant').eq(mosaic1.select('constant')))\\\n",
    "    tmp2 = tmp1.updateMask(tmp1.select('constant').eq(mosaic2.select('constant')))\\\n",
    "    #.updateMask(tmp1.select('constant').eq(mosaic3.select('constant')))\n",
    "    return tmp2"
   ]
  },
  {
   "cell_type": "code",
   "execution_count": 51,
   "metadata": {},
   "outputs": [],
   "source": [
    "# step 2 filter months (mosaic stuff)\n",
    "month = ee.List(list(range(1,12+1)))\n",
    "ciao = ee.ImageCollection.fromImages(month.map(yearly_month))\n",
    "dd = ciao.select('NDVI').count()"
   ]
  },
  {
   "cell_type": "code",
   "execution_count": 52,
   "metadata": {},
   "outputs": [],
   "source": [
    "Map.addLayer(dd,'','count')"
   ]
  },
  {
   "cell_type": "code",
   "execution_count": 54,
   "metadata": {},
   "outputs": [],
   "source": [
    "Map.addLayer(mosaic1,'','mosaic 1')\n",
    "Map.addLayer(mosaic1,'','mosaic 2')"
   ]
  },
  {
   "cell_type": "code",
   "execution_count": 41,
   "metadata": {
    "tags": []
   },
   "outputs": [],
   "source": [
    "Map = geemap.Map(center=(-6.1515,-68.8833), zoom=7)"
   ]
  },
  {
   "cell_type": "code",
   "execution_count": 42,
   "metadata": {
    "tags": []
   },
   "outputs": [
    {
     "data": {
      "application/vnd.jupyter.widget-view+json": {
       "model_id": "af318d417bd24edd826184e456dc0654",
       "version_major": 2,
       "version_minor": 0
      },
      "text/plain": [
       "Map(center=[-6.1515, -68.8833], controls=(WidgetControl(options=['position', 'transparent_bg'], widget=HBox(ch…"
      ]
     },
     "metadata": {},
     "output_type": "display_data"
    }
   ],
   "source": [
    "Map"
   ]
  },
  {
   "cell_type": "markdown",
   "metadata": {},
   "source": [
    "### Time slices"
   ]
  },
  {
   "cell_type": "code",
   "execution_count": 205,
   "metadata": {},
   "outputs": [],
   "source": [
    "roi = ee.Geometry.Polygon(ee.FeatureCollection(\"users/marcogirardello/boundboxes/boxglobal1\").geometry().getInfo().get('coordinates'))"
   ]
  },
  {
   "cell_type": "code",
   "execution_count": 215,
   "metadata": {},
   "outputs": [],
   "source": [
    "p1 = ee.List(list(range(2003,2011+1)))\n",
    "p2 = ee.List(list(range(2011,2020+1)))\n",
    "p1 = ee.ImageCollection(p1.map(lambda year:collection.filter(ee.Filter.calendarRange(year,year,'year')).max())).median().updateMask(forestmask.eq(1))\n",
    "p2 = ee.ImageCollection(p2.map(lambda year:collection.filter(ee.Filter.calendarRange(year,year,'year')).max())).median().updateMask(forestmask.eq(1))\n",
    "ndvidif = p2.subtract(p1)#.setDefaultProjection(crs = 'SR-ORG:6974',scale = 463.3127165275).reduceResolution(ee.Reducer.mean(),bestEffort = False,maxPixels = 300)"
   ]
  },
  {
   "cell_type": "markdown",
   "metadata": {},
   "source": [
    "### Yearly data"
   ]
  },
  {
   "cell_type": "code",
   "execution_count": 227,
   "metadata": {},
   "outputs": [
    {
     "name": "stdout",
     "output_type": "stream",
     "text": [
      "2003\n",
      "2004\n",
      "2005\n",
      "2006\n",
      "2007\n",
      "2008\n",
      "2009\n",
      "2010\n",
      "2011\n",
      "2012\n",
      "2013\n",
      "2014\n",
      "2015\n",
      "2016\n",
      "2017\n",
      "2018\n",
      "2019\n",
      "2020\n"
     ]
    }
   ],
   "source": [
    "for i in range(2003,2020+1):\n",
    "    print(i)\n",
    "    img = collection.filter(ee.Filter.calendarRange(i,i,'year')).max().updateMask(forestmask.eq(1))\n",
    "    task = ee.batch.Export.image.toCloudStorage(image = img,region = roi,bucket='yearlymaxndvi',\n",
    "                                            scale= 463.3127165275,fileFormat='GeoTIFF',\n",
    "                                            skipEmptyTiles = True, crs ='EPSG:4326',maxPixels=1e13,\n",
    "                                           description='y_'+str(i)+'_500m',fileNamePrefix = 'y_'+str(i)+'_500m')\n",
    "    task.start()    \n",
    "    "
   ]
  }
 ],
 "metadata": {
  "kernelspec": {
   "display_name": "Python 3",
   "language": "python",
   "name": "python3"
  },
  "language_info": {
   "codemirror_mode": {
    "name": "ipython",
    "version": 3
   },
   "file_extension": ".py",
   "mimetype": "text/x-python",
   "name": "python",
   "nbconvert_exporter": "python",
   "pygments_lexer": "ipython3",
   "version": "3.8.10"
  }
 },
 "nbformat": 4,
 "nbformat_minor": 4
}
