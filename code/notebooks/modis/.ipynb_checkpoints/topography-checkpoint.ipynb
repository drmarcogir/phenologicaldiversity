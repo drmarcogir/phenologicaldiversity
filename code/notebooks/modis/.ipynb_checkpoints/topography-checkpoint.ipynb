{
 "cells": [
  {
   "cell_type": "code",
   "execution_count": 1,
   "id": "b4a44847-b867-4ccf-bb4d-65618761893d",
   "metadata": {},
   "outputs": [],
   "source": [
    "import ee\n",
    "ee.Initialize()"
   ]
  },
  {
   "cell_type": "code",
   "execution_count": 33,
   "id": "18d157ad-336d-4352-b701-1839a915ff9c",
   "metadata": {},
   "outputs": [],
   "source": [
    "dem = ee.Image(\"USGS/GMTED2010\")\n",
    "forestmask = ee.Image('users/marcogirardello/phenoutils/mask_unchanged_500m')\n",
    "smallgrid = ee.FeatureCollection('users/marcogirardello/phenoutils/grid_export_phenology')"
   ]
  },
  {
   "cell_type": "code",
   "execution_count": 4,
   "id": "0638cd8c-d4a9-45b0-9837-9290382a869f",
   "metadata": {},
   "outputs": [],
   "source": [
    "dem1 = dem.updateMask(forestmask.eq(1))"
   ]
  },
  {
   "cell_type": "code",
   "execution_count": 10,
   "id": "a54a67f4-559a-49da-837c-f1bc4af9edd4",
   "metadata": {},
   "outputs": [],
   "source": [
    "mean_dem = dem1.reduceResolution(ee.Reducer.mean(), bestEffort = False, maxPixels = 900).\\\n",
    "                          reproject(ee.Projection('EPSG:4326').scale(0.05, 0.05)).updateMask(1) "
   ]
  },
  {
   "cell_type": "code",
   "execution_count": 13,
   "id": "05386070-bb91-458c-8a5d-235382af723d",
   "metadata": {},
   "outputs": [],
   "source": [
    "mean_slope = ee.Terrain.slope(dem1).reduceResolution(ee.Reducer.mean(), bestEffort = False, maxPixels = 900).\\\n",
    "                          reproject(ee.Projection('EPSG:4326').scale(0.05, 0.05)).updateMask(1) "
   ]
  },
  {
   "cell_type": "code",
   "execution_count": 15,
   "id": "870dd387-d4b6-4281-a8d3-09dcde468b47",
   "metadata": {},
   "outputs": [],
   "source": [
    "std_slope = ee.Terrain.slope(dem1).reduceResolution(ee.Reducer.stdDev(), bestEffort = False, maxPixels = 900).\\\n",
    "                          reproject(ee.Projection('EPSG:4326').scale(0.05, 0.05)).updateMask(1) "
   ]
  },
  {
   "cell_type": "code",
   "execution_count": 16,
   "id": "0e85822f-762b-49bd-9634-4a8ccc581073",
   "metadata": {},
   "outputs": [],
   "source": [
    "std_dem = dem1.reduceResolution(ee.Reducer.stdDev(), bestEffort = False, maxPixels = 900).\\\n",
    "                          reproject(ee.Projection('EPSG:4326').scale(0.05, 0.05)).updateMask(1)"
   ]
  },
  {
   "cell_type": "code",
   "execution_count": 40,
   "id": "935e7339-f91f-4571-8e54-bca7e5169145",
   "metadata": {},
   "outputs": [],
   "source": [
    "polyl = list(range(1,42+1))"
   ]
  },
  {
   "cell_type": "code",
   "execution_count": null,
   "id": "20e3b4e5-b4d7-40f9-b065-2bc1563d19e5",
   "metadata": {},
   "outputs": [],
   "source": [
    "# Remember year!\n",
    "for poly in polyl:\n",
    "    #print(poly)\n",
    "    # filter a given square\n",
    "    onesquare = smallgrid.filterMetadata('polyID','equals',poly)\n",
    "    roi1 = ee.Geometry.Polygon(onesquare.geometry().getInfo().get('coordinates'))\n",
    "    roi1 = roi1.bounds()\n",
    "    # polygon number\n",
    "    polyname = 'mean_dem'+'_'+'poly_'+str(poly)\n",
    "    # export tile\n",
    "    filename = 'mean_dem'+'_'+'poly_'+str(poly)\n",
    "    task = ee.batch.Export.image.toCloudStorage(image = mean_dem,description = polyname,\n",
    "                                     bucket = 'topography_5km',fileNamePrefix = filename,\n",
    "                                     scale = 5565.974539663679,fileFormat='GeoTIFF',\n",
    "                                    skipEmptyTiles = True, crs ='EPSG:4326',maxPixels=1e13,\n",
    "                                    region = roi1)\n",
    "    task.start()"
   ]
  },
  {
   "cell_type": "code",
   "execution_count": 42,
   "id": "2b7af9df-c4e1-446f-8919-5883b5c7dcc4",
   "metadata": {},
   "outputs": [],
   "source": [
    "year = 2016"
   ]
  },
  {
   "cell_type": "code",
   "execution_count": 44,
   "id": "8b27e1ef-d039-4a70-b2bb-7e2638b77318",
   "metadata": {},
   "outputs": [
    {
     "name": "stdout",
     "output_type": "stream",
     "text": [
      "test\n"
     ]
    }
   ],
   "source": [
    "if year > 2015:\n",
    "    print(\"test\")"
   ]
  }
 ],
 "metadata": {
  "kernelspec": {
   "display_name": "Python 3",
   "language": "python",
   "name": "python3"
  },
  "language_info": {
   "codemirror_mode": {
    "name": "ipython",
    "version": 3
   },
   "file_extension": ".py",
   "mimetype": "text/x-python",
   "name": "python",
   "nbconvert_exporter": "python",
   "pygments_lexer": "ipython3",
   "version": "3.8.10"
  }
 },
 "nbformat": 4,
 "nbformat_minor": 5
}
