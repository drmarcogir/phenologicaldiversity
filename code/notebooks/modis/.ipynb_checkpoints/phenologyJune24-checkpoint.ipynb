{
 "cells": [
  {
   "cell_type": "code",
   "execution_count": 1,
   "metadata": {},
   "outputs": [],
   "source": [
    "# load required modules\n",
    "import ee\n",
    "ee.Initialize()"
   ]
  },
  {
   "cell_type": "code",
   "execution_count": 2,
   "metadata": {},
   "outputs": [],
   "source": [
    "# Import map\n",
    "import geemap\n",
    "Map = geemap.Map()"
   ]
  },
  {
   "cell_type": "markdown",
   "metadata": {},
   "source": [
    "## Create composites using the yearly MODIS phenology product "
   ]
  },
  {
   "cell_type": "code",
   "execution_count": 3,
   "metadata": {},
   "outputs": [],
   "source": [
    "# function for extracting quality bits\n",
    "def getQABits(image, start, end, mascara):\n",
    "    # Compute the bits we need to extract.\n",
    "    pattern = 0\n",
    "    for i in range(start,end+1):\n",
    "        pattern += 2**i\n",
    "    # Return a single band image of the extracted QA bits, giving the     band a new name.\n",
    "    return image.select([0], [mascara]).bitwiseAnd(pattern).rightShift(start)\n",
    "    \n",
    "# function for filtering image based on quality bits\n",
    "def mask_pixelsall(bstart,bend):\n",
    "    def maskPixels(image0):\n",
    "        tmp = image0.select('QA_Detailed_1')\n",
    "        quality = getQABits(tmp, bstart, bend, 'QA_Detailed_1')\n",
    "        # Create a mask that filters out undesired areas\n",
    "        mask = quality.eq(0).Or(quality.eq(1)).Or(quality.eq(2))\n",
    "        return image0.updateMask(mask) \n",
    "    return(maskPixels)\n",
    "\n",
    "# function for masking areas where there have not land use changes. This layer was created using the ESA cci map\n",
    "def mask_image(image):\n",
    "    image = image.updateMask(MakMarco.eq(1))\n",
    "    return image\n",
    "\n",
    "# convert feature collection into feature collection with no geometry (easier to save)\n",
    "def convert(feature):\n",
    "    res = ee.Feature(None,feature.toDictionary())\n",
    "    return(res)"
   ]
  },
  {
   "cell_type": "code",
   "execution_count": 4,
   "metadata": {},
   "outputs": [],
   "source": [
    "# ---- load datasets\n",
    "# load MODIS phenology product\n",
    "modis_phenoprod = ee.ImageCollection('MODIS/006/MCD12Q2')\n",
    "# load mask of unchanged forest pixels\n",
    "MakMarco = ee.Image(\"users/marcogirardello/phenoutils/mask_unchanged_500m\")\n",
    "\n"
   ]
  },
  {
   "cell_type": "code",
   "execution_count": 8,
   "metadata": {},
   "outputs": [],
   "source": [
    "year = 2016"
   ]
  },
  {
   "cell_type": "code",
   "execution_count": 10,
   "metadata": {},
   "outputs": [
    {
     "data": {
      "text/plain": [
       "'GUP_2016'"
      ]
     },
     "execution_count": 10,
     "metadata": {},
     "output_type": "execute_result"
    }
   ],
   "source": [
    "'GUP_'+str(year)"
   ]
  },
  {
   "cell_type": "code",
   "execution_count": 11,
   "metadata": {},
   "outputs": [],
   "source": [
    "# years\n",
    "years = list([2016])\n",
    "\n",
    "for year in years:\n",
    "    # filter for year of interest\n",
    "    pheno_tmp = modis_phenoprod.filter(ee.Filter.date(str(year)+'-01-01', str(year+1)+'-01-01'))\n",
    "    # ------- Greenup\n",
    "    GUP = pheno_tmp.select(['Greenup_1','QA_Detailed_1'])\n",
    "    # only take pixels above a certain threshold level\n",
    "    GUP1 = GUP.map(mask_pixelsall(bstart=0,bend=1)).select('Greenup_1').first()\n",
    "    # filter using mask where pixels have been stable\n",
    "    GUP2 = GUP1.updateMask(MakMarco.eq(1))\n",
    "    #Export image to google drive\n",
    "    task = ee.batch.Export.image.toDrive(image =  GUP2,description ='GUP_'+str(year),folder=\"phenology\",scale = 463.3127165275,\n",
    "                                        fileFormat='GeoTIFF',skipEmptyTiles = True, crs ='EPSG:4326',maxPixels=1e13)\n",
    "    task.start()\n",
    "    \n",
    "    # ------- MidGreenup\n",
    "    MGUP = pheno_tmp.select(['MidGreenup_1','QA_Detailed_1'])\n",
    "    # only take pixels above a certain threshold level\n",
    "    MGUP1 = MGUP.map(mask_pixelsall(bstart=2,bend=3)).select('MidGreenup_1').first()\n",
    "    # filter using mask where pixels have been stable\n",
    "    MGUP2 = MGUP1.updateMask(MakMarco.eq(1))\n",
    "    #Export image to google drive\n",
    "    task = ee.batch.Export.image.toDrive(image =  MGUP2,description ='MGUP_'+str(year),folder=\"phenology\",scale = 463.3127165275,\n",
    "                                        fileFormat='GeoTIFF',skipEmptyTiles = True, crs ='EPSG:4326',maxPixels=1e13)\n",
    "    task.start()\n",
    "    \n",
    "    # ------- Maturity\n",
    "    MAT = pheno_tmp.select(['Maturity_1','QA_Detailed_1'])\n",
    "    # only take pixels above a certain threshold level\n",
    "    MAT1 = MAT.map(mask_pixelsall(bstart=4,bend=5)).select('Maturity_1').first()\n",
    "    # filter using mask where pixels have been stable\n",
    "    MAT2 = MAT1.updateMask(MakMarco.eq(1))\n",
    "    #Export image to google drive\n",
    "    task = ee.batch.Export.image.toDrive(image =  MAT2,description ='MAT_'+str(year),folder=\"phenology\",scale = 463.3127165275,\n",
    "                                        fileFormat='GeoTIFF',skipEmptyTiles = True, crs ='EPSG:4326',maxPixels=1e13)\n",
    "    task.start()\n",
    "    \n",
    "    # ------- Peak\n",
    "    Peak = pheno_tmp.select(['Peak_1','QA_Detailed_1'])\n",
    "    # only take pixels above a certain threshold level\n",
    "    Peak1 = Peak.map(mask_pixelsall(bstart=6,bend=7)).select('Peak_1').first()\n",
    "    # filter using mask where pixels have been stable\n",
    "    Peak2 = Peak1.updateMask(MakMarco.eq(1))\n",
    "    #Export image to google drive\n",
    "    task = ee.batch.Export.image.toDrive(image =  Peak2,description ='Peak_'+str(year),folder=\"phenology\",scale = 463.3127165275,\n",
    "                                        fileFormat='GeoTIFF',skipEmptyTiles = True, crs ='EPSG:4326',maxPixels=1e13)\n",
    "    task.start()\n",
    "    \n",
    "    # ------- Senescence\n",
    "    SEN = pheno_tmp.select(['Senescence_1','QA_Detailed_1'])\n",
    "    # only take pixels above a certain threshold level\n",
    "    SEN1 = SEN.map(mask_pixelsall(bstart=8,bend=9)).select('Senescence_1').first()\n",
    "    # filter using mask where pixels have been stable\n",
    "    SEN2 = SEN1.updateMask(MakMarco.eq(1))\n",
    "    #Export image to google drive\n",
    "    task = ee.batch.Export.image.toDrive(image =  SEN2,description ='SEN_'+str(year),folder=\"phenology\",scale = 463.3127165275,\n",
    "                                        fileFormat='GeoTIFF',skipEmptyTiles = True, crs ='EPSG:4326',maxPixels=1e13)\n",
    "    task.start()\n",
    "    \n",
    "    # ------- MidGreendown\n",
    "    MGDO = pheno_tmp.select(['MidGreendown_1','QA_Detailed_1'])\n",
    "    # only take pixels above a certain threshold level\n",
    "    MGDO1 = MGDO.map(mask_pixelsall(bstart=10,bend=11)).select('MidGreendown_1').first()\n",
    "    # filter using mask where pixels have been stable\n",
    "    MGDO2 = MGDO1.updateMask(MakMarco.eq(1))\n",
    "    #Export image to google drive\n",
    "    task = ee.batch.Export.image.toDrive(image =  MGDO2,description ='MGDO_'+str(year),folder=\"phenology\",scale = 463.3127165275,\n",
    "                                        fileFormat='GeoTIFF',skipEmptyTiles = True, crs ='EPSG:4326',maxPixels=1e13)\n",
    "    task.start()\n",
    "\n",
    "    # ------- Dormancy\n",
    "    Dormancy = pheno_tmp.select(['Dormancy_1','QA_Detailed_1'])\n",
    "    # only take pixels above a certain threshold level\n",
    "    Dormancy1 = Dormancy.map(mask_pixelsall(bstart=12,bend=13)).select('Dormancy_1').first()\n",
    "    # filter using mask where pixels have been stable\n",
    "    Dormancy2 = Dormancy1.updateMask(MakMarco.eq(1))\n",
    "    #Export image to google drive\n",
    "    task = ee.batch.Export.image.toDrive(image =  Dormancy2,description ='Dormancy_'+str(year),folder=\"phenology\",scale = 463.3127165275,\n",
    "                                        fileFormat='GeoTIFF',skipEmptyTiles = True, crs ='EPSG:4326',maxPixels=1e13)\n",
    "    task.start()\n",
    "\n"
   ]
  },
  {
   "cell_type": "code",
   "execution_count": 51,
   "metadata": {},
   "outputs": [],
   "source": [
    "# lists where images will be appended\n",
    "# Greenup\n",
    "GUPl = ee.List([])\n",
    "# Peak\n",
    "Peakl = ee.List([])\n",
    "# Dormancy\n",
    "Dormancyl = ee.List([])\n",
    "\n",
    "# years\n",
    "years = list(range(2001, 2016+1))\n",
    "\n",
    "for year in years:\n",
    "    # filter for year of interest\n",
    "    pheno_tmp = modis_phenoprod.filter(ee.Filter.date(str(year)+'-01-01', str(year+1)+'-01-01'))\n",
    "    # ------- Greenup\n",
    "    GUP = pheno_tmp.select(['Greenup_1','QA_Detailed_1'])\n",
    "    # only take pixels above a certain threshold level\n",
    "    GUP1 = GUP.map(mask_pixelsall(bstart=0,bend=1)).select('Greenup_1').first()\n",
    "    # filter using mask where pixels have been stable\n",
    "    GUP2 = GUP1.updateMask(MakMarco.eq(1))\n",
    "    # append to list\n",
    "    GUPl = GUPl.add(GUP2)\n",
    "    # ------- Peak\n",
    "    # subset Peak for given year\n",
    "    Peak = pheno_tmp.select(['Peak_1','QA_Detailed_1'])\n",
    "    # only take pixels above a certain threshold level\n",
    "    Peak1 = Peak.map(mask_pixelsall(bstart=6,bend=7)).select('Peak_1').first()\n",
    "    # filter using mask where pixels have been stable\n",
    "    Peak2 = Peak1.updateMask(MakMarco.eq(1))\n",
    "    # append to list\n",
    "    Peakl = Peakl.add(Peak2)\n",
    "    # ------- Dormancy\n",
    "    Dormancy = pheno_tmp.select(['Dormancy_1','QA_Detailed_1'])\n",
    "    # only take pixels above a certain threshold level\n",
    "    Dormancy1 = Dormancy.map(mask_pixelsall(bstart=12,bend=13)).select('Dormancy_1').first()\n",
    "    # filter using mask where pixels have been stable\n",
    "    Dormancy2 = Dormancy1.updateMask(MakMarco.eq(1))\n",
    "    # append to list\n",
    "    Dormancyl = Dormancyl.add(Dormancy2)"
   ]
  },
  {
   "cell_type": "code",
   "execution_count": 52,
   "metadata": {},
   "outputs": [],
   "source": [
    "# convert lists into image collection\n",
    "GUPic = ee.ImageCollection(GUPl)\n",
    "Peakic = ee.ImageCollection(Peakl)\n",
    "Dormancyic = ee.ImageCollection(Dormancyl)"
   ]
  },
  {
   "cell_type": "code",
   "execution_count": 53,
   "metadata": {},
   "outputs": [],
   "source": [
    "# calculate the median of the collections across years\n",
    "GUPicm = GUPic.median()\n",
    "Peakicm = Peakic.median()\n",
    "Dormancyicm = Dormancyic.median()"
   ]
  },
  {
   "cell_type": "code",
   "execution_count": null,
   "metadata": {},
   "outputs": [],
   "source": [
    "#Export collection medians to google drive\n",
    "# GUP\n",
    "task = ee.batch.Export.image.toDrive(image = GUPicm,description ='GUP',folder=\"phenology\",scale = 463.3127165275,\n",
    "                                        fileFormat='GeoTIFF',skipEmptyTiles = True, crs ='EPSG:4326',maxPixels=1e13)\n",
    "task.start()\n",
    "# Peak\n",
    "task = ee.batch.Export.image.toDrive(image = Peakicm,description ='GUP',folder=\"phenology\",scale = 463.3127165275,\n",
    "                                        fileFormat='GeoTIFF',skipEmptyTiles = True, crs ='EPSG:4326',maxPixels=1e13)\n",
    "task.start()\n",
    "# Dormancy\n",
    "task = ee.batch.Export.image.toDrive(image = Dormancyicm,description ='GUP',folder=\"phenology\",scale = 463.3127165275,\n",
    "                                        fileFormat='GeoTIFF',skipEmptyTiles = True, crs ='EPSG:4326',maxPixels=1e13)\n",
    "task.start()"
   ]
  }
 ],
 "metadata": {
  "kernelspec": {
   "display_name": "Python 3",
   "language": "python",
   "name": "python3"
  },
  "language_info": {
   "codemirror_mode": {
    "name": "ipython",
    "version": 3
   },
   "file_extension": ".py",
   "mimetype": "text/x-python",
   "name": "python",
   "nbconvert_exporter": "python",
   "pygments_lexer": "ipython3",
   "version": "3.8.10"
  },
  "varInspector": {
   "cols": {
    "lenName": 16,
    "lenType": 16,
    "lenVar": 40
   },
   "kernels_config": {
    "python": {
     "delete_cmd_postfix": "",
     "delete_cmd_prefix": "del ",
     "library": "var_list.py",
     "varRefreshCmd": "print(var_dic_list())"
    },
    "r": {
     "delete_cmd_postfix": ") ",
     "delete_cmd_prefix": "rm(",
     "library": "var_list.r",
     "varRefreshCmd": "cat(var_dic_list()) "
    }
   },
   "types_to_exclude": [
    "module",
    "function",
    "builtin_function_or_method",
    "instance",
    "_Feature"
   ],
   "window_display": false
  }
 },
 "nbformat": 4,
 "nbformat_minor": 4
}
