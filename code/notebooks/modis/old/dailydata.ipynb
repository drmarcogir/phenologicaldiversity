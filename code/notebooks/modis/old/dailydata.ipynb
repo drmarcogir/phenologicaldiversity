{
 "cells": [
  {
   "cell_type": "code",
   "execution_count": 1,
   "metadata": {},
   "outputs": [],
   "source": [
    "import os\n",
    "import ee\n",
    "ee.Initialize()\n",
    "import pandas as pd\n",
    "from IPython.display import JSON"
   ]
  },
  {
   "cell_type": "code",
   "execution_count": 8,
   "metadata": {},
   "outputs": [],
   "source": [
    "# add dn for product aggregated into 8 days\n",
    "def add_dn_date(img,beginDate=None,n=None,IncludeYear=False):\n",
    "    if beginDate is None:\n",
    "        beginDate = img.get('system:time_start')\n",
    "    else:\n",
    "        beginDate = beginDate\n",
    "    if IncludeYear is False:\n",
    "        IncludeYear = True\n",
    "    if n is None:\n",
    "        n = 8\n",
    "    beginDate = ee.Date(beginDate)\n",
    "    year  = beginDate.get('year')\n",
    "    month = beginDate.get('month')\n",
    "    diff  = beginDate.difference(ee.Date.fromYMD(year, 1, 1), 'day').add(1)\n",
    "    dn    = diff.subtract(1).divide(n).floor().add(1).int()\n",
    "    yearstr  = year.format('%d') \n",
    "    dn = dn.format('%02d')\n",
    "    return ee.Image(img).set('system:time_start', beginDate.millis()).set('date', beginDate.format('yyyy-MM-dd')).set('Year', yearstr).set('Month',beginDate.format('MM')).set('YearMonth', beginDate.format('YYYY-MM')).set('dn', dn)\n",
    "\n",
    "# wrapper function for add_dn_date\n",
    "def add_dn_date_all(Year,days):\n",
    "    def wrapper(image0):\n",
    "        tmp = add_dn_date(img = image0,IncludeYear=Year,n = days)\n",
    "        return tmp\n",
    "    return (wrapper)\n",
    "\n",
    "# add NDVI to data\n",
    "def addNDVI(image):\n",
    "    #image = image.updateMask(MakMarco.eq(1))\n",
    "    return image.addBands(image.normalizedDifference(['sur_refl_b02','sur_refl_b01']).rename('NDVI')).float()\n",
    "\n",
    "# function for extracting quality bits\n",
    "def getQABits(image, start, end, mascara):\n",
    "    # Compute the bits we need to extract.\n",
    "    pattern = 0\n",
    "    for i in range(start,end+1):\n",
    "        pattern += 2**i\n",
    "    # Return a single band image of the extracted QA bits, giving the     band a new name.\n",
    "    return image.select([0], [mascara]).bitwiseAnd(pattern).rightShift(start)\n",
    "\n",
    "# mask out low quality pixels (based on flags)\n",
    "def maskPixels(image0):\n",
    "    #Select the QA band\n",
    "    QA = image0.select('state_1km')\n",
    "    # Get the land_water_flag bits\n",
    "    landWaterFlag = getQABits(QA, 3, 5, 'land_water_flag')\n",
    "    #Get the cloud_state bits and find cloudy areas.\n",
    "    cloud = getQABits(QA, 0, 1, 'cloud_state').expression(\"b(0) == 1 || b(0) == 2\")\n",
    "    # Get the cloud_shadow bit\n",
    "    cloudShadows = getQABits(QA, 2, 2, 'cloud_shadow')\n",
    "    # Get the Pixel is adjacent to cloud bit\n",
    "    cloudAdjacent = getQABits(QA, 13, 13, 'cloud_adj')\n",
    "    # Get the internal cloud flag\n",
    "    cloud2 = getQABits(QA, 10, 10, 'cloud_internal')\n",
    "    # Get the internal fire flag\n",
    "    fire = getQABits(QA, 11, 11, 'fire_internal')\n",
    "    # Get the MOD35 snow/ice flag\n",
    "    snow1 = getQABits(QA, 12, 12, 'snow_MOD35')\n",
    "    # Get the internal snow flag\n",
    "    snow2 = getQABits(QA, 15, 15, 'snow_internal')\n",
    "    # create mask\n",
    "    mask = landWaterFlag.eq(1).And(cloud.Not()).And(cloudShadows.Not()).And(cloudAdjacent.Not()).And(cloud2.Not()).And(fire.Not()).And(snow1.Not()).And(snow2.Not())\n",
    "    return image0.updateMask(mask) \n",
    "\n",
    "\n",
    "def smooth_func(image): \n",
    "    collection = ee.ImageCollection.fromImages(image.get('images'))\n",
    "    return ee.Image(image).addBands(collection.mean().rename(['mean']))\n",
    "\n",
    "def clim5y(month):\n",
    "    month = ee.String(month)\n",
    "    seqNDVI = MOD09ndviY.filterMetadata('dn', 'equals',month)\n",
    "    return seqNDVI.median().copyProperties(seqNDVI.first(), ['system:time_start','system:time_end','dn','Month'])\n",
    "\n",
    "# filter smoothed map\n",
    "#def filt_smoothed(image):\n",
    "#    image = image.select('NDVI')\n",
    "#    image = image.unmask()\n",
    "#    #image = image.where(image.eq(0),MinNDVI)\n",
    "#    image = image.where(latmask.lt(50),meanNDVI)\n",
    "#    return image.updateMask(count_valid.gte(15)).updateMask(forestmask.eq(1))\n",
    "\n",
    "def tempfilt(image):\n",
    "    mask = ee.Image(ee.List(image.get('match')).get(0))\n",
    "    return image.updateMask(mask)\n",
    "\n",
    "#def filt_smoothed(image):\n",
    "#    return image.updateMask(count_valid.gte(15)).updateMask(forestmask.eq(1)).select('NDVI')\n",
    "                           \n",
    "# function for accumulating NDVI\n",
    "def accumulate(image,list):\n",
    "    # Get the latest cumulative NDVI of the list with\n",
    "    # get(-1).  Since the type of the list argument to the function is unknown,\n",
    "    # it needs to be cast to a List.  Since the return type of get() is unknown,\n",
    "    # cast it to Image.\n",
    "    previous = ee.Image(ee.List(list).get(-1)).toFloat().unmask()\n",
    "    # Add the current anomaly to make a new cumulative NDVI image and Propagate metadata to the new image.\n",
    "    added = image.unmask().toFloat().add(previous).toFloat().set('system:time_start', image.get('system:time_start'))\n",
    "    return ee.List(list).add(added)\n",
    "\n",
    "# cumulative normalized\n",
    "def cum_dividelast(image):\n",
    "    tmp = image.divide(last).multiply(Cumulative_mean_at_5km)\n",
    "    return tmp\n",
    "\n",
    "# calculate deviations\n",
    "def deviations_calc(image):\n",
    "    tmp = image.select('NDVI').reproject(crs = 'SR-ORG:6974',scale = 463.3127165275).reduceResolution(ee.Reducer.stdDev(), bestEffort = False, maxPixels = 150).reproject(ee.Projection('EPSG:4326').scale(0.05, 0.05)).updateMask(1).rename('stdDev')\n",
    "    return tmp\n",
    "\n",
    "\n",
    "def addTimeBand(img):\n",
    "    ## make sure mask is consistent ##\n",
    "    mask = img.mask()\n",
    "    time = img.metadata('system:time_start').rename(\"time\").mask(mask)\n",
    "    return img.addBands(time)\n",
    "\n",
    "\n",
    "def replace_mask(img, newimg, nodata):\n",
    "    if frame is None:\n",
    "        nodata = 8\n",
    "    # var con = img.mask();\n",
    "    # var res = img., NODATA\n",
    "    mask = img.mask()\n",
    "    # The only nsolution is unmask & updatemask */\n",
    "    img = img.unmask(nodata)\n",
    "    img = img.where(mask.Not(), newimg)\n",
    "    img = img.updateMask(img.neq(nodata))\n",
    "    return img\n",
    "    \n",
    "def linearInterp(imgcol,frame = None,nodata = None):\n",
    "    if frame is None:\n",
    "        frame = 32\n",
    "    if nodata is None:\n",
    "        nodata = 0\n",
    "    timestart   = 'system:time_start'\n",
    "    imgcol = imgcol.map(addTimeBand)\n",
    "    \n",
    "    # We'll look for all images up to 32 days away from the current image.\n",
    "    maxDiff = ee.Filter.maxDifference(frame * (1000*60*60*24), timestart, None, timestart)\n",
    "    \n",
    "    #cond    = {'leftField':timestart, 'rightField':timestart}\n",
    "    # Images after, sorted in descending order (so closest is last).\n",
    "    #var f1 = maxDiff.and(ee.Filter.lessThanOrEquals(time, null, time))\n",
    "    f1 = ee.Filter.And(maxDiff, ee.Filter.lessThanOrEquals(leftField = timestart,rightField = timestart))\n",
    "    c1 = ee.Join.saveAll(matchesKey = 'after', ordering = timestart, ascending = False).apply(imgcol, imgcol, f1)\n",
    "    # Images before, sorted in ascending order (so closest is last).\n",
    "    # var f2 = maxDiff.and(ee.Filter.greaterThanOrEquals(time, null, time))\n",
    "    \n",
    "    f2 = ee.Filter.And(maxDiff, ee.Filter.greaterThanOrEquals(leftField = timestart,rightField = timestart))\n",
    "    c2 = ee.Join.saveAll(matchesKey = 'before', ordering = timestart, ascending = True).apply(c1, imgcol, f2)\n",
    "    \n",
    "    # interpolation \n",
    "    def func_its(img):\n",
    "        img = ee.Image(img)\n",
    "        before = ee.ImageCollection.fromImages(ee.List(img.get('before'))).mosaic()\n",
    "        after  = ee.ImageCollection.fromImages(ee.List(img.get('after'))).mosaic()\n",
    "        img = img.set('before', {}).set('after', {})\n",
    "        \n",
    "        # constrain after or before no NA values, confirm linear Interp having result\n",
    "        before = replace_mask(before, after, nodata)\n",
    "        after  = replace_mask(after , before, nodata)\n",
    "        \n",
    "        # Compute the ratio between the image times.\n",
    "        x1 = before.select('time').double()\n",
    "        x2 = after.select('time').double()\n",
    "        now = ee.Image.constant(img.date().millis()).double()\n",
    "        ratio = now.subtract(x1).divide(x2.subtract(x1))  # this is zero anywhere x1 = x2\n",
    "        \n",
    "        # Compute the interpolated image.\n",
    "        before = before.select(0); #remove time band now\n",
    "        after  = after.select(0)\n",
    "        img    = img.select(0)\n",
    "        interp = after.subtract(before).multiply(ratio).add(before)\n",
    "        qc = img.mask().Not().rename('qc')\n",
    "        interp = replace_mask(img, interp, nodata)\n",
    "        \n",
    "        # Map.addLayer(interp, {}, 'interp')\n",
    "        return interp.addBands(qc).copyProperties(img, img.propertyNames())\n",
    "    interpolated = ee.ImageCollection(c2.map(func_its))\n",
    "    return interpolated\n"
   ]
  },
  {
   "cell_type": "code",
   "execution_count": 3,
   "metadata": {},
   "outputs": [],
   "source": [
    "collection = ee.ImageCollection(\"MODIS/006/MOD09GA\")"
   ]
  },
  {
   "cell_type": "code",
   "execution_count": 23,
   "metadata": {},
   "outputs": [],
   "source": [
    "# mask out crap pixels\n",
    "MOD09masked = collection.filterDate('2015-01-01', '2015-12-31').map(maskPixels)"
   ]
  },
  {
   "cell_type": "code",
   "execution_count": 24,
   "metadata": {},
   "outputs": [],
   "source": [
    "# add NDVI as a new band\n",
    "MOD09ndvi = MOD09masked.map(addNDVI).select('NDVI')"
   ]
  },
  {
   "cell_type": "code",
   "execution_count": 25,
   "metadata": {},
   "outputs": [],
   "source": [
    "Map.addLayer(MOD09ndvi.first())"
   ]
  },
  {
   "cell_type": "code",
   "execution_count": 26,
   "metadata": {},
   "outputs": [],
   "source": [
    "tscov = MOD09ndvi.count()"
   ]
  },
  {
   "cell_type": "code",
   "execution_count": 17,
   "metadata": {},
   "outputs": [],
   "source": [
    "import geemap\n",
    "Map = geemap.Map()"
   ]
  },
  {
   "cell_type": "code",
   "execution_count": 27,
   "metadata": {},
   "outputs": [],
   "source": [
    "Map.addLayer(tscov,{'min':1,'max':365,'palette':['blue','green','yellow','red']},'tscovraw')"
   ]
  },
  {
   "cell_type": "code",
   "execution_count": 18,
   "metadata": {},
   "outputs": [
    {
     "data": {
      "application/vnd.jupyter.widget-view+json": {
       "model_id": "1c816b12ea574ca99e6af8d1a1dfe9ee",
       "version_major": 2,
       "version_minor": 0
      },
      "text/plain": [
       "Map(center=[40, -100], controls=(WidgetControl(options=['position'], widget=HBox(children=(ToggleButton(value=…"
      ]
     },
     "metadata": {},
     "output_type": "display_data"
    }
   ],
   "source": [
    "Map"
   ]
  }
 ],
 "metadata": {
  "kernelspec": {
   "display_name": "Python 3",
   "language": "python",
   "name": "python3"
  },
  "language_info": {
   "codemirror_mode": {
    "name": "ipython",
    "version": 3
   },
   "file_extension": ".py",
   "mimetype": "text/x-python",
   "name": "python",
   "nbconvert_exporter": "python",
   "pygments_lexer": "ipython3",
   "version": "3.8.5"
  }
 },
 "nbformat": 4,
 "nbformat_minor": 4
}
