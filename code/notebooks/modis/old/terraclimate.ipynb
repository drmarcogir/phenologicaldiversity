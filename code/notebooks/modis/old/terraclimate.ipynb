{
 "cells": [
  {
   "cell_type": "code",
   "execution_count": 72,
   "metadata": {},
   "outputs": [],
   "source": [
    "import ee\n",
    "ee.Initialize()\n",
    "import geemap\n",
    "Map = geemap.Map()"
   ]
  },
  {
   "cell_type": "code",
   "execution_count": 73,
   "metadata": {},
   "outputs": [],
   "source": [
    "import geemap\n",
    "Map = geemap.Map()"
   ]
  },
  {
   "cell_type": "code",
   "execution_count": 110,
   "metadata": {},
   "outputs": [],
   "source": [
    "terracl = ee.ImageCollection(\"IDAHO_EPSCOR/TERRACLIMATE\").filterDate('2000-01-01','2020-12-31').select(['tmmn','tmmx'])"
   ]
  },
  {
   "cell_type": "code",
   "execution_count": 116,
   "metadata": {},
   "outputs": [],
   "source": [
    "# create empty image\n",
    "myimg = ee.Image().rename('b_01')\n",
    "# create new image collection based on long-term averages\n",
    "for i in range(1,12+1):\n",
    "    # average for a given month across the whole period\n",
    "    monthi = terracl.filter(ee.Filter.calendarRange(i,i,'month')).mean()\n",
    "    # calculate mean, rescale and add month as new property\n",
    "    avgtemp = monthi.expression('((tmmn + tmmx)/2)*0.1',{'tmmn':monthi.select('tmmn'),'tmmx':monthi.select('tmmx')}).rename(['b_'+str(i).zfill(2)]).set(ee.Dictionary({'Month': str(i).zfill(2)}))\n",
    "    myimg = myimg.addBands(avgtemp,overwrite = True)"
   ]
  },
  {
   "cell_type": "code",
   "execution_count": 117,
   "metadata": {},
   "outputs": [],
   "source": [
    "myimg1 = myimg.reproject(ee.Projection('EPSG:4326').scale(0.05,0.05))"
   ]
  },
  {
   "cell_type": "code",
   "execution_count": 118,
   "metadata": {},
   "outputs": [
    {
     "data": {
      "text/plain": [
       "['system:bands', 'system:band_names']"
      ]
     },
     "execution_count": 118,
     "metadata": {},
     "output_type": "execute_result"
    }
   ],
   "source": [
    "myimg1.propertyNames().getInfo()"
   ]
  },
  {
   "cell_type": "code",
   "execution_count": 109,
   "metadata": {},
   "outputs": [],
   "source": [
    "task = ee.batch.Export.image.toAsset(image = myimg1,description = 'terraclimate_months',\n",
    "                              assetId='users/marcogirardello/phenoutils/terraclimate_months',\n",
    "                             crs = 'EPSG:4326',scale = 5565.974539663679,maxPixels=1e13)\n",
    "task.start()"
   ]
  }
 ],
 "metadata": {
  "kernelspec": {
   "display_name": "Python 3",
   "language": "python",
   "name": "python3"
  },
  "language_info": {
   "codemirror_mode": {
    "name": "ipython",
    "version": 3
   },
   "file_extension": ".py",
   "mimetype": "text/x-python",
   "name": "python",
   "nbconvert_exporter": "python",
   "pygments_lexer": "ipython3",
   "version": "3.8.5"
  }
 },
 "nbformat": 4,
 "nbformat_minor": 4
}
