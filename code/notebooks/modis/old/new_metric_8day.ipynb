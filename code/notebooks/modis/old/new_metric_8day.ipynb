{
 "cells": [
  {
   "cell_type": "markdown",
   "metadata": {},
   "source": [
    "### Guido's code https://code.earthengine.google.com/73d6637f9a84f4ff2e083a20a74ccbdd "
   ]
  },
  {
   "cell_type": "code",
   "execution_count": 1,
   "metadata": {},
   "outputs": [],
   "source": [
    "import ee\n",
    "ee.Initialize()\n",
    "import geemap\n",
    "Map = geemap.Map()\n",
    "import time\n",
    "import datetime\n",
    "import seaborn as sns"
   ]
  },
  {
   "cell_type": "code",
   "execution_count": 41,
   "metadata": {},
   "outputs": [],
   "source": [
    "# add dn for product aggregated into 8 days\n",
    "def add_dn_date(img,beginDate=None,n=None,IncludeYear=False):\n",
    "    if beginDate is None:\n",
    "        beginDate = img.get('system:time_start')\n",
    "    else:\n",
    "        beginDate = beginDate\n",
    "    if IncludeYear is False:\n",
    "        IncludeYear = True\n",
    "    if n is None:\n",
    "        n = 8\n",
    "    beginDate = ee.Date(beginDate)\n",
    "    year  = beginDate.get('year')\n",
    "    month = beginDate.get('month')\n",
    "    diff  = beginDate.difference(ee.Date.fromYMD(year, 1, 1), 'day').add(1)\n",
    "    dn    = diff.subtract(1).divide(n).floor().add(1).int()\n",
    "    yearstr  = year.format('%d') \n",
    "    dn = dn.format('%02d')\n",
    "    return ee.Image(img).set('system:time_start', beginDate.millis()).set('date', beginDate.format('yyyy-MM-dd')).set('Year', yearstr).set('Month',beginDate.format('MM')).set('YearMonth', beginDate.format('YYYY-MM')).set('dn', dn)\n",
    "\n",
    "# wrapper function for add_dn_date\n",
    "def add_dn_date_all(Year,days):\n",
    "    def wrapper(image0):\n",
    "        tmp = add_dn_date(img = image0,IncludeYear=Year,n = days)\n",
    "        return tmp\n",
    "    return (wrapper)\n",
    "\n",
    "# add NDVI to data\n",
    "def addNDVI(image):\n",
    "    #image = image.updateMask(MakMarco.eq(1))\n",
    "    return image.addBands(image.normalizedDifference(['sur_refl_b02','sur_refl_b01']).rename('NDVI')).float()\n",
    "\n",
    "# function for extracting quality bits\n",
    "def getQABits(image, start, end, mascara):\n",
    "    # Compute the bits we need to extract.\n",
    "    pattern = 0\n",
    "    for i in range(start,end+1):\n",
    "        pattern += 2**i\n",
    "    # Return a single band image of the extracted QA bits, giving the     band a new name.\n",
    "    return image.select([0], [mascara]).bitwiseAnd(pattern).rightShift(start)\n",
    "\n",
    "# mask out low quality pixels (based on flags)\n",
    "def maskPixels(image0):\n",
    "    #Select the QA band\n",
    "    QA = image0.select('StateQA')\n",
    "    # Get the land_water_flag bits\n",
    "    landWaterFlag = getQABits(QA, 3, 5, 'land_water_flag')\n",
    "    #Get the cloud_state bits and find cloudy areas.\n",
    "    cloud = getQABits(QA, 0, 1, 'cloud_state').expression(\"b(0) == 1 || b(0) == 2\")\n",
    "    # Get the cloud_shadow bit\n",
    "    cloudShadows = getQABits(QA, 2, 2, 'cloud_shadow')\n",
    "    # Get the Pixel is adjacent to cloud bit\n",
    "    cloudAdjacent = getQABits(QA, 13, 13, 'cloud_adj')\n",
    "    # Get the internal cloud flag\n",
    "    cloud2 = getQABits(QA, 10, 10, 'cloud_internal')\n",
    "    # Get the internal fire flag\n",
    "    fire = getQABits(QA, 11, 11, 'fire_internal')\n",
    "    # Get the MOD35 snow/ice flag\n",
    "    snow1 = getQABits(QA, 12, 12, 'snow_MOD35')\n",
    "    # Get the internal snow flag\n",
    "    snow2 = getQABits(QA, 15, 15, 'snow_internal')\n",
    "    # create mask\n",
    "    mask = landWaterFlag.eq(1).And(cloud.Not()).And(cloudShadows.Not()).And(cloudAdjacent.Not()).And(cloud2.Not()).And(fire.Not()).And(snow1.Not()).And(snow2.Not())\n",
    "    return image0.updateMask(mask) \n",
    "\n",
    "def smooth_func(image): \n",
    "    collection = ee.ImageCollection.fromImages(image.get('images'))\n",
    "    return ee.Image(image).addBands(collection.mean().rename(['mean']))\n",
    "\n",
    "def clim5y(month):\n",
    "    month = ee.String(month)\n",
    "    seqNDVI = MOD09ndviY.filterMetadata('dn', 'equals',month )\n",
    "    return seqNDVI.median().copyProperties(seqNDVI.first(), ['system:time_start','system:time_end','dn'])\n",
    "\n",
    "# filter smoothed map\n",
    "def filt_smoothed(image):\n",
    "    return image.updateMask(count_valid.gte(20))\n",
    "\n",
    "# function for accumulating NDVI\n",
    "def accumulate(image,list):\n",
    "    # Get the latest cumulative NDVI of the list with\n",
    "    # get(-1).  Since the type of the list argument to the function is unknown,\n",
    "    # it needs to be cast to a List.  Since the return type of get() is unknown,\n",
    "    # cast it to Image.\n",
    "    previous = ee.Image(ee.List(list).get(-1)).toFloat()\n",
    "    # Add the current anomaly to make a new cumulative NDVI image and Propagate metadata to the new image.\n",
    "    added = image.toFloat().add(previous).toFloat().set('system:time_start', image.get('system:time_start'))\n",
    "    return ee.List(list).add(added)\n",
    "\n",
    "# cumulative normalized\n",
    "def cum_dividelast(image):\n",
    "    return image.divide(last)\n",
    "\n",
    "# calculate deviations\n",
    "def deviations_calc(image):\n",
    "    tmp = image.select('mean').reproject(crs = 'SR-ORG:6974',scale = 463.3127165275).reduceNeighborhood(reducer='stdDev',kernel= ee.Kernel.square(6, 'pixels'),skipMasked =True)\n",
    "    return image"
   ]
  },
  {
   "cell_type": "code",
   "execution_count": 11,
   "metadata": {},
   "outputs": [],
   "source": [
    "# load collections and required images\n",
    "collection = ee.ImageCollection('MODIS/006/MOD09A1').filterDate('2000-01-01', '2020-12-31')\n",
    "forestmask = ee.Image(\"users/marcogirardello/phenoutils/mask_unchanged_500m\")\n"
   ]
  },
  {
   "cell_type": "code",
   "execution_count": 12,
   "metadata": {},
   "outputs": [],
   "source": [
    "# add dn\n",
    "collection = collection.map(add_dn_date_all(Year = False, days = 8))"
   ]
  },
  {
   "cell_type": "code",
   "execution_count": 13,
   "metadata": {},
   "outputs": [],
   "source": [
    "# end and start date of period of interest\n",
    "start_date = ee.Date.fromYMD(2001, 1, 1)\n",
    "end_date   = ee.Date.fromYMD(2019, 12, 31)"
   ]
  },
  {
   "cell_type": "code",
   "execution_count": 14,
   "metadata": {},
   "outputs": [],
   "source": [
    "# mask out crap pixels\n",
    "MOD09masked = collection.filterDate(start_date, end_date).map(maskPixels)"
   ]
  },
  {
   "cell_type": "code",
   "execution_count": 15,
   "metadata": {},
   "outputs": [],
   "source": [
    "# add NDVI as a new band\n",
    "MOD09ndvi = MOD09masked.map(addNDVI).select('NDVI')"
   ]
  },
  {
   "cell_type": "code",
   "execution_count": 16,
   "metadata": {},
   "outputs": [],
   "source": [
    "# list of seasons\n",
    "tmpseas = [\"%02d\" % x for x in list(range(1, 46+1))]\n",
    "tmpseas1 = ee.List(tmpseas)"
   ]
  },
  {
   "cell_type": "code",
   "execution_count": 8,
   "metadata": {},
   "outputs": [],
   "source": [
    "for year in list(range(2002,2002)):\n",
    "    # climatology\n",
    "    yearp5 = ee.Number(year).add(5)\n",
    "    start_date = ee.Date.fromYMD(year,1,1)\n",
    "    end_date = ee.Date.fromYMD(yearp5,12,31)\n",
    "    MOD09ndviY = MOD09ndvi.filterDate(start_date, end_date)\n",
    "    # climatology 5 years (monthly composites)\n",
    "    seasons = ee.ImageCollection.fromImages(tmpseas1.map(clim5y))\n",
    "    # set the width of the temporal smoothing bandwidth (in days)\n",
    "    bw = 35\n",
    "    # This field contains UNIX time in milliseconds\n",
    "    timeField = 'system:time_start'\n",
    "    # sort by start time\n",
    "    filteredMODIS = seasons.sort(\"system:time_start\")\n",
    "    # Smoothing\n",
    "    join = ee.Join.saveAll(matchesKey = 'images')\n",
    "    diffFilter = ee.Filter.maxDifference(difference =1000 * 60 * 60 * 24 * bw, \n",
    "                                         leftField = timeField,rightField = timeField)\n",
    "    threeNeighborJoin = join.apply(primary = filteredMODIS,secondary = filteredMODIS,condition = diffFilter)\n",
    "    # get smoothed collection\n",
    "    smoothed = ee.ImageCollection(threeNeighborJoin.map(smooth_func))\n",
    "    # mask smoothed dataset\n",
    "    #smoothed_masked = smoothed.map(mask_smt)\n",
    "    # count valid images\n",
    "    count_valid = smoothed.select('NDVI').count()\n",
    "    # mask smoothed dataset\n",
    "    smoothed = smoothed.map(filt_smoothed)\n",
    "    # select mean band\n",
    "    smoothed = smoothed.select('mean')\n",
    "    # Get the timestamp from the most recent image in the reference collection.\n",
    "    time0 = smoothed.first().get('system:time_start')\n",
    "    # Rename the first band 'NDVI'.\n",
    "    first = ee.List([ee.Image(0).set('system:time_start', time0).select([0], ['mean']).toFloat()])\n",
    "    # Create an ImageCollection of cumulative anomaly images by iterating.\n",
    "    # Since the return type of iterate is unknown, it needs to be cast to a List.\n",
    "    cumulative = ee.ImageCollection(ee.List(smoothed.iterate(accumulate, first)))\n",
    "    # normalise\n",
    "    last = cumulative.sort('system:time_start', False).first()\n",
    "    last = last.updateMask(last.gte(9))\n",
    "    # cumulative map normalised\n",
    "    cumulativeNorm = cumulative.map(cum_dividelast)\n",
    "    # deviations (these are described in the document sent by Alessandro)\n",
    "    cumulativeStd10 = cumulativeNorm.map(deviations_calc)\n",
    "    # calculate the mean of the deviations\n",
    "    cumulativeStd10_mean = cumulativeStd10.mean().multiply(10000)\n",
    "    cumulativeStd10_mean = cumulativeStd10_mean.updateMask(last.gte(9))"
   ]
  },
  {
   "cell_type": "code",
   "execution_count": 17,
   "metadata": {},
   "outputs": [],
   "source": [
    "# generate palette\n",
    "pal = sns.color_palette(\"viridis\",20).as_hex()\n",
    "palette = {'min':4000 , 'max':5800, 'palette':pal}"
   ]
  },
  {
   "cell_type": "code",
   "execution_count": 44,
   "metadata": {},
   "outputs": [
    {
     "ename": "NameError",
     "evalue": "name 'require' is not defined",
     "output_type": "error",
     "traceback": [
      "\u001b[0;31m---------------------------------------------------------------------------\u001b[0m",
      "\u001b[0;31mNameError\u001b[0m                                 Traceback (most recent call last)",
      "\u001b[0;32m<ipython-input-44-985cd3d2cb7d>\u001b[0m in \u001b[0;36m<module>\u001b[0;34m\u001b[0m\n\u001b[0;32m----> 1\u001b[0;31m \u001b[0mpkg_smooth\u001b[0m \u001b[0;34m=\u001b[0m \u001b[0mrequire\u001b[0m\u001b[0;34m(\u001b[0m\u001b[0;34m'users/kongdd/public:Math/pkg_smooth.js'\u001b[0m\u001b[0;34m)\u001b[0m\u001b[0;34m\u001b[0m\u001b[0;34m\u001b[0m\u001b[0m\n\u001b[0m",
      "\u001b[0;31mNameError\u001b[0m: name 'require' is not defined"
     ]
    }
   ],
   "source": [
    "pkg_smooth = require('users/kongdd/public:Math/pkg_smooth.js')"
   ]
  },
  {
   "cell_type": "code",
   "execution_count": 42,
   "metadata": {},
   "outputs": [],
   "source": [
    "# filter smoothed map\n",
    "def filt_smoothed(image):\n",
    "    tmp = image.unmask()\n",
    "    return tmp.updateMask(count_valid.gte(30))\n",
    "year = 2002\n",
    "# climatology\n",
    "yearp5 = ee.Number(year).add(5)\n",
    "start_date = ee.Date.fromYMD(year,1,1)\n",
    "end_date = ee.Date.fromYMD(yearp5,12,31)\n",
    "MOD09ndviY = MOD09ndvi.filterDate(start_date, end_date)\n",
    "# climatology 5 years (monthly composites)\n",
    "seasons = ee.ImageCollection.fromImages(tmpseas1.map(clim5y))\n",
    "# set the width of the temporal smoothing bandwidth (in days)\n",
    "bw = 35\n",
    "# This field contains UNIX time in milliseconds\n",
    "timeField = 'system:time_start'\n",
    "# sort by start time\n",
    "filteredMODIS = seasons.sort(\"system:time_start\")\n",
    "# Smoothing\n",
    "join = ee.Join.saveAll(matchesKey = 'images')\n",
    "diffFilter = ee.Filter.maxDifference(difference =1000 * 60 * 60 * 24 * bw, \n",
    " leftField = timeField,rightField = timeField)\n",
    "threeNeighborJoin = join.apply(primary = filteredMODIS,secondary = filteredMODIS,condition = diffFilter)\n",
    "# get smoothed collection\n",
    "smoothed = ee.ImageCollection(threeNeighborJoin.map(smooth_func))\n",
    "# mask smoothed dataset\n",
    "#smoothed_masked = smoothed.map(mask_smt)\n",
    "# count valid images\n",
    "count_valid = smoothed.select('mean').count()\n",
    "# mask smoothed dataset\n",
    "smoothed = smoothed.map(filt_smoothed)\n",
    "# select mean band\n",
    "smoothed = smoothed.select('mean')\n",
    "# Get the timestamp from the most recent image in the reference collection.\n",
    "time0 = smoothed.first().get('system:time_start')\n",
    "# Rename the first band 'NDVI'.\n",
    "first = ee.List([ee.Image(0).set('system:time_start', time0).select([0], ['mean']).toFloat()])\n",
    "# Create an ImageCollection of cumulative anomaly images by iterating.\n",
    "# Since the return type of iterate is unknown, it needs to be cast to a List.\n",
    "cumulative = ee.ImageCollection(ee.List(smoothed.iterate(accumulate, first)))\n",
    "# normalise\n",
    "last = cumulative.sort('system:time_start', False).first()\n",
    "last = last.updateMask(last.gte(9))\n",
    "# cumulative map normalised\n",
    "cumulativeNorm = cumulative.map(cum_dividelast)\n",
    "# deviations (these are described in the document sent by Alessandro)\n",
    "cumulativeStd10 = cumulativeNorm.map(deviations_calc)\n",
    "# calculate the mean of the deviations\n",
    "cumulativeStd10_mean = cumulativeStd10.mean().multiply(10000)\n",
    "cumulativeStd10_mean = cumulativeStd10_mean.updateMask(last.gte(9))\n",
    "#cumulativeStd10_mean1 = cumulativeStd10_mean.updateMask(forestmask.gt(0))\n",
    "#Map.addLayer(cumulativeStd10_mean1,palette,'metric 6')"
   ]
  },
  {
   "cell_type": "code",
   "execution_count": 21,
   "metadata": {},
   "outputs": [],
   "source": [
    "#cumulativeStd10_mean1 = cumulativeStd10_mean.updateMask(forestmask.gt(0))\n",
    "#Map = geemap.Map()"
   ]
  },
  {
   "cell_type": "code",
   "execution_count": 19,
   "metadata": {},
   "outputs": [],
   "source": [
    "\n",
    "# generate palette\n",
    "pal = sns.color_palette(\"coolwarm\",20).as_hex()\n",
    "palette = {'min':4000 , 'max':5800, 'palette':pal}"
   ]
  },
  {
   "cell_type": "code",
   "execution_count": 43,
   "metadata": {},
   "outputs": [],
   "source": [
    "Map.addLayer(cumulativeStd10_mean,palette,'metric 9')"
   ]
  },
  {
   "cell_type": "code",
   "execution_count": 38,
   "metadata": {},
   "outputs": [],
   "source": [
    "Map = geemap.Map()"
   ]
  },
  {
   "cell_type": "code",
   "execution_count": 40,
   "metadata": {},
   "outputs": [
    {
     "data": {
      "application/vnd.jupyter.widget-view+json": {
       "model_id": "db946fc464b54ba09c79e7c37fd49689",
       "version_major": 2,
       "version_minor": 0
      },
      "text/plain": [
       "Map(center=[40, -100], controls=(WidgetControl(options=['position'], widget=HBox(children=(ToggleButton(value=…"
      ]
     },
     "metadata": {},
     "output_type": "display_data"
    }
   ],
   "source": [
    "Map"
   ]
  },
  {
   "cell_type": "code",
   "execution_count": 37,
   "metadata": {},
   "outputs": [],
   "source": []
  },
  {
   "cell_type": "code",
   "execution_count": null,
   "metadata": {},
   "outputs": [],
   "source": []
  },
  {
   "cell_type": "code",
   "execution_count": null,
   "metadata": {},
   "outputs": [],
   "source": []
  },
  {
   "cell_type": "code",
   "execution_count": null,
   "metadata": {},
   "outputs": [],
   "source": []
  }
 ],
 "metadata": {
  "kernelspec": {
   "display_name": "Python 3",
   "language": "python",
   "name": "python3"
  },
  "language_info": {
   "codemirror_mode": {
    "name": "ipython",
    "version": 3
   },
   "file_extension": ".py",
   "mimetype": "text/x-python",
   "name": "python",
   "nbconvert_exporter": "python",
   "pygments_lexer": "ipython3",
   "version": "3.8.5"
  },
  "varInspector": {
   "cols": {
    "lenName": 16,
    "lenType": 16,
    "lenVar": 40
   },
   "kernels_config": {
    "python": {
     "delete_cmd_postfix": "",
     "delete_cmd_prefix": "del ",
     "library": "var_list.py",
     "varRefreshCmd": "print(var_dic_list())"
    },
    "r": {
     "delete_cmd_postfix": ") ",
     "delete_cmd_prefix": "rm(",
     "library": "var_list.r",
     "varRefreshCmd": "cat(var_dic_list()) "
    }
   },
   "types_to_exclude": [
    "module",
    "function",
    "builtin_function_or_method",
    "instance",
    "_Feature"
   ],
   "window_display": false
  }
 },
 "nbformat": 4,
 "nbformat_minor": 4
}
