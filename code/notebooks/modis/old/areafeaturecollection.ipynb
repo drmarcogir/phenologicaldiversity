{
 "cells": [
  {
   "cell_type": "code",
   "execution_count": 1,
   "metadata": {},
   "outputs": [],
   "source": [
    "import ee\n",
    "ee.Initialize()"
   ]
  },
  {
   "cell_type": "code",
   "execution_count": 29,
   "metadata": {},
   "outputs": [],
   "source": [
    "import geemap\n",
    "Map = geemap.Map()"
   ]
  },
  {
   "cell_type": "code",
   "execution_count": 15,
   "metadata": {},
   "outputs": [],
   "source": [
    "def testfeature(feature):\n",
    "    num = ee.Number.parse(feature.get('areasqkm'))\n",
    "    return feature.set('areasqkm', num)\n",
    "\n",
    "# Load watersheds from a data table.\n",
    "sheds = ee.FeatureCollection('USGS/WBD/2017/HUC06').\\\n",
    "filterBounds(ee.Geometry.Rectangle(-127.18, 19.39, -62.75, 51.29)).\\\n",
    "map(testfeature)    \n",
    "    \n",
    "\n",
    "    \n",
    "#  Display the table and print its first element.\n",
    "#Map.addLayer(sheds, {}, 'watersheds');\n",
    "#print('First watershed', sheds.first());\n",
    "\n",
    "#  Print the number of watersheds.\n",
    "#print('Count:', sheds.size());\n",
    "\n",
    "#  Print stats for an area property.\n",
    "#print('Area stats:', sheds.aggregate_stats('areasqkm'));"
   ]
  },
  {
   "cell_type": "code",
   "execution_count": 10,
   "metadata": {},
   "outputs": [],
   "source": [
    "sheds = ee.FeatureCollection('USGS/WBD/2017/HUC06')"
   ]
  },
  {
   "cell_type": "code",
   "execution_count": 16,
   "metadata": {},
   "outputs": [],
   "source": [
    "largeSheds = sheds.filter(ee.Filter.gt('areasqkm',25000))"
   ]
  },
  {
   "cell_type": "code",
   "execution_count": 25,
   "metadata": {},
   "outputs": [],
   "source": [
    "def addArea(feature):\n",
    "    return feature.set({'area' : feature.geometry().area().divide(100*100)})"
   ]
  },
  {
   "cell_type": "code",
   "execution_count": 26,
   "metadata": {},
   "outputs": [],
   "source": [
    "dd = sheds.map(addArea)"
   ]
  },
  {
   "cell_type": "code",
   "execution_count": 28,
   "metadata": {},
   "outputs": [
    {
     "data": {
      "text/plain": [
       "['area',\n",
       " 'sourcedata',\n",
       " 'areaacres',\n",
       " 'sourcefeat',\n",
       " 'shape_leng',\n",
       " 'states',\n",
       " 'sourceorig',\n",
       " 'huc6',\n",
       " 'areasqkm',\n",
       " 'shape_area',\n",
       " 'tnmid',\n",
       " 'name',\n",
       " 'metasource',\n",
       " 'loaddate',\n",
       " 'gnis_id',\n",
       " 'system:index']"
      ]
     },
     "execution_count": 28,
     "metadata": {},
     "output_type": "execute_result"
    }
   ],
   "source": [
    "dd.first().propertyNames().getInfo()"
   ]
  },
  {
   "cell_type": "code",
   "execution_count": 38,
   "metadata": {},
   "outputs": [],
   "source": [
    "def getCentroid(feature):\n",
    "    keepProperties = ['name', 'huc6', 'tnmid', 'areasqkm']\n",
    "    centroid = feature.geometry().centroid()\n",
    "    return ee.Feature(centroid).copyProperties(feature, keepProperties)"
   ]
  },
  {
   "cell_type": "code",
   "execution_count": 39,
   "metadata": {},
   "outputs": [],
   "source": [
    "centroids = sheds.map(getCentroid)"
   ]
  },
  {
   "cell_type": "code",
   "execution_count": 44,
   "metadata": {},
   "outputs": [],
   "source": [
    "sheds = ee.FeatureCollection('USGS/WBD/2017/HUC06').\\\n",
    "filterBounds(ee.Geometry.Rectangle(-127.18, 19.39, -62.75, 51.29));"
   ]
  },
  {
   "cell_type": "code",
   "execution_count": 45,
   "metadata": {},
   "outputs": [],
   "source": [
    "def areaDiff(feature):\n",
    "    area = feature.geometry().area().divide(1000*1000)\n",
    "    diff = area.subtract(ee.Number.parse(feature.get('areasqkm')))\n",
    "    return feature.set('diff',diff.pow(2))"
   ]
  },
  {
   "cell_type": "code",
   "execution_count": 49,
   "metadata": {},
   "outputs": [],
   "source": [
    "rmse = ee.Number(sheds.map(areaDiff).\\\n",
    "reduceColumns(ee.Reducer.mean(),['diff']).\\\n",
    "get('mean')).sqrt()"
   ]
  },
  {
   "cell_type": "code",
   "execution_count": 51,
   "metadata": {},
   "outputs": [
    {
     "data": {
      "text/plain": [
       "50.29671055754766"
      ]
     },
     "execution_count": 51,
     "metadata": {},
     "output_type": "execute_result"
    }
   ],
   "source": [
    "rmse.getInfo()"
   ]
  },
  {
   "cell_type": "code",
   "execution_count": null,
   "metadata": {},
   "outputs": [],
   "source": []
  },
  {
   "cell_type": "code",
   "execution_count": null,
   "metadata": {},
   "outputs": [],
   "source": []
  },
  {
   "cell_type": "code",
   "execution_count": 42,
   "metadata": {},
   "outputs": [],
   "source": [
    "Map.addLayer(centroids,{'color': 'FF0000'},'centroids')"
   ]
  },
  {
   "cell_type": "code",
   "execution_count": 35,
   "metadata": {},
   "outputs": [
    {
     "data": {
      "application/vnd.jupyter.widget-view+json": {
       "model_id": "5590d414d20344ab91176974de4c5ae1",
       "version_major": 2,
       "version_minor": 0
      },
      "text/plain": [
       "Map(center=[40, -100], controls=(WidgetControl(options=['position'], widget=HBox(children=(ToggleButton(value=…"
      ]
     },
     "metadata": {},
     "output_type": "display_data"
    }
   ],
   "source": [
    "Map"
   ]
  }
 ],
 "metadata": {
  "kernelspec": {
   "display_name": "Python 3",
   "language": "python",
   "name": "python3"
  },
  "language_info": {
   "codemirror_mode": {
    "name": "ipython",
    "version": 3
   },
   "file_extension": ".py",
   "mimetype": "text/x-python",
   "name": "python",
   "nbconvert_exporter": "python",
   "pygments_lexer": "ipython3",
   "version": "3.8.5"
  }
 },
 "nbformat": 4,
 "nbformat_minor": 4
}
