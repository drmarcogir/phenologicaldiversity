{
 "cells": [
  {
   "cell_type": "code",
   "execution_count": 2,
   "metadata": {},
   "outputs": [
    {
     "name": "stdout",
     "output_type": "stream",
     "text": [
      "Collecting eemont\n",
      "  Downloading eemont-0.1.9.tar.gz (24 kB)\n",
      "Requirement already satisfied: earthengine-api in /home/marco/.local/lib/python3.8/site-packages (from eemont) (0.1.238)\n",
      "Collecting geopy\n",
      "  Downloading geopy-2.1.0-py3-none-any.whl (112 kB)\n",
      "\u001b[K     |████████████████████████████████| 112 kB 1.8 MB/s eta 0:00:01\n",
      "\u001b[?25hRequirement already satisfied: numpy in /usr/lib/python3/dist-packages (from eemont) (1.17.4)\n",
      "Requirement already satisfied: pandas in /home/marco/.local/lib/python3.8/site-packages (from eemont) (1.0.5)\n",
      "Requirement already satisfied: python-box in /home/marco/.local/lib/python3.8/site-packages (from eemont) (5.3.0)\n",
      "Requirement already satisfied: httplib2shim in /home/marco/.local/lib/python3.8/site-packages (from earthengine-api->eemont) (0.0.3)\n",
      "Requirement already satisfied: google-cloud-storage in /home/marco/.local/lib/python3.8/site-packages (from earthengine-api->eemont) (1.29.0)\n",
      "Requirement already satisfied: httplib2<1dev,>=0.9.2 in /usr/lib/python3/dist-packages (from earthengine-api->eemont) (0.14.0)\n",
      "Requirement already satisfied: google-api-python-client in /home/marco/.local/lib/python3.8/site-packages (from earthengine-api->eemont) (1.9.3)\n",
      "Requirement already satisfied: six in /usr/lib/python3/dist-packages (from earthengine-api->eemont) (1.14.0)\n",
      "Requirement already satisfied: google-auth-httplib2>=0.0.3 in /home/marco/.local/lib/python3.8/site-packages (from earthengine-api->eemont) (0.0.3)\n",
      "Requirement already satisfied: google-auth>=1.4.1 in /home/marco/.local/lib/python3.8/site-packages (from earthengine-api->eemont) (1.18.0)\n",
      "Requirement already satisfied: future in /usr/lib/python3/dist-packages (from earthengine-api->eemont) (0.18.2)\n",
      "Collecting geographiclib<2,>=1.49\n",
      "  Downloading geographiclib-1.50-py3-none-any.whl (38 kB)\n",
      "Requirement already satisfied: pytz>=2017.2 in /usr/lib/python3/dist-packages (from pandas->eemont) (2019.3)\n",
      "Requirement already satisfied: python-dateutil>=2.6.1 in /usr/lib/python3/dist-packages (from pandas->eemont) (2.7.3)\n",
      "Requirement already satisfied: certifi in /usr/lib/python3/dist-packages (from httplib2shim->earthengine-api->eemont) (2019.11.28)\n",
      "Requirement already satisfied: urllib3 in /usr/lib/python3/dist-packages (from httplib2shim->earthengine-api->eemont) (1.25.8)\n",
      "Requirement already satisfied: google-resumable-media<0.6dev,>=0.5.0 in /home/marco/.local/lib/python3.8/site-packages (from google-cloud-storage->earthengine-api->eemont) (0.5.1)\n",
      "Requirement already satisfied: google-cloud-core<2.0dev,>=1.2.0 in /home/marco/.local/lib/python3.8/site-packages (from google-cloud-storage->earthengine-api->eemont) (1.3.0)\n",
      "Requirement already satisfied: google-api-core<2dev,>=1.18.0 in /home/marco/.local/lib/python3.8/site-packages (from google-api-python-client->earthengine-api->eemont) (1.21.0)\n",
      "Requirement already satisfied: uritemplate<4dev,>=3.0.0 in /home/marco/.local/lib/python3.8/site-packages (from google-api-python-client->earthengine-api->eemont) (3.0.1)\n",
      "Requirement already satisfied: rsa<5,>=3.1.4; python_version >= \"3\" in /home/marco/.local/lib/python3.8/site-packages (from google-auth>=1.4.1->earthengine-api->eemont) (4.6)\n",
      "Requirement already satisfied: pyasn1-modules>=0.2.1 in /home/marco/.local/lib/python3.8/site-packages (from google-auth>=1.4.1->earthengine-api->eemont) (0.2.8)\n",
      "Requirement already satisfied: setuptools>=40.3.0 in /usr/lib/python3/dist-packages (from google-auth>=1.4.1->earthengine-api->eemont) (45.2.0)\n",
      "Requirement already satisfied: cachetools<5.0,>=2.0.0 in /home/marco/.local/lib/python3.8/site-packages (from google-auth>=1.4.1->earthengine-api->eemont) (4.1.0)\n",
      "Requirement already satisfied: requests<3.0.0dev,>=2.18.0 in /usr/lib/python3/dist-packages (from google-api-core<2dev,>=1.18.0->google-api-python-client->earthengine-api->eemont) (2.22.0)\n",
      "Requirement already satisfied: protobuf>=3.12.0 in /home/marco/.local/lib/python3.8/site-packages (from google-api-core<2dev,>=1.18.0->google-api-python-client->earthengine-api->eemont) (3.12.2)\n",
      "Requirement already satisfied: googleapis-common-protos<2.0dev,>=1.6.0 in /home/marco/.local/lib/python3.8/site-packages (from google-api-core<2dev,>=1.18.0->google-api-python-client->earthengine-api->eemont) (1.52.0)\n",
      "Requirement already satisfied: pyasn1>=0.1.3 in /home/marco/.local/lib/python3.8/site-packages (from rsa<5,>=3.1.4; python_version >= \"3\"->google-auth>=1.4.1->earthengine-api->eemont) (0.4.8)\n",
      "Building wheels for collected packages: eemont\n",
      "  Building wheel for eemont (setup.py) ... \u001b[?25ldone\n",
      "\u001b[?25h  Created wheel for eemont: filename=eemont-0.1.9-py3-none-any.whl size=27946 sha256=ba2331e52544fd85298226c5259c5bb7189d71ac68c32250c4ef56857adbe6e5\n",
      "  Stored in directory: /home/marco/.cache/pip/wheels/d5/63/9d/b1ce24cd45ab098c70f9e40c04913cd70ed35d68149f4c8faf\n",
      "Successfully built eemont\n",
      "Installing collected packages: geographiclib, geopy, eemont\n",
      "Successfully installed eemont-0.1.9 geographiclib-1.50 geopy-2.1.0\n"
     ]
    }
   ],
   "source": [
    "!pip3 install eemont"
   ]
  },
  {
   "cell_type": "code",
   "execution_count": 3,
   "metadata": {},
   "outputs": [],
   "source": [
    "import ee, eemont, geemap.eefolium as geemap"
   ]
  },
  {
   "cell_type": "code",
   "execution_count": 4,
   "metadata": {},
   "outputs": [],
   "source": [
    "ee.Initialize()\n"
   ]
  },
  {
   "cell_type": "code",
   "execution_count": 5,
   "metadata": {},
   "outputs": [],
   "source": [
    "point = ee.Geometry.Point([-75.92, 2.86])\n"
   ]
  },
  {
   "cell_type": "code",
   "execution_count": 6,
   "metadata": {},
   "outputs": [],
   "source": [
    "S2 = (ee.ImageCollection('COPERNICUS/S2_SR')\n",
    "      .filterBounds(point)\n",
    "      .filterDate('2020-01-01','2021-01-01'))\n"
   ]
  },
  {
   "cell_type": "code",
   "execution_count": 10,
   "metadata": {},
   "outputs": [],
   "source": [
    "S2a = S2.maskClouds(method = 'qa')\n",
    "S2b = S2.maskClouds(method = 'qa', maskCirrus = False)\n",
    "S2c = S2.maskClouds()\n",
    "S2d = S2.maskClouds(prob = 75)\n",
    "S2e = S2.maskClouds(buffer = 500)\n",
    "S2f = S2.maskClouds(dark = 0.1)\n",
    "S2g = S2.maskClouds(cloudDist = 2000)\n",
    "S2h = S2.maskClouds(cdi = -0.5)\n",
    "S2i = S2.maskClouds(maskShadows = False)\n",
    "S2j = S2.scale().maskClouds(scaledImage = True)\n",
    "rgbUnscaled = {'min':0, 'max':3000, 'bands':['B4','B3','B2']}\n",
    "rgbScaled = {'min':0, 'max':0.3, 'bands':['B4','B3','B2']}"
   ]
  },
  {
   "cell_type": "code",
   "execution_count": 11,
   "metadata": {},
   "outputs": [
    {
     "data": {
      "text/html": [
       "<div style=\"width:100%;\"><div style=\"position:relative;width:100%;height:0;padding-bottom:60%;\"><iframe src=\"data:text/html;charset=utf-8;base64,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\" style=\"position:absolute;width:100%;height:100%;left:0;top:0;border:none !important;\" allowfullscreen webkitallowfullscreen mozallowfullscreen></iframe></div></div>"
      ],
      "text/plain": [
       "<geemap.eefolium.Map at 0x7f683b6da490>"
      ]
     },
     "execution_count": 11,
     "metadata": {},
     "output_type": "execute_result"
    }
   ],
   "source": [
    "Map = geemap.Map()\n",
    "Map.centerObject(point)\n",
    "Map.addLayer(S2.first(),rgbUnscaled,'No Clouds/Shadows masking')\n",
    "Map.addLayer(S2a.first(),rgbUnscaled,'QA masking')\n",
    "Map.addLayer(S2b.first(),rgbUnscaled,'QA masking with no cirrus masking')\n",
    "Map.addLayer(S2c.first(),rgbUnscaled,'60% Cloud Probability masking')\n",
    "Map.addLayer(S2d.first(),rgbUnscaled,'75% Cloud Probability masking')\n",
    "Map.addLayer(S2e.first(),rgbUnscaled,'60% Cloud Probability masking with a 500 m dilation')\n",
    "Map.addLayer(S2f.first(),rgbUnscaled,'60% Cloud Probability masking with a 0.1 NIR threshold')\n",
    "Map.addLayer(S2g.first(),rgbUnscaled,'60% Cloud Probability masking with a 2000 m cloud shadow search range')\n",
    "Map.addLayer(S2h.first(),rgbUnscaled,'60% Cloud Probability masking with a CDI of -0.5')\n",
    "Map.addLayer(S2i.first(),rgbUnscaled,'60% Cloud Probability masking with no shadow masking')\n",
    "Map.addLayer(S2j.first(),rgbScaled,'60% Cloud Probability masking of a scaled image')\n",
    "Map.addLayerControl()\n",
    "Map"
   ]
  },
  {
   "cell_type": "code",
   "execution_count": 12,
   "metadata": {},
   "outputs": [],
   "source": [
    "f1 = ee.Feature(ee.Geometry.Point([3.984770,48.767221]).buffer(50),{'ID':'A'})\n",
    "f2 = ee.Feature(ee.Geometry.Point([4.101367,48.748076]).buffer(50),{'ID':'B'})\n",
    "fc = ee.FeatureCollection([f1,f2])\n",
    "\n",
    "S2 = (ee.ImageCollection('COPERNICUS/S2_SR')\n",
    "   .filterBounds(fc)\n",
    "   .filterDate('2020-01-01','2021-01-01')\n",
    "   .maskClouds()\n",
    "   .scale()\n",
    "   .index(['EVI','NDVI']))\n",
    "\n",
    "# By Region\n",
    "ts = S2.getTimeSeriesByRegion(reducer = [ee.Reducer.mean(),ee.Reducer.median()],\n",
    "                              geometry = fc,\n",
    "                              bands = ['EVI','NDVI'],\n",
    "                              scale = 10)"
   ]
  }
 ],
 "metadata": {
  "kernelspec": {
   "display_name": "Python 3",
   "language": "python",
   "name": "python3"
  },
  "language_info": {
   "codemirror_mode": {
    "name": "ipython",
    "version": 3
   },
   "file_extension": ".py",
   "mimetype": "text/x-python",
   "name": "python",
   "nbconvert_exporter": "python",
   "pygments_lexer": "ipython3",
   "version": "3.8.5"
  },
  "varInspector": {
   "cols": {
    "lenName": 16,
    "lenType": 16,
    "lenVar": 40
   },
   "kernels_config": {
    "python": {
     "delete_cmd_postfix": "",
     "delete_cmd_prefix": "del ",
     "library": "var_list.py",
     "varRefreshCmd": "print(var_dic_list())"
    },
    "r": {
     "delete_cmd_postfix": ") ",
     "delete_cmd_prefix": "rm(",
     "library": "var_list.r",
     "varRefreshCmd": "cat(var_dic_list()) "
    }
   },
   "types_to_exclude": [
    "module",
    "function",
    "builtin_function_or_method",
    "instance",
    "_Feature"
   ],
   "window_display": false
  }
 },
 "nbformat": 4,
 "nbformat_minor": 4
}
