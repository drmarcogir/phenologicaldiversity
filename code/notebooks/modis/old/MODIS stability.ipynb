{
 "cells": [
  {
   "cell_type": "markdown",
   "metadata": {},
   "source": [
    "### Load required modules"
   ]
  },
  {
   "cell_type": "code",
   "execution_count": 1,
   "metadata": {},
   "outputs": [],
   "source": [
    "# load required modules\n",
    "import ee\n",
    "ee.Initialize()\n",
    "import pandas as pd\n",
    "import numpy as np\n",
    "import statistics"
   ]
  },
  {
   "cell_type": "code",
   "execution_count": 2,
   "metadata": {},
   "outputs": [],
   "source": [
    "from statistics import mean\n",
    "from statistics import stdev\n",
    "# load leaflet interactive map\n",
    "import geemap\n",
    "Map = geemap.Map()\n",
    "Map.add_basemap('HYBRID')"
   ]
  },
  {
   "cell_type": "code",
   "execution_count": 3,
   "metadata": {},
   "outputs": [],
   "source": [
    "Rectangle1 = ee.Geometry.Polygon(\n",
    "        [[[-178.2918491139962, 73.88593845172474],\n",
    "          [-178.2918491139962, -61.42493117272831],\n",
    "          [179.98940088600375, -61.42493117272831],\n",
    "          [179.98940088600375, 73.88593845172474]]], None, False)"
   ]
  },
  {
   "cell_type": "markdown",
   "metadata": {},
   "source": [
    "### 16-day MODIS NDVI composite"
   ]
  },
  {
   "cell_type": "code",
   "execution_count": 4,
   "metadata": {},
   "outputs": [],
   "source": [
    "# function for extracting quality bits\n",
    "def getQABits(image, start, end, mascara):\n",
    "    # Compute the bits we need to extract.\n",
    "    pattern = 0\n",
    "    for i in range(start,end+1):\n",
    "        pattern += 2**i\n",
    "    # Return a single band image of the extracted QA bits, giving the     band a new name.\n",
    "    return image.select([0], [mascara]).bitwiseAnd(pattern).rightShift(start)\n",
    "\n",
    "# mask out low quality pixels (based on flags)\n",
    "def maskPixels(image0):\n",
    "    #Select the QA band\n",
    "    QA = image0.select('DetailedQA')\n",
    "    # overall pixel quality\n",
    "    overallqa = getQABits(QA, 0, 1,'DetailedQA')\n",
    "    # overall pixel quality\n",
    "    usefulness = getQABits(QA, 2, 5,'DetailedQA')\n",
    "    # aerosol quantity\n",
    "    aerosol = getQABits(QA, 6, 7,'DetailedQA')\n",
    "    # adjenct clouds detected\n",
    "    cloudad = getQABits(QA, 8,8,'DetailedQA')\n",
    "    # brdf correction\n",
    "    brdf = getQABits(QA, 9,9,'DetailedQA')\n",
    "    # mixed clouds\n",
    "    mclouds = getQABits(QA, 10,10,'DetailedQA')\n",
    "    # land mask\n",
    "    land = getQABits(QA, 11,13,'DetailedQA')\n",
    "    # snowice\n",
    "    snowice = getQABits(QA, 14,14,'DetailedQA')\n",
    "    # shadow\n",
    "    shadow = getQABits(QA, 15,15,'DetailedQA')\n",
    "    mask = usefulness.lt(2).And(aerosol.eq(1)).And(cloudad.Not()).And(brdf.Not()).And(mclouds.Not()).And(land.eq(1)).And(shadow.Not())\n",
    "    # final image\n",
    "    img = image0.updateMask(mask) \n",
    "    return img"
   ]
  },
  {
   "cell_type": "code",
   "execution_count": 4,
   "metadata": {},
   "outputs": [],
   "source": [
    "# load NDVI collection (16-day composite)\n",
    "# set dates\n",
    "start_date = ee.Date.fromYMD(2001, 1, 1)\n",
    "end_date   = ee.Date.fromYMD(2019, 12, 31)\n",
    "collection = ee.ImageCollection('MODIS/006/MOD13Q1').filterDate(start_date, end_date)\n",
    "dataset = collection.map(maskPixels)\n",
    "wpa = ee.FeatureCollection(\"WCMC/WDPA/current/polygons\") \n",
    "dem = ee.Image(\"USGS/SRTMGL1_003\")"
   ]
  },
  {
   "cell_type": "code",
   "execution_count": null,
   "metadata": {},
   "outputs": [],
   "source": []
  },
  {
   "cell_type": "markdown",
   "metadata": {},
   "source": [
    "### Daily MODIS 500 m collection (better to get an annual map with maximum in terms of coverage) \n",
    "Mountain tops are frequently cloudy"
   ]
  },
  {
   "cell_type": "code",
   "execution_count": 7,
   "metadata": {},
   "outputs": [],
   "source": [
    "# add NDVI to data\n",
    "def addNDVI(image):\n",
    "    #image = image.updateMask(MakMarco.eq(1))\n",
    "    return image.addBands(image.normalizedDifference(['sur_refl_b02','sur_refl_b01']).rename('NDVI')).float()\n",
    "\n",
    "# function for extracting quality bits\n",
    "def getQABits(image, start, end, mascara):\n",
    "    # Compute the bits we need to extract.\n",
    "    pattern = 0\n",
    "    for i in range(start,end+1):\n",
    "        pattern += 2**i\n",
    "    # Return a single band image of the extracted QA bits, giving the     band a new name.\n",
    "    return image.select([0], [mascara]).bitwiseAnd(pattern).rightShift(start)\n",
    "\n",
    "# mask out low quality pixels (based on flags)\n",
    "def maskPixels(image0):\n",
    "    #Select the QA band\n",
    "    QA = image0.select('state_1km')\n",
    "    # Get the land_water_flag bits\n",
    "    landWaterFlag = getQABits(QA, 3, 5, 'land_water_flag')\n",
    "    #Get the cloud_state bits and find cloudy areas.\n",
    "    cloud = getQABits(QA, 0, 1, 'cloud_state').expression(\"b(0) == 1 || b(0) == 2\")\n",
    "    # Get the cloud_shadow bit\n",
    "    cloudShadows = getQABits(QA, 2, 2, 'cloud_shadow')\n",
    "    # Get the Pixel is adjacent to cloud bit\n",
    "    cloudAdjacent = getQABits(QA, 13, 13, 'cloud_adj')\n",
    "    # Get the internal cloud flag\n",
    "    cloud2 = getQABits(QA, 10, 10, 'cloud_internal')\n",
    "    # Get the internal fire flag\n",
    "    fire = getQABits(QA, 11, 11, 'fire_internal')\n",
    "    # Get the MOD35 snow/ice flag\n",
    "    snow1 = getQABits(QA, 12, 12, 'snow_MOD35')\n",
    "    # Get the internal snow flag\n",
    "    snow2 = getQABits(QA, 15, 15, 'snow_internal')\n",
    "    # create mask\n",
    "    mask = landWaterFlag.eq(1).And(cloud.Not()).And(cloudShadows.Not()).And(cloudAdjacent.Not()).And(cloud2.Not()).And(fire.Not()).And(snow1.Not()).And(snow2.Not())\n",
    "    return image0.updateMask(mask) "
   ]
  },
  {
   "cell_type": "markdown",
   "metadata": {},
   "source": [
    "#### Load collection and filter it by date and quality flags"
   ]
  },
  {
   "cell_type": "code",
   "execution_count": 8,
   "metadata": {},
   "outputs": [],
   "source": [
    "collection = ee.ImageCollection('MODIS/006/MOD09GA').filterDate('2001-01-01', '2019-12-31')\n",
    "# Mask pixels\n",
    "MOD09masked = collection.filterDate(start_date, end_date).map(maskPixels)\n",
    "# add NDVI band\n",
    "dataset = MOD09masked.map(addNDVI).select('NDVI')"
   ]
  },
  {
   "cell_type": "code",
   "execution_count": 451,
   "metadata": {},
   "outputs": [],
   "source": [
    "# load worldclim for resampling\n",
    "worldclim = ee.Image(\"WORLDCLIM/V1/BIO\")\n",
    "outproj = worldclim.projection()\n",
    "sourceproj = dataset.first().projection()"
   ]
  },
  {
   "cell_type": "code",
   "execution_count": 444,
   "metadata": {},
   "outputs": [],
   "source": [
    "yearlist = ee.List.sequence(2001, 2019,1)\n",
    "outlist = ee.List([])\n",
    "for year in years:\n",
    "    tmp = dataset.filter(ee.Filter.date(str(year)+'-01-01', str(year)+'-12-31')).select('NDVI').max()   \n",
    "    #tmpndvi = dataset.filter(ee.Filter.date(str(year)+'-01-01', str(year)+'-12-31')).select('NDVI').max().reproject(crs = sourceproj)\n",
    "    #tmp = tmpndvi.reduceResolution(reducer = ee.Reducer.stdDev(),maxPixels = 1024).reproject(crs = outproj)\n",
    "    #yearBand = ee.Image.constant((year - mean(years))/stdev(years)).float().rename('year')\n",
    "    #tmp = tmp.addBands(yearBand)\n",
    "    #ndvisd1 = ndvic.clip(wpa)\n",
    "    #dem1 = dem.updateMask(dem.gte(2000))\n",
    "    #ndvipa = ndvisd1.updateMask(dem1)\n",
    "    #dem2 = dem1.clip(wpa)\n",
    "    #outlist = outlist.add(tmp)\n",
    "    filename = 'NDVI_500m_'+str(year)\n",
    "    task = ee.batch.Export.image.toDrive(image = tmp,description = filename,folder = \"NDVI_500m\",scale = 463.3127165275,\n",
    "                                     fileFormat = 'GeoTIFF',skipEmptyTiles = True,crs = 'EPSG:4326',maxPixels = 1e13)\n",
    "    task.start()"
   ]
  },
  {
   "cell_type": "code",
   "execution_count": 10,
   "metadata": {},
   "outputs": [],
   "source": [
    "year = 2001\n",
    "tmp = dataset.filter(ee.Filter.date(str(year)+'-01-01', str(year)+'-12-31')).select('NDVI').max() "
   ]
  },
  {
   "cell_type": "code",
   "execution_count": 13,
   "metadata": {},
   "outputs": [],
   "source": [
    "filename = 'NDVI_500m_'+str(year)\n",
    "task = ee.batch.Export.image.toDrive(image = tmp,description = filename,folder = \"NDVI_500m\",scale = 463.3127165275,\n",
    "                                     fileFormat = 'GeoTIFF',skipEmptyTiles = True,crs = 'EPSG:4326',maxPixels = 1e13,\n",
    "                                    region = Rectangle1)\n",
    "task.start()"
   ]
  },
  {
   "cell_type": "markdown",
   "metadata": {},
   "source": [
    "### Various clippings"
   ]
  },
  {
   "cell_type": "code",
   "execution_count": 445,
   "metadata": {},
   "outputs": [],
   "source": [
    "# fit linear model to time series\n",
    "ndvinew = ee.ImageCollection(outlist)\n",
    "ndvic = ndvinew.select(['year', 'NDVI']).reduce(ee.Reducer.linearFit()).select('scale')"
   ]
  },
  {
   "cell_type": "code",
   "execution_count": 438,
   "metadata": {},
   "outputs": [],
   "source": [
    "ndvisd1 = ndvic.clip(wpa)\n",
    "dem1 = dem.updateMask(dem.gte(2000))\n",
    "ndvipa = ndvisd1.updateMask(dem1)\n",
    "dem2 = dem1.clip(wpa)"
   ]
  },
  {
   "cell_type": "markdown",
   "metadata": {},
   "source": [
    "### Map plotting"
   ]
  },
  {
   "cell_type": "code",
   "execution_count": null,
   "metadata": {},
   "outputs": [],
   "source": [
    "Map"
   ]
  },
  {
   "cell_type": "code",
   "execution_count": null,
   "metadata": {},
   "outputs": [],
   "source": [
    "ndviVis = {'min': -20,'max': 500,'palette': ['FFFFFF', 'CE7E45', 'DF923D', 'F1B555', 'FCD163', '99B718', '74A901',\n",
    "'66A000', '529400', '3E8601', '207401', '056201', '004C00', '023B01','012E01', '011D01', '011301']}\n",
    "#Map.addLayer(ndvic,'','NDVI cor2')\n",
    "Map.addLayer(ndvic,ndviVis,'shrubs5')\n",
    "Map.addLayer(dem2,'','DEM AREAS')"
   ]
  }
 ],
 "metadata": {
  "kernelspec": {
   "display_name": "Python 3",
   "language": "python",
   "name": "python3"
  },
  "language_info": {
   "codemirror_mode": {
    "name": "ipython",
    "version": 3
   },
   "file_extension": ".py",
   "mimetype": "text/x-python",
   "name": "python",
   "nbconvert_exporter": "python",
   "pygments_lexer": "ipython3",
   "version": "3.8.5"
  },
  "varInspector": {
   "cols": {
    "lenName": 16,
    "lenType": 16,
    "lenVar": 40
   },
   "kernels_config": {
    "python": {
     "delete_cmd_postfix": "",
     "delete_cmd_prefix": "del ",
     "library": "var_list.py",
     "varRefreshCmd": "print(var_dic_list())"
    },
    "r": {
     "delete_cmd_postfix": ") ",
     "delete_cmd_prefix": "rm(",
     "library": "var_list.r",
     "varRefreshCmd": "cat(var_dic_list()) "
    }
   },
   "types_to_exclude": [
    "module",
    "function",
    "builtin_function_or_method",
    "instance",
    "_Feature"
   ],
   "window_display": false
  }
 },
 "nbformat": 4,
 "nbformat_minor": 4
}
