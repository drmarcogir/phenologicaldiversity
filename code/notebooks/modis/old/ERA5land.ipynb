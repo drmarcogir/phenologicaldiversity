{
 "cells": [
  {
   "cell_type": "code",
   "execution_count": 1,
   "metadata": {},
   "outputs": [],
   "source": [
    "import ee\n",
    "ee.Initialize()\n",
    "import geemap\n",
    "Map = geemap.Map()"
   ]
  },
  {
   "cell_type": "code",
   "execution_count": 2,
   "metadata": {},
   "outputs": [],
   "source": [
    "from datetime import datetime"
   ]
  },
  {
   "cell_type": "code",
   "execution_count": 3,
   "metadata": {},
   "outputs": [],
   "source": [
    "def addndvi(image):\n",
    "    return image.addBands(image.normalizedDifference(['sur_refl_b02','sur_refl_b01']).rename('NDVI')).float()"
   ]
  },
  {
   "cell_type": "code",
   "execution_count": 4,
   "metadata": {},
   "outputs": [],
   "source": [
    "primary = ee.ImageCollection('MODIS/006/MOD09A1').filterDate('2020-01-01', '2020-12-31').map(addndvi).select('NDVI')\n",
    "era5d = ee.ImageCollection(\"ECMWF/ERA5_LAND/HOURLY\").filter(ee.Filter.date('2020-01-01', '2020-12-31')).select('temperature_2m')"
   ]
  },
  {
   "cell_type": "code",
   "execution_count": 80,
   "metadata": {},
   "outputs": [],
   "source": [
    "oneday = 1*24*60*60*1000\n",
    "timefilter = ee.Filter(\n",
    "    ee.Filter.maxDifference(\n",
    "        difference = oneday,\n",
    "        leftField = 'system:time_start',\n",
    "        rightField = 'system:time_end'))\n",
    "\n",
    "saveallj = ee.Join.saveAll(\n",
    "    matchesKey = 'era5',\n",
    "    ordering = 'system:time_start',\n",
    "    ascending = True\n",
    ")\n",
    "collj = ee.ImageCollection(saveallj.apply(primary,era5d,timefilter))"
   ]
  },
  {
   "cell_type": "code",
   "execution_count": 94,
   "metadata": {},
   "outputs": [],
   "source": [
    "def temp_filt(image):\n",
    "    temp = ee.ImageCollection(ee.List(image.get('era5'))).mean()\n",
    "    temp1 = temp.expression('temperature_2m -273.15',{'temperature_2m': temp.select('temperature_2m')})\n",
    "    return image.updateMask(temp1.gt(0)).select('NDVI')"
   ]
  },
  {
   "cell_type": "code",
   "execution_count": 95,
   "metadata": {},
   "outputs": [],
   "source": [
    "finalcol = collj.map(temp_filt)"
   ]
  },
  {
   "cell_type": "code",
   "execution_count": 42,
   "metadata": {},
   "outputs": [],
   "source": [
    "#for one in infol:\n",
    "#    st = one.get('properties').get('system:time_start')\n",
    "#    dt = datetime.fromtimestamp(st/1000).strftime('%c')\n",
    "    #print(dt)"
   ]
  },
  {
   "cell_type": "code",
   "execution_count": 248,
   "metadata": {},
   "outputs": [
    {
     "data": {
      "text/plain": [
       "'Thu Jan  9 01:00:00 2020'"
      ]
     },
     "execution_count": 248,
     "metadata": {},
     "output_type": "execute_result"
    }
   ],
   "source": [
    "#datetime.fromtimestamp(1578528000000/1000).strftime('%c')"
   ]
  },
  {
   "cell_type": "code",
   "execution_count": 149,
   "metadata": {},
   "outputs": [],
   "source": [
    "#day2 = day1.expression('temperature_2m -273.15',{'temperature_2m': day1.select('temperature_2m')})\n",
    "#day2b = day2.updateMask(day2.gt(0))"
   ]
  },
  {
   "cell_type": "code",
   "execution_count": 100,
   "metadata": {},
   "outputs": [],
   "source": [
    "#Map.addLayer(hh,{'palette':['blue','green','red']},'temp6')"
   ]
  },
  {
   "cell_type": "code",
   "execution_count": 29,
   "metadata": {},
   "outputs": [
    {
     "data": {
      "application/vnd.jupyter.widget-view+json": {
       "model_id": "fd38ba68857748a59b69249a80f9c966",
       "version_major": 2,
       "version_minor": 0
      },
      "text/plain": [
       "Map(center=[40, -100], controls=(WidgetControl(options=['position'], widget=HBox(children=(ToggleButton(value=…"
      ]
     },
     "metadata": {},
     "output_type": "display_data"
    }
   ],
   "source": [
    "Map"
   ]
  },
  {
   "cell_type": "code",
   "execution_count": 137,
   "metadata": {},
   "outputs": [
    {
     "data": {
      "text/plain": [
       "'2020-01-01'"
      ]
     },
     "execution_count": 137,
     "metadata": {},
     "output_type": "execute_result"
    }
   ],
   "source": [
    "ee.Date(image.date()).format('yyyy-MM-dd').getInfo()"
   ]
  },
  {
   "cell_type": "code",
   "execution_count": 147,
   "metadata": {},
   "outputs": [
    {
     "data": {
      "text/plain": [
       "1"
      ]
     },
     "execution_count": 147,
     "metadata": {},
     "output_type": "execute_result"
    }
   ],
   "source": [
    "primary = ee.ImageCollection('MODIS/006/MOD09A1').filterDate('2020-01-01', '2020-01-02')\n",
    "primary.size().getInfo()"
   ]
  }
 ],
 "metadata": {
  "kernelspec": {
   "display_name": "Python 3",
   "language": "python",
   "name": "python3"
  },
  "language_info": {
   "codemirror_mode": {
    "name": "ipython",
    "version": 3
   },
   "file_extension": ".py",
   "mimetype": "text/x-python",
   "name": "python",
   "nbconvert_exporter": "python",
   "pygments_lexer": "ipython3",
   "version": "3.8.5"
  }
 },
 "nbformat": 4,
 "nbformat_minor": 4
}
