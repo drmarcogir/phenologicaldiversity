{
 "cells": [
  {
   "cell_type": "code",
   "execution_count": 20,
   "metadata": {},
   "outputs": [],
   "source": [
    "# load required modules\n",
    "import ee\n",
    "ee.Initialize()\n",
    "import pandas as pd\n",
    "import numpy as np"
   ]
  },
  {
   "cell_type": "code",
   "execution_count": 21,
   "metadata": {},
   "outputs": [],
   "source": [
    "# load leaflet interactive map\n",
    "import geemap\n",
    "Map = geemap.Map()"
   ]
  },
  {
   "cell_type": "markdown",
   "metadata": {},
   "source": [
    "### MCD12Q2 v006 phenology product"
   ]
  },
  {
   "cell_type": "code",
   "execution_count": 9,
   "metadata": {},
   "outputs": [],
   "source": [
    "# function for extracting quality bits\n",
    "def getQABits(image, start, end, mascara):\n",
    "    # Compute the bits we need to extract.\n",
    "    pattern = 0\n",
    "    for i in range(start,end+1):\n",
    "        pattern += 2**i\n",
    "    # Return a single band image of the extracted QA bits, giving the     band a new name.\n",
    "    return image.select([0], [mascara]).bitwiseAnd(pattern).rightShift(start)\n",
    "    \n",
    "# function for filtering image based on quality bits\n",
    "def mask_pixelsall(bstart,bend):\n",
    "    def maskPixels(image0):\n",
    "        tmp = image0.select('QA_Detailed_1')\n",
    "        quality = getQABits(tmp, bstart, bend, 'QA_Detailed_1')\n",
    "        # Create a mask that filters out undesired areas\n",
    "        mask = quality.eq(0).Or(quality.eq(1)).Or(quality.eq(2))\n",
    "        return image0.updateMask(mask) \n",
    "    return(maskPixels)\n",
    "\n",
    "# function for masking areas where there have not land use changes. This layer was created using the ESA cci map\n",
    "def mask_image(image):\n",
    "    image = image.updateMask(MakMarco.eq(1))\n",
    "    return image\n",
    "\n",
    "def calculate_sd(image):\n",
    "    #image_sd = image.reproject(crs = 'SR-ORG:6974',scale = 463.3127165275).reduceResolution(ee.Reducer.stdDev(), False, 65536).reproject(ee.Projection('EPSG:4326').scale(0.05, 0.05)).updateMask(1)\n",
    "    image_sd = image.reduceResolution(reducer = ee.Reducer.stdDev(), bestEffort=False, maxPixels=117)\n",
    "    return image_sd"
   ]
  },
  {
   "cell_type": "code",
   "execution_count": 3,
   "metadata": {},
   "outputs": [],
   "source": [
    "# ---- load datasets\n",
    "# load MODIS phenology product\n",
    "modis_phenoprod = ee.ImageCollection('MODIS/006/MCD12Q2')\n",
    "# load mask of unchanged forest pixels\n",
    "MakMarco = ee.Image(\"users/marcogirardello/mask_unchanged_500m\")\n",
    "# grid for export to assets\n",
    "# list of polygons\n",
    "worldgrid = ee.FeatureCollection('users/marcogirardello/grid_export_phenology')"
   ]
  },
  {
   "cell_type": "code",
   "execution_count": 10,
   "metadata": {},
   "outputs": [],
   "source": [
    "# polygon list for export grid\n",
    "polygons = list(range(1, 42+1))\n",
    "\n",
    "# ------- Greenup\n",
    "#GUP = modis_phenoprod.select(['Greenup_1','QA_Detailed_1'])\n",
    "# only take pixels above a certain threshold level\n",
    "#GUP1 = GUP.map(mask_pixelsall(bstart=0,bend=1)).select('Greenup_1')\n",
    "# only consider pixels where there have been no land cover changes\n",
    "#GUP2 = GUP1.map(mask_image)\n",
    "# calculate standard deviation for collection\n",
    "#GUP_sd = GUP2.map(calculate_sd)\n",
    "# median\n",
    "#GUP_sd_median = GUP_sd.median()\n",
    "#for polygon in polygons:\n",
    "#    print('Greenup Polygon number '+str(polygon))\n",
    "#    #subset polygon\n",
    "#    tmp_poly = worldgrid.filterMetadata('polyID', 'equals', polygon).first().geometry()\n",
    "#    #assetname\n",
    "#    filename = 'GUP_'+str(polygon)\n",
    "#    # export GUP to google drive\n",
    "#    task = ee.batch.Export.image.toDrive(image=GUP_sd_median,description=filename,folder=\"curruspito_phenology\",\n",
    "#                                        scale=500,fileFormat='GeoTIFF',skipEmptyTiles=True,\n",
    "#                                         crs = 'EPSG:4326',maxPixels = 1e13,region = tmp_poly)\n",
    "    \n",
    "#   task.start()\n",
    "\n",
    "# ------- Peak\n",
    "# subset Peak for given year\n",
    "Peak = modis_phenoprod.select(['Peak_1','QA_Detailed_1'])\n",
    "# only take pixels above a certain threshold level\n",
    "Peak1 = Peak.map(mask_pixelsall(bstart=6,bend=7)).select('Peak_1')\n",
    "# filter using mask where pixels have been stable\n",
    "Peak2 = Peak1.map(mask_image)\n",
    "# calculate standard deviation for collection\n",
    "Peak_sd = Peak2.map(calculate_sd)\n",
    "# median\n",
    "#Peak_sd_median = Peak_sd.median()\n",
    "\n",
    "#for polygon in polygons:\n",
    "#    print('Peak Polygon number '+str(polygon))\n",
    "    # subset polygon\n",
    "#    tmp_poly = worldgrid.filterMetadata('polyID', 'equals', polygon).first().geometry()\n",
    "    # assetname\n",
    "#    filename= 'Peak_'+str(polygon)\n",
    "    # export GUP to google drive\n",
    "#    task = ee.batch.Export.image.toDrive(image=Peak_sd_median,description=filename,folder=\"curruspito_phenology\",\n",
    "#                                         fileFormat='GeoTIFF',skipEmptyTiles=True,maxPixels = 1e13,\n",
    "#                                         region = tmp_poly)\n",
    "#    task.start()\n",
    "\n",
    "# ------- Dormancy # CHANGE RESOLUTION WRONG!!!!!!!\n",
    "#Dormancy = modis_phenoprod.select(['Dormancy_1','QA_Detailed_1'])\n",
    "# only take pixels above a certain threshold level\n",
    "#Dormancy1 = Dormancy.map(mask_pixelsall(bstart=12,bend=13)).select('Dormancy_1')\n",
    "# filter using mask where pixels have been stable\n",
    "#Dormancy2 = Dormancy1.map(mask_image)\n",
    "# calculate standard deviation for collection\n",
    "#Dormancy_sd = Dormancy2.map(calculate_sd)\n",
    "# median\n",
    "#Dormancy_sd_median = Dormancy_sd.median()\n",
    "\n",
    "#for polygon in polygons:\n",
    "#    print('Dormancy Polygon number '+str(polygon))\n",
    "    # subset polygon\n",
    "#    tmp_poly = worldgrid.filterMetadata('polyID', 'equals', polygon).first().geometry()\n",
    "    # assetname\n",
    "#    filename= 'Dormancy_'+str(polygon)\n",
    "    # export GUP to google drive\n",
    "#    task = ee.batch.Export.image.toDrive(image=Dormancy_sd_median,description=filename,folder=\"curruspito_phenology\",\n",
    "#                                        scale=500,fileFormat='GeoTIFF',skipEmptyTiles=True,\n",
    "#                                        crs = 'EPSG:4326',maxPixels = 1e13,region = tmp_poly)\n",
    "#   task.start()\n"
   ]
  },
  {
   "cell_type": "code",
   "execution_count": 23,
   "metadata": {},
   "outputs": [],
   "source": [
    "image = Peak_sd.first()"
   ]
  },
  {
   "cell_type": "code",
   "execution_count": 24,
   "metadata": {},
   "outputs": [],
   "source": [
    "Map.addLayer(image)"
   ]
  },
  {
   "cell_type": "code",
   "execution_count": 22,
   "metadata": {},
   "outputs": [
    {
     "data": {
      "application/vnd.jupyter.widget-view+json": {
       "model_id": "77a5a60b15af4e9d9b991cf8df2b81d3",
       "version_major": 2,
       "version_minor": 0
      },
      "text/plain": [
       "Map(center=[40, -100], controls=(ZoomControl(options=['position', 'zoom_in_text', 'zoom_in_title', 'zoom_out_t…"
      ]
     },
     "metadata": {},
     "output_type": "display_data"
    }
   ],
   "source": [
    "Map"
   ]
  },
  {
   "cell_type": "code",
   "execution_count": 18,
   "metadata": {},
   "outputs": [],
   "source": [
    "Map.addLayer(image)"
   ]
  },
  {
   "cell_type": "code",
   "execution_count": null,
   "metadata": {},
   "outputs": [],
   "source": [
    "\n",
    "    # ------- Season length\n",
    "    season_length = Dormancy2.subtract(GUP2)\n",
    "    # calculate standard deviation\n",
    "    SL_sd = season_length.reduceNeighborhood(reducer='stdDev',kernel= ee.Kernel.square(6, 'pixels'),skipMasked =True)\n",
    "    # create filename\n",
    "    filename = 'SL_sd_'+str(year)\n",
    "    # export Dormancy to google drive\n",
    "    task = ee.batch.Export.image.toDrive(image=SL_sd,description=filename,folder=\"curruspito_phenology\",\n",
    "                                         scale=5565.974539663679,fileFormat='GeoTIFF',skipEmptyTiles=True,\n",
    "                                         crs = 'EPSG:4326',maxPixels = 1e13)\n",
    "    task.start()"
   ]
  }
 ],
 "metadata": {
  "kernelspec": {
   "display_name": "Python 3",
   "language": "python",
   "name": "python3"
  },
  "language_info": {
   "codemirror_mode": {
    "name": "ipython",
    "version": 3
   },
   "file_extension": ".py",
   "mimetype": "text/x-python",
   "name": "python",
   "nbconvert_exporter": "python",
   "pygments_lexer": "ipython3",
   "version": "3.8.2"
  }
 },
 "nbformat": 4,
 "nbformat_minor": 4
}
