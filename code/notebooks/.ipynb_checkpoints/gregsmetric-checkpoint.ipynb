{
 "cells": [
  {
   "cell_type": "code",
   "execution_count": 1,
   "id": "06e0abc5-2220-4072-bea0-c90dce407f07",
   "metadata": {},
   "outputs": [],
   "source": [
    "import ee\n",
    "ee.Initialize()\n",
    "import geemap\n"
   ]
  },
  {
   "cell_type": "code",
   "execution_count": 4,
   "id": "5e3ad3cd-9c79-4571-bec0-37b404f8177c",
   "metadata": {},
   "outputs": [],
   "source": [
    "from IPython.display import JSON"
   ]
  },
  {
   "cell_type": "code",
   "execution_count": 15,
   "id": "9b2eb8de-b5ad-4fff-a35f-f4264b22fc69",
   "metadata": {},
   "outputs": [],
   "source": [
    "roi = ee.Geometry.Polygon(ee.FeatureCollection(\"users/marcogirardello/boundboxes/boxglobal1\").geometry().getInfo().get('coordinates'))"
   ]
  },
  {
   "cell_type": "code",
   "execution_count": 6,
   "id": "d0414a75-6369-4c79-9c20-3f7bb13be91d",
   "metadata": {},
   "outputs": [],
   "source": [
    "MaskMarco = ee.Image('users/marcogirardello/phenoutils/mask_unchanged_500m')\n",
    "image2003 = ee.Image(\"users/gduveiller/TCI/TCI_precursor_NDVI_2003_Global\")\n",
    "image2004 = ee.Image(\"users/gduveiller/TCI/TCI_precursor_NDVI_2004_Global\")\n",
    "image2005 = ee.Image(\"users/gduveiller/TCI/TCI_precursor_NDVI_2005_Global\")\n",
    "image2006 = ee.Image(\"users/gduveiller/TCI/TCI_precursor_NDVI_2006_Global\")\n",
    "image2007 = ee.Image(\"users/gduveiller/TCI/TCI_precursor_NDVI_2007_Global\")\n",
    "image2008 = ee.Image(\"users/gduveiller/TCI/TCI_precursor_NDVI_2008_Global\")\n",
    "image2009 = ee.Image(\"users/gduveiller/TCI/TCI_precursor_NDVI_2009_Global\")\n",
    "image2010 = ee.Image(\"users/gduveiller/TCI/TCI_precursor_NDVI_2010_Global\")\n",
    "image2011 = ee.Image(\"users/gduveiller/TCI/TCI_precursor_NDVI_2011_Global\")\n",
    "\n",
    "image2011 = ee.Image(\"users/gduveiller/TCI/TCI_precursor_NDVI_2011_Global\")\n",
    "image2012 = ee.Image(\"users/gduveiller/TCI/TCI_precursor_NDVI_2012_Global\")\n",
    "image2013 = ee.Image(\"users/gduveiller/TCI/TCI_precursor_NDVI_2013_Global\")\n",
    "image2014 = ee.Image(\"users/gduveiller/TCI/TCI_precursor_NDVI_2014_Global\")\n",
    "image2015 = ee.Image(\"users/gduveiller/TCI/TCI_precursor_NDVI_2015_Global\")\n",
    "image2016 = ee.Image(\"users/gduveiller/TCI/TCI_precursor_NDVI_2016_Global\")\n",
    "image2017 = ee.Image(\"users/gduveiller/TCI/TCI_precursor_NDVI_2017_Global\")\n",
    "image2018 = ee.Image(\"users/gduveiller/TCI/TCI_precursor_NDVI_2018_Global\")\n",
    "image2019 = ee.Image(\"users/gduveiller/TCI/TCI_precursor_NDVI_2019_Global\")\n",
    "image2020 = ee.Image(\"users/gduveiller/TCI/TCI_precursor_NDVI_2020_Global\")\n",
    "\n",
    "First = ee.ImageCollection.fromImages([image2003,image2004,image2005,image2006,image2007,\n",
    "image2008,image2009,image2010,image2011]).median().select('std').updateMask(MaskMarco.eq(1))\n",
    "\n",
    "Last = ee.ImageCollection.fromImages([image2011,image2012,image2013,image2014,image2015,image2016,\n",
    "image2017,image2018,image2019,image2020]).median().select('std').updateMask(MaskMarco.eq(1))"
   ]
  },
  {
   "cell_type": "code",
   "execution_count": 18,
   "id": "5f294a8e-3d0d-4bbb-85e6-f82d6843cef9",
   "metadata": {},
   "outputs": [],
   "source": [
    "task = ee.batch.Export.image.toCloudStorage(image = Last,scale = 231.656358264,crs = 'EPSG:4623',\n",
    "                                    region = roi,maxPixels = 1e13,description ='last_image',bucket ='gregmetric')\n",
    "task.start()"
   ]
  }
 ],
 "metadata": {
  "kernelspec": {
   "display_name": "Python 3 (ipykernel)",
   "language": "python",
   "name": "python3"
  },
  "language_info": {
   "codemirror_mode": {
    "name": "ipython",
    "version": 3
   },
   "file_extension": ".py",
   "mimetype": "text/x-python",
   "name": "python",
   "nbconvert_exporter": "python",
   "pygments_lexer": "ipython3",
   "version": "3.8.10"
  }
 },
 "nbformat": 4,
 "nbformat_minor": 5
}
