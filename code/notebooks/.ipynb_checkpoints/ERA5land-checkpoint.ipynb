{
 "cells": [
  {
   "cell_type": "code",
   "execution_count": 1,
   "metadata": {},
   "outputs": [],
   "source": [
    "import ee\n",
    "ee.Initialize()\n",
    "import geemap\n",
    "Map = geemap.Map()"
   ]
  },
  {
   "cell_type": "code",
   "execution_count": 213,
   "metadata": {},
   "outputs": [],
   "source": [
    "from datetime import datetime"
   ]
  },
  {
   "cell_type": "code",
   "execution_count": 2,
   "metadata": {},
   "outputs": [],
   "source": [
    "def addndvi(image):\n",
    "    return image.addBands(image.normalizedDifference(['sur_refl_b02','sur_refl_b01']).rename('NDVI')).float()"
   ]
  },
  {
   "cell_type": "code",
   "execution_count": 261,
   "metadata": {},
   "outputs": [],
   "source": [
    "primary = ee.ImageCollection('MODIS/006/MOD09A1').filterDate('2020-01-01', '2020-12-31').map(addndvi).select('NDVI')\n",
    "era5d = ee.ImageCollection(\"ECMWF/ERA5_LAND/HOURLY\").filter(ee.Filter.date('2020-01-01', '2020-12-31')).select('temperature_2m')"
   ]
  },
  {
   "cell_type": "code",
   "execution_count": 171,
   "metadata": {},
   "outputs": [],
   "source": [
    "#era5d = ee.ImageCollection(\"ECMWF/ERA5_LAND/HOURLY\").filter(ee.Filter.date('2020-01-01', '2020-01-02')).select('temperature_2m')\n",
    "#era5d.getInfo()"
   ]
  },
  {
   "cell_type": "code",
   "execution_count": 279,
   "metadata": {},
   "outputs": [],
   "source": [
    "oneday = 1*24*60*60*1000\n",
    "timefilter = ee.Filter(\n",
    "    ee.Filter.maxDifference(\n",
    "        difference = oneday,\n",
    "        leftField = 'system:time_start',\n",
    "        rightField = 'system:time_end'))\n",
    "\n",
    "saveallj = ee.Join.saveAll(\n",
    "    matchesKey = 'era5',\n",
    "    ordering = 'system:time_start',\n",
    "    ascending = True\n",
    ")\n",
    "collj = saveallj.apply(primary,era5d,timeFilter)"
   ]
  },
  {
   "cell_type": "code",
   "execution_count": 280,
   "metadata": {},
   "outputs": [
    {
     "data": {
      "text/plain": [
       "73"
      ]
     },
     "execution_count": 280,
     "metadata": {},
     "output_type": "execute_result"
    }
   ],
   "source": [
    "dd = collj.first().get('era5')\n",
    "ee.ImageCollection(ee.List(dd)).size().getInfo()"
   ]
  },
  {
   "cell_type": "code",
   "execution_count": 266,
   "metadata": {},
   "outputs": [],
   "source": [
    "dd = primary.first()"
   ]
  },
  {
   "cell_type": "code",
   "execution_count": 274,
   "metadata": {},
   "outputs": [
    {
     "data": {
      "text/plain": [
       "86400000.0"
      ]
     },
     "execution_count": 274,
     "metadata": {},
     "output_type": "execute_result"
    }
   ],
   "source": [
    "8.64e+7"
   ]
  },
  {
   "cell_type": "code",
   "execution_count": 275,
   "metadata": {},
   "outputs": [
    {
     "data": {
      "text/plain": [
       "86400000"
      ]
     },
     "execution_count": 275,
     "metadata": {},
     "output_type": "execute_result"
    }
   ],
   "source": [
    "1*24*60*60*1000"
   ]
  },
  {
   "cell_type": "code",
   "execution_count": 273,
   "metadata": {},
   "outputs": [
    {
     "data": {
      "text/plain": [
       "0.0"
      ]
     },
     "execution_count": 273,
     "metadata": {},
     "output_type": "execute_result"
    }
   ],
   "source": [
    "datetime.fromtimestamp(1578528000000/1000).strftime('%c')\n",
    "\n",
    "(1*24*60*60*1000/(1000*60*60))%24\n"
   ]
  },
  {
   "cell_type": "code",
   "execution_count": 264,
   "metadata": {},
   "outputs": [],
   "source": [
    "infol = ee.ImageCollection(ee.List(dd)).getInfo().get('features')"
   ]
  },
  {
   "cell_type": "code",
   "execution_count": 269,
   "metadata": {},
   "outputs": [],
   "source": [
    "for one in infol:\n",
    "    st = one.get('properties').get('system:time_start')\n",
    "    dt = datetime.fromtimestamp(st/1000).strftime('%c')\n",
    "    #print(dt)"
   ]
  },
  {
   "cell_type": "code",
   "execution_count": 248,
   "metadata": {},
   "outputs": [
    {
     "data": {
      "text/plain": [
       "'Thu Jan  9 01:00:00 2020'"
      ]
     },
     "execution_count": 248,
     "metadata": {},
     "output_type": "execute_result"
    }
   ],
   "source": [
    "datetime.fromtimestamp(1578528000000/1000).strftime('%c')"
   ]
  },
  {
   "cell_type": "markdown",
   "metadata": {},
   "source": [
    "### Simple inner join\n"
   ]
  },
  {
   "cell_type": "code",
   "execution_count": 258,
   "metadata": {},
   "outputs": [],
   "source": [
    "# Define an inner join.\n",
    "innerJoin = ee.Join.inner()\n",
    "\n",
    "# Specify an equals filter for image timestamps.\n",
    "filterTimeEq = ee.Filter.equals(leftField='system:time_start',rightField='system:time_start')\n",
    "\n",
    "# Apply the join.\n",
    "innerJoinedMODIS = innerJoin.apply(primary,era5d, filterTimeEq)"
   ]
  },
  {
   "cell_type": "code",
   "execution_count": 260,
   "metadata": {},
   "outputs": [
    {
     "data": {
      "text/plain": [
       "{'type': 'Feature',\n",
       " 'geometry': None,\n",
       " 'id': '2020_01_01_20200101T00',\n",
       " 'properties': {'primary': {'type': 'Image',\n",
       "   'bands': [{'id': 'NDVI',\n",
       "     'data_type': {'type': 'PixelType', 'precision': 'float'},\n",
       "     'dimensions': [86400, 43200],\n",
       "     'crs': 'SR-ORG:6974',\n",
       "     'crs_transform': [463.312716528,\n",
       "      0,\n",
       "      -20015109.354,\n",
       "      0,\n",
       "      -463.312716527,\n",
       "      10007554.677]}],\n",
       "   'version': 1578939965682663,\n",
       "   'id': 'MODIS/006/MOD09A1/2020_01_01',\n",
       "   'properties': {'system:time_start': 1577836800000,\n",
       "    'system:footprint': {'type': 'LinearRing',\n",
       "     'coordinates': [[-180, -90],\n",
       "      [180, -90],\n",
       "      [180, 90],\n",
       "      [-180, 90],\n",
       "      [-180, -90]]},\n",
       "    'system:time_end': 1578528000000,\n",
       "    'system:asset_size': 26430687074,\n",
       "    'system:index': '2020_01_01'}},\n",
       "  'secondary': {'type': 'Image',\n",
       "   'bands': [{'id': 'temperature_2m',\n",
       "     'data_type': {'type': 'PixelType', 'precision': 'double'},\n",
       "     'dimensions': [3601, 1801],\n",
       "     'crs': 'EPSG:4326',\n",
       "     'crs_transform': [0.1, 0, -180.05, 0, -0.1, 90.05]}],\n",
       "   'version': 1604849925143292,\n",
       "   'id': 'ECMWF/ERA5_LAND/HOURLY/20200101T00',\n",
       "   'properties': {'system:time_start': 1577836800000,\n",
       "    'hour': 0,\n",
       "    'system:footprint': {'type': 'LinearRing',\n",
       "     'coordinates': [[-180, -90],\n",
       "      [180, -90],\n",
       "      [180, 90],\n",
       "      [-180, 90],\n",
       "      [-180, -90]]},\n",
       "    'system:time_end': 1577840400000,\n",
       "    'system:asset_size': 400727784,\n",
       "    'system:index': '20200101T00'}}}}"
      ]
     },
     "execution_count": 260,
     "metadata": {},
     "output_type": "execute_result"
    }
   ],
   "source": [
    "innerJoinedMODIS.first().getInfo()\n",
    "#ee.ImageCollection(ee.List(dd)).size().getInfo()"
   ]
  },
  {
   "cell_type": "code",
   "execution_count": null,
   "metadata": {},
   "outputs": [],
   "source": []
  },
  {
   "cell_type": "code",
   "execution_count": null,
   "metadata": {},
   "outputs": [],
   "source": []
  },
  {
   "cell_type": "code",
   "execution_count": null,
   "metadata": {},
   "outputs": [],
   "source": []
  },
  {
   "cell_type": "code",
   "execution_count": null,
   "metadata": {},
   "outputs": [],
   "source": [
    "#### Best image test"
   ]
  },
  {
   "cell_type": "code",
   "execution_count": null,
   "metadata": {},
   "outputs": [],
   "source": [
    "\n",
    "test = combcoll.get('era5')\n",
    "ee.ImageCollection(test).getInfo()"
   ]
  },
  {
   "cell_type": "code",
   "execution_count": 4,
   "metadata": {},
   "outputs": [],
   "source": [
    "# Define a max difference filter to compare timestamps.\n",
    "maxDiffFilter = ee.Filter.maxDifference(\n",
    "  difference= 1 * 24 * 60 * 60 * 1000,\n",
    "  leftField='system:time_start',\n",
    "  rightField='system:time_start'\n",
    ")"
   ]
  },
  {
   "cell_type": "code",
   "execution_count": 5,
   "metadata": {},
   "outputs": [],
   "source": [
    "# Define the join.\n",
    "saveBestJoin = ee.Join.saveBest(\n",
    "  matchKey='bestImage',\n",
    "  measureKey='timeDiff'\n",
    ")"
   ]
  },
  {
   "cell_type": "code",
   "execution_count": 6,
   "metadata": {},
   "outputs": [],
   "source": [
    "# Apply the join.\n",
    "combcoll = saveBestJoin.apply(primary, era5d, maxDiffFilter)\n"
   ]
  },
  {
   "cell_type": "code",
   "execution_count": 17,
   "metadata": {},
   "outputs": [],
   "source": [
    "test = ee.Image(combcoll.first().get('bestImage'))b"
   ]
  },
  {
   "cell_type": "code",
   "execution_count": 134,
   "metadata": {},
   "outputs": [],
   "source": [
    "import geemap\n",
    "Map = geemap.Map()"
   ]
  },
  {
   "cell_type": "code",
   "execution_count": 140,
   "metadata": {},
   "outputs": [],
   "source": [
    "myn = ee.Number(-273.15)"
   ]
  },
  {
   "cell_type": "code",
   "execution_count": 144,
   "metadata": {},
   "outputs": [
    {
     "data": {
      "text/plain": [
       "['temperature_2m']"
      ]
     },
     "execution_count": 144,
     "metadata": {},
     "output_type": "execute_result"
    }
   ],
   "source": [
    "day1.bandNames().getInfo()"
   ]
  },
  {
   "cell_type": "code",
   "execution_count": 149,
   "metadata": {},
   "outputs": [],
   "source": [
    "day2 = day1.expression('temperature_2m -273.15',{'temperature_2m': day1.select('temperature_2m')})\n",
    "day2b = day2.updateMask(day2.gt(0))"
   ]
  },
  {
   "cell_type": "code",
   "execution_count": 150,
   "metadata": {},
   "outputs": [],
   "source": [
    "Map.addLayer(day2b,{'min':0,'max':30,'palette':['blue','green','red']},'temp4')"
   ]
  },
  {
   "cell_type": "code",
   "execution_count": 148,
   "metadata": {},
   "outputs": [],
   "source": [
    "Map.addLayer(day2,'','dd3')"
   ]
  },
  {
   "cell_type": "code",
   "execution_count": 135,
   "metadata": {},
   "outputs": [
    {
     "data": {
      "application/vnd.jupyter.widget-view+json": {
       "model_id": "1058e68af8924140910577e24a8ecf1a",
       "version_major": 2,
       "version_minor": 0
      },
      "text/plain": [
       "Map(center=[40, -100], controls=(WidgetControl(options=['position'], widget=HBox(children=(ToggleButton(value=…"
      ]
     },
     "metadata": {},
     "output_type": "display_data"
    }
   ],
   "source": [
    "Map"
   ]
  },
  {
   "cell_type": "code",
   "execution_count": 137,
   "metadata": {},
   "outputs": [
    {
     "data": {
      "text/plain": [
       "'2020-01-01'"
      ]
     },
     "execution_count": 137,
     "metadata": {},
     "output_type": "execute_result"
    }
   ],
   "source": [
    "ee.Date(image.date()).format('yyyy-MM-dd').getInfo()"
   ]
  },
  {
   "cell_type": "code",
   "execution_count": 147,
   "metadata": {},
   "outputs": [
    {
     "data": {
      "text/plain": [
       "1"
      ]
     },
     "execution_count": 147,
     "metadata": {},
     "output_type": "execute_result"
    }
   ],
   "source": [
    "primary = ee.ImageCollection('MODIS/006/MOD09A1').filterDate('2020-01-01', '2020-01-02')\n",
    "primary.size().getInfo()"
   ]
  }
 ],
 "metadata": {
  "kernelspec": {
   "display_name": "Python 3",
   "language": "python",
   "name": "python3"
  },
  "language_info": {
   "codemirror_mode": {
    "name": "ipython",
    "version": 3
   },
   "file_extension": ".py",
   "mimetype": "text/x-python",
   "name": "python",
   "nbconvert_exporter": "python",
   "pygments_lexer": "ipython3",
   "version": "3.8.5"
  }
 },
 "nbformat": 4,
 "nbformat_minor": 4
}
