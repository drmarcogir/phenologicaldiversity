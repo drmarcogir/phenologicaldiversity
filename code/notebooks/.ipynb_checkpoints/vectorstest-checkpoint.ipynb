{
 "cells": [
  {
   "cell_type": "code",
   "execution_count": 1,
   "metadata": {},
   "outputs": [],
   "source": [
    "import ee\n",
    "ee.Initialize()"
   ]
  },
  {
   "cell_type": "code",
   "execution_count": 29,
   "metadata": {},
   "outputs": [],
   "source": [
    "import geemap\n",
    "Map = geemap.Map()"
   ]
  },
  {
   "cell_type": "code",
   "execution_count": 22,
   "metadata": {},
   "outputs": [],
   "source": [
    "# function for extracting quality bits\n",
    "def getQABits(image, start, end, mascara):\n",
    "    # Compute the bits we need to extract.\n",
    "    pattern = 0\n",
    "    for i in range(start,end+1):\n",
    "        pattern += 2**i\n",
    "    # Return a single band image of the extracted QA bits, giving the     band a new name.\n",
    "    return image.select([0], [mascara]).bitwiseAnd(pattern).rightShift(start)\n",
    "    \n",
    "# function for filtering image based on quality bits\n",
    "def mask_pixelsall(bstart,bend):\n",
    "    def maskPixels(image0):\n",
    "        tmp = image0.select('QA_Detailed_1')\n",
    "        quality = getQABits(tmp, bstart, bend, 'QA_Detailed_1')\n",
    "        # Create a mask that filters out undesired areas\n",
    "        mask = quality.eq(0).Or(quality.eq(1)).Or(quality.eq(2))\n",
    "        return image0.updateMask(mask) \n",
    "    return(maskPixels)\n",
    "\n",
    "# function for masking areas where there have not land use changes. This layer was created using the ESA cci map\n",
    "def mask_image(image):\n",
    "    image = image.updateMask(MakMarco.eq(1))\n",
    "    return image"
   ]
  },
  {
   "cell_type": "code",
   "execution_count": 30,
   "metadata": {},
   "outputs": [
    {
     "data": {
      "application/vnd.jupyter.widget-view+json": {
       "model_id": "0a1f541b8f53402e8ff0a48b9e3450c5",
       "version_major": 2,
       "version_minor": 0
      },
      "text/plain": [
       "Map(center=[40, -100], controls=(ZoomControl(options=['position', 'zoom_in_text', 'zoom_in_title', 'zoom_out_t…"
      ]
     },
     "metadata": {},
     "output_type": "display_data"
    }
   ],
   "source": [
    "Map"
   ]
  },
  {
   "cell_type": "code",
   "execution_count": 10,
   "metadata": {},
   "outputs": [],
   "source": [
    "box = ee.FeatureCollection(Map.draw_features)"
   ]
  },
  {
   "cell_type": "code",
   "execution_count": 11,
   "metadata": {},
   "outputs": [],
   "source": [
    "Map.addLayer(box)"
   ]
  },
  {
   "cell_type": "code",
   "execution_count": 12,
   "metadata": {},
   "outputs": [],
   "source": [
    "# 5 km x 5 km grid\n",
    "mask_5km = ee.Image('users/marcogirardello/pheno_grid').int()\n",
    "# broad areas\n",
    "export_grid =ee.FeatureCollection('users/marcogirardello/grid_export_phenology')"
   ]
  },
  {
   "cell_type": "code",
   "execution_count": 114,
   "metadata": {},
   "outputs": [],
   "source": []
  },
  {
   "cell_type": "code",
   "execution_count": 117,
   "metadata": {},
   "outputs": [],
   "source": [
    "# convert feature collection into feature collection with no geometry (easier to save)\n",
    "def convert(feature):\n",
    "    res = ee.Feature(None,feature.toDictionary())\n",
    "    return(res)"
   ]
  },
  {
   "cell_type": "code",
   "execution_count": 101,
   "metadata": {},
   "outputs": [],
   "source": [
    "# ---- load datasets\n",
    "# load MODIS phenology product\n",
    "modis_phenoprod = ee.ImageCollection('MODIS/006/MCD12Q2')\n",
    "# load mask of unchanged forest pixels\n",
    "MakMarco = ee.Image(\"users/marcogirardello/mask_unchanged_500m\")"
   ]
  },
  {
   "cell_type": "code",
   "execution_count": 118,
   "metadata": {},
   "outputs": [],
   "source": [
    "# subset Peak for given year\n",
    "Peak = modis_phenoprod.select(['Peak_1','QA_Detailed_1'])\n",
    "# only take pixels above a certain threshold level\n",
    "Peak1 = Peak.map(mask_pixelsall(bstart=6,bend=7)).select('Peak_1')\n",
    "# filter using mask where pixels have been stable\n",
    "Peak2 = Peak1.map(mask_image)\n",
    "# calculate standard deviation for collection\n",
    "#Peak_sd = Peak2.map(calculate_sd)\n",
    "# image (supposedly for 2001!)\n",
    "#Peak_2001 = Peak_sd.first()\n",
    "tmpimage = Peak2.first()\n",
    "#  reproject image in latlon (same input 5 km x 5km inputgrid) \n",
    "tmpimage1 = tmpimage.reproject(crs='EPSG:4326',scale= 463.3127165275)"
   ]
  },
  {
   "cell_type": "code",
   "execution_count": 122,
   "metadata": {},
   "outputs": [],
   "source": [
    "# polygon numbers for broad areas\n",
    "polygons = list(range(1, 42+1))\n",
    "for polygon in polygons:\n",
    "    # subset one broad area\n",
    "    onesquare = export_grid.filterMetadata('polyID','equals',polygon)\n",
    "    # convert 5km grid into vectors (pixels become polygons!)\n",
    "    vectors = mask_5km.reduceToVectors(crs = mask_5km.projection(),geometry = onesquare,scale =100,\n",
    "                                           geometryType = 'polygon',eightConnected = False, labelProperty ='zone',\n",
    "                                           reducer= ee.Reducer.countEvery(),maxPixels= 1e13)\n",
    "    # calculate statistics of interest (standard deviation)\n",
    "    stats = tmpimage1.reduceRegions(collection = vectors,reducer = ee.Reducer.stdDev(),\n",
    "                                          scale = 463.3127165275)\n",
    "    # convert to dictionary (set geometry to null!)\n",
    "    stats1 = stats.map(convert)\n",
    "    # filename\n",
    "    filename = 'Peak_sd_'+str(polygon)\n",
    "    #Export the FeatureCollection.\n",
    "    task= ee.batch.Export.table.toDrive(collection = stats1,description =filename,folder=\"phenology_csv\",\n",
    "                                        fileFormat='CSV')\n",
    "    task.start()"
   ]
  },
  {
   "cell_type": "code",
   "execution_count": null,
   "metadata": {},
   "outputs": [],
   "source": []
  }
 ],
 "metadata": {
  "kernelspec": {
   "display_name": "Python 3",
   "language": "python",
   "name": "python3"
  },
  "language_info": {
   "codemirror_mode": {
    "name": "ipython",
    "version": 3
   },
   "file_extension": ".py",
   "mimetype": "text/x-python",
   "name": "python",
   "nbconvert_exporter": "python",
   "pygments_lexer": "ipython3",
   "version": "3.6.9"
  }
 },
 "nbformat": 4,
 "nbformat_minor": 4
}
