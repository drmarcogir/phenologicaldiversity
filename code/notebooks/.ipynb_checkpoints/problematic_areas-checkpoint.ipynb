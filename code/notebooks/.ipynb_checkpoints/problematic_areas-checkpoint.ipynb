{
 "cells": [
  {
   "cell_type": "markdown",
   "metadata": {},
   "source": [
    "## A check for areas which show high heterogeneity"
   ]
  },
  {
   "cell_type": "code",
   "execution_count": 1,
   "metadata": {},
   "outputs": [],
   "source": [
    "import ee\n",
    "ee.Initialize()\n",
    "import geemap\n",
    "Map = geemap.Map()\n",
    "import os"
   ]
  },
  {
   "cell_type": "markdown",
   "metadata": {},
   "source": [
    "### Required functions"
   ]
  },
  {
   "cell_type": "code",
   "execution_count": 102,
   "metadata": {},
   "outputs": [],
   "source": [
    "# add dn for product aggregated into 8 days\n",
    "def add_dn_date(img,beginDate=None,n=None,IncludeYear=False):\n",
    "    if beginDate is None:\n",
    "        beginDate = img.get('system:time_start')\n",
    "    else:\n",
    "        beginDate = beginDate\n",
    "    if IncludeYear is False:\n",
    "        IncludeYear = True\n",
    "    if n is None:\n",
    "        n = 8\n",
    "    beginDate = ee.Date(beginDate)\n",
    "    year  = beginDate.get('year')\n",
    "    month = beginDate.get('month')\n",
    "    diff  = beginDate.difference(ee.Date.fromYMD(year, 1, 1), 'day').add(1)\n",
    "    dn    = diff.subtract(1).divide(n).floor().add(1).int()\n",
    "    yearstr  = year.format('%d') \n",
    "    dn = dn.format('%02d')\n",
    "    return ee.Image(img).set('system:time_start', beginDate.millis()).set('date', beginDate.format('yyyy-MM-dd')).set('Year', yearstr).set('Month',beginDate.format('MM')).set('YearMonth', beginDate.format('YYYY-MM')).set('dn', dn)\n",
    "\n",
    "# wrapper function for add_dn_date\n",
    "def add_dn_date_all(Year,days):\n",
    "    def wrapper(image0):\n",
    "        tmp = add_dn_date(img = image0,IncludeYear=Year,n = days)\n",
    "        return tmp\n",
    "    return (wrapper)\n",
    "\n",
    "# add NDVI to data\n",
    "def addNDVI(image):\n",
    "    #image = image.updateMask(MakMarco.eq(1))\n",
    "    return image.addBands(image.normalizedDifference(['sur_refl_b02','sur_refl_b01']).rename('NDVI')).float()\n",
    "\n",
    "# function for extracting quality bits\n",
    "def getQABits(image, start, end, mascara):\n",
    "    # Compute the bits we need to extract.\n",
    "    pattern = 0\n",
    "    for i in range(start,end+1):\n",
    "        pattern += 2**i\n",
    "    # Return a single band image of the extracted QA bits, giving the     band a new name.\n",
    "    return image.select([0], [mascara]).bitwiseAnd(pattern).rightShift(start)\n",
    "\n",
    "# mask out low quality pixels (based on flags)\n",
    "def maskPixels(image0):\n",
    "    #Select the QA band\n",
    "    QA = image0.select('StateQA')\n",
    "    # Get the land_water_flag bits\n",
    "    landWaterFlag = getQABits(QA, 3, 5, 'land_water_flag')\n",
    "    #Get the cloud_state bits and find cloudy areas.\n",
    "    cloud = getQABits(QA, 0, 1, 'cloud_state').expression(\"b(0) == 1 || b(0) == 2\")\n",
    "    # Get the cloud_shadow bit\n",
    "    cloudShadows = getQABits(QA, 2, 2, 'cloud_shadow')\n",
    "    # Get the Pixel is adjacent to cloud bit\n",
    "    cloudAdjacent = getQABits(QA, 13, 13, 'cloud_adj')\n",
    "    # Get the internal cloud flag\n",
    "    cloud2 = getQABits(QA, 10, 10, 'cloud_internal')\n",
    "    # Get the internal fire flag\n",
    "    fire = getQABits(QA, 11, 11, 'fire_internal')\n",
    "    # Get the MOD35 snow/ice flag\n",
    "    snow1 = getQABits(QA, 12, 12, 'snow_MOD35')\n",
    "    # Get the internal snow flag\n",
    "    snow2 = getQABits(QA, 15, 15, 'snow_internal')\n",
    "    # create mask\n",
    "    mask = landWaterFlag.eq(1).And(cloud.Not()).And(cloudShadows.Not()).And(cloudAdjacent.Not()).And(cloud2.Not()).And(fire.Not()).And(snow1.Not()).And(snow2.Not())\n",
    "    return image0.updateMask(mask) \n",
    "\n",
    "def smooth_func(image): \n",
    "    collection = ee.ImageCollection.fromImages(image.get('images'))\n",
    "    return ee.Image(image).addBands(collection.mean().rename(['mean']))\n",
    "\n",
    "def clim5y(month):\n",
    "    month = ee.String(month)\n",
    "    seqNDVI = MOD09ndviY.filterMetadata('dn', 'equals',month)\n",
    "    return seqNDVI.median().copyProperties(seqNDVI.first(), ['system:time_start','system:time_end','dn'])\n",
    "\n",
    "# filter smoothed map\n",
    "def filt_smoothed(image):\n",
    "    image = image.select('NDVI')\n",
    "    image = image.unmask()\n",
    "    #image = image.where(image.eq(0),MinNDVI)\n",
    "    return image.updateMask(count_valid.gte(15))\n",
    "\n",
    "\n",
    "# filter smoothed map (MINIMUM VERSION)\n",
    "#def filt_smoothed(image):\n",
    "#    image = image.select('NDVI')\n",
    "#    image = image.unmask()\n",
    "#    image = image.where(image.eq(0),MinNDVI)\n",
    "#    return image.updateMask(count_valid.gte(15)).updateMask(image.select('NDVI').gt(0))\n",
    "\n",
    "# filter smoothed map (ZERO VERSION)\n",
    "#def filt_smoothed(image):\n",
    "#    image = image.select('NDVI')\n",
    "#    image = image.unmask()\n",
    "#    image = image.where(image.eq(0),0)\n",
    "#    return image.updateMask(count_valid.gte(15)).updateMask(forestmask.eq(1))\n",
    "\n",
    "\n",
    "# filter smoothed map (NEGATIVE VERSION)\n",
    "#def filt_smoothed2(image):\n",
    "#    image = image.select('NDVI')\n",
    "#    image = image.unmask()\n",
    "#    image = image.where(image.eq(0),-9999)\n",
    "#    return image.updateMask(count_valid.gte(15)).updateMask(forestmask.eq(1))\n",
    "\n",
    "\n",
    "# identify images which should not be used \n",
    "def smoothed_redmin(image):\n",
    "    tmp = image.reproject(crs = 'SR-ORG:6974',scale=463.3127165275).\\\n",
    "        reduceResolution(ee.Reducer.min(),bestEffort = False, maxPixels = 65536).\\\n",
    "        reproject(crs = ee.Projection('EPSG:4326').scale(0.05 , 0.05)).updateMask(1)\n",
    "    return tmp.select('NDVI').rename('NDVI_5km')\n",
    "\n",
    "\n",
    "# count pixels \n",
    "def smoothed_redcount1(image):\n",
    "    tmp = image.reproject(crs = 'SR-ORG:6974',scale=463.3127165275).\\\n",
    "        reduceResolution(ee.Reducer.count(),bestEffort = False, maxPixels = 65536).\\\n",
    "        reproject(crs = ee.Projection('EPSG:4326').scale(0.05 , 0.05)).updateMask(1)\n",
    "    return tmp.select('NDVI').rename('NDVI_5km_X')\n",
    "\n",
    "\n",
    "# count pixels \n",
    "def smoothed_redcount2(image):\n",
    "    tmp = image.reproject(crs = 'SR-ORG:6974',scale=463.3127165275).\\\n",
    "        reduceResolution(ee.Reducer.count(),bestEffort = False, maxPixels = 65536).\\\n",
    "        reproject(crs = ee.Projection('EPSG:4326').scale(0.05 , 0.05)).updateMask(1)\n",
    "    return tmp.select('NDVI').rename('NDVI_5km_Y')\n",
    "\n",
    "\n",
    "def filt_smoothed_c(image):\n",
    "    image = image.select('NDVI')\n",
    "    image = image.unmask()\n",
    "    image = image.where(image.eq(0),0)\n",
    "    return image.updateMask(count_valid.gte(15)).updateMask(forestmask.eq(1))\n",
    "\n",
    "def filt_smoothed2_c(image):\n",
    "    image = image.select('NDVI')\n",
    "    #image = image.unmask()\n",
    "    #image = image.where(image.eq(0),-9999)\n",
    "    return image.updateMask(count_valid.gte(15)).updateMask(forestmask.eq(1))\n",
    "\n",
    "# combine two images (using match image)\n",
    "def imgstobands(image):\n",
    "    return image.addBands(image.get('match'))\n",
    "\n",
    "# calculate delta\n",
    "def deltac(image):\n",
    "    return image.select('NDVI_5km_X').subtract(image.select('NDVI_5km_Y')).rename('delta')\n",
    "\n",
    "# function for accumulating NDVI\n",
    "def accumulate(image,list):\n",
    "    # Get the latest cumulative NDVI of the list with\n",
    "    # get(-1).  Since the type of the list argument to the function is unknown,\n",
    "    # it needs to be cast to a List.  Since the return type of get() is unknown,\n",
    "    # cast it to Image.\n",
    "    previous = ee.Image(ee.List(list).get(-1)).toFloat()\n",
    "    # Add the current anomaly to make a new cumulative NDVI image and Propagate metadata to the new image.\n",
    "    added = image.toFloat().add(previous).toFloat().set('system:time_start', image.get('system:time_start'))\n",
    "    return ee.List(list).add(added)\n",
    "\n",
    "# cumulative normalized\n",
    "def cum_dividelast(image):\n",
    "    tmp = image.divide(last).multiply(Cumulative_mean_at_5km)\n",
    "    return tmp\n",
    "\n",
    "# calculate deviations\n",
    "def deviations_calc(image):\n",
    "    tmp = image.select('NDVI').reproject(crs = 'SR-ORG:6974',scale = 463.3127165275).reduceResolution(ee.Reducer.stdDev(), bestEffort=False,maxPixels=150).reproject(ee.Projection('EPSG:4326').scale(0.05, 0.05)).updateMask(1).rename('stdDev')\n",
    "    return tmp\n",
    "\n",
    "\n",
    "def addTimeBand(img):\n",
    "    ## make sure mask is consistent ##\n",
    "    mask = img.mask()\n",
    "    time = img.metadata('system:time_start').rename(\"time\").mask(mask)\n",
    "    return img.addBands(time)\n",
    "\n",
    "\n",
    "def replace_mask(img, newimg, nodata):\n",
    "    if frame is None:\n",
    "        nodata = 8\n",
    "    # var con = img.mask();\n",
    "    # var res = img., NODATA\n",
    "    mask = img.mask()\n",
    "    # The only nsolution is unmask & updatemask */\n",
    "    img = img.unmask(nodata)\n",
    "    img = img.where(mask.Not(), newimg)\n",
    "    img = img.updateMask(img.neq(nodata))\n",
    "    return img\n",
    "\n",
    "    \n",
    "def linearInterp(imgcol,frame = None,nodata = None):\n",
    "    if frame is None:\n",
    "        frame = 32\n",
    "    if nodata is None:\n",
    "        nodata = 0\n",
    "    timestart   = 'system:time_start'\n",
    "    imgcol = imgcol.map(addTimeBand)\n",
    "    \n",
    "    # We'll look for all images up to 32 days away from the current image.\n",
    "    maxDiff = ee.Filter.maxDifference(frame * (1000*60*60*24), timestart, None, timestart)\n",
    "    \n",
    "    #cond    = {'leftField':timestart, 'rightField':timestart}\n",
    "    # Images after, sorted in descending order (so closest is last).\n",
    "    #var f1 = maxDiff.and(ee.Filter.lessThanOrEquals(time, null, time))\n",
    "    f1 = ee.Filter.And(maxDiff, ee.Filter.lessThanOrEquals(leftField = timestart,rightField = timestart))\n",
    "    c1 = ee.Join.saveAll(matchesKey = 'after', ordering = timestart, ascending = False).apply(imgcol, imgcol, f1)\n",
    "    # Images before, sorted in ascending order (so closest is last).\n",
    "    # var f2 = maxDiff.and(ee.Filter.greaterThanOrEquals(time, null, time))\n",
    "    \n",
    "    f2 = ee.Filter.And(maxDiff, ee.Filter.greaterThanOrEquals(leftField = timestart,rightField = timestart))\n",
    "    c2 = ee.Join.saveAll(matchesKey = 'before', ordering = timestart, ascending = True).apply(c1, imgcol, f2)\n",
    "    \n",
    "    # interpolation \n",
    "    def func_its(img):\n",
    "        img = ee.Image(img)\n",
    "        before = ee.ImageCollection.fromImages(ee.List(img.get('before'))).mosaic()\n",
    "        after  = ee.ImageCollection.fromImages(ee.List(img.get('after'))).mosaic()\n",
    "        img = img.set('before', {}).set('after', {})\n",
    "        \n",
    "        # constrain after or before no NA values, confirm linear Interp having result\n",
    "        before = replace_mask(before, after, nodata)\n",
    "        after  = replace_mask(after , before, nodata)\n",
    "        \n",
    "        # Compute the ratio between the image times.\n",
    "        x1 = before.select('time').double()\n",
    "        x2 = after.select('time').double()\n",
    "        now = ee.Image.constant(img.date().millis()).double()\n",
    "        ratio = now.subtract(x1).divide(x2.subtract(x1))  # this is zero anywhere x1 = x2\n",
    "        \n",
    "        # Compute the interpolated image.\n",
    "        before = before.select(0); #remove time band now\n",
    "        after  = after.select(0)\n",
    "        img    = img.select(0)\n",
    "        interp = after.subtract(before).multiply(ratio).add(before)\n",
    "        qc = img.mask().Not().rename('qc')\n",
    "        interp = replace_mask(img, interp, nodata)\n",
    "        \n",
    "        # Map.addLayer(interp, {}, 'interp')\n",
    "        return interp.addBands(qc).copyProperties(img, img.propertyNames())\n",
    "    interpolated = ee.ImageCollection(c2.map(func_its))\n",
    "    return interpolated\n",
    "\n",
    "# convert feature collection into feature collection with no geometry (easier to save)\n",
    "def convert(feature):\n",
    "    res = ee.Feature(None,feature.toDictionary())\n",
    "    return(res)"
   ]
  },
  {
   "cell_type": "code",
   "execution_count": 3,
   "metadata": {},
   "outputs": [],
   "source": [
    "# load collections and required images\n",
    "collection = ee.ImageCollection('MODIS/006/MOD09A1').filterDate('2000-01-01', '2020-12-31')\n",
    "forestmask = ee.Image(\"users/marcogirardello/phenoutils/mask_unchanged_500m\")\n",
    "biggrid = ee.FeatureCollection('users/marcogirardello/phenoutils/grid_export_phenology')\n",
    "smallgrid = ee.FeatureCollection('users/marcogirardello/phenoutils/grid_export_phenology2')\n",
    "high_p = ee.FeatureCollection('users/marcogirardello/problematic_areas/high_520_p')\n",
    "low_p = ee.FeatureCollection('users/marcogirardello/problematic_areas/low_481_p')"
   ]
  },
  {
   "cell_type": "code",
   "execution_count": 4,
   "metadata": {},
   "outputs": [],
   "source": [
    "# end and start date of period of interest\n",
    "start_date = ee.Date.fromYMD(2001, 1, 1)\n",
    "end_date  = ee.Date.fromYMD(2019, 12, 31)\n",
    "# add dn\n",
    "collection = collection.map(add_dn_date_all(Year = False, days = 8))\n",
    "\n",
    "# mask out crap pixels\n",
    "MOD09masked = collection.filterDate(start_date, end_date).map(maskPixels)\n",
    "\n",
    "# add NDVI as a new band\n",
    "MOD09ndvi = MOD09masked.map(addNDVI).select('NDVI')\n",
    "\n",
    "tmpseas = [\"%02d\" % x for x in list(range(1, 46+1))]\n",
    "tmpseas1 = ee.List(tmpseas)\n"
   ]
  },
  {
   "cell_type": "code",
   "execution_count": 5,
   "metadata": {},
   "outputs": [],
   "source": [
    "year = 2003"
   ]
  },
  {
   "cell_type": "markdown",
   "metadata": {},
   "source": [
    "### Experiment starts from here"
   ]
  },
  {
   "cell_type": "code",
   "execution_count": 6,
   "metadata": {},
   "outputs": [],
   "source": [
    "# climatology\n",
    "yearp5 = ee.Number(year).add(5)\n",
    "start_date = ee.Date.fromYMD(year,1,1)\n",
    "end_date = ee.Date.fromYMD(yearp5,12,31)\n",
    "MOD09ndviY = MOD09ndvi.filterDate(start_date, end_date)\n",
    "MinNDVI = MOD09ndviY.min()\n",
    "\n",
    "# climatology 5 years (monthly composites)\n",
    "seasons = ee.ImageCollection.fromImages(tmpseas1.map(clim5y)) # problems start here!!!\n",
    "\n",
    "frame  = 8*5\n",
    "nodata = -9999\n",
    "seasons2 = linearInterp(seasons, frame, nodata)\n",
    "\n",
    "count_valid = seasons2.select('qc').count()"
   ]
  },
  {
   "cell_type": "markdown",
   "metadata": {},
   "source": [
    "####  OPTION 1: Join collections (original + smoothed_LUT. The latter is the one containining the offending time-slices reduced at a 5 km x 5 km resolution. Offending images/pixels have a negative value)"
   ]
  },
  {
   "cell_type": "code",
   "execution_count": 137,
   "metadata": {},
   "outputs": [],
   "source": [
    "smoothed = seasons2.map(filt_smoothed)\n",
    "smoothed_2 = seasons2.map(filt_smoothed2)\n",
    "\n",
    "filt1 = ee.Filter.equals(leftField = 'system:time:start',rightField = 'system:time:start')\n",
    "join1 = ee.Join.saveFirst(matchKey = 'match')"
   ]
  },
  {
   "cell_type": "code",
   "execution_count": 138,
   "metadata": {},
   "outputs": [],
   "source": [
    "collectionjoined = ee.ImageCollection(join1.apply(smoothed, smoothed_LUT, filt1))"
   ]
  },
  {
   "cell_type": "code",
   "execution_count": 139,
   "metadata": {},
   "outputs": [],
   "source": [
    "collectionjoined1 = collectionjoined.map(imgstobands)"
   ]
  },
  {
   "cell_type": "code",
   "execution_count": 140,
   "metadata": {},
   "outputs": [],
   "source": [
    "def filter_im(image):\n",
    "    return image.select('NDVI_5km').updateMask(image.select('NDVI_5km').gt(-9999))\n",
    "\n",
    "imagec = collectionjoined1.map(filter_im).count()"
   ]
  },
  {
   "cell_type": "markdown",
   "metadata": {},
   "source": [
    "THIS DID NOT WORK ... TOO MANY GAPS!!!!"
   ]
  },
  {
   "cell_type": "markdown",
   "metadata": {},
   "source": [
    "#### OPTION 2: Calculate delta and filter NDVI by criterion of delta < 5"
   ]
  },
  {
   "cell_type": "code",
   "execution_count": 236,
   "metadata": {},
   "outputs": [],
   "source": [
    "# smoothing and filtering\n",
    "smoothed = seasons2.map(filt_smoothed_c)\n",
    "smoothed_2 = seasons2.map(filt_smoothed2_c) \n",
    "\n",
    "# theoretical total pixel count (new band NDVI_X)\n",
    "smoothed_LUT1 = smoothed.map(smoothed_redcount1)\n",
    "# actual pixel count (new band NDVI_Y)\n",
    "smoothed_LUT2 = smoothed_2.map(smoothed_redcount2)\n",
    "\n",
    "# combine two smoothed LUTs\n",
    "collectionjoined = ee.ImageCollection(join1.apply(smoothed_LUT1, smoothed_LUT2, filt1))\n",
    "collectionjoined_LUT = collectionjoined.map(imgstobands)\n",
    "\n",
    "# calculate delta (NDVI_X - NDVI_Y)\n",
    "delta = collectionjoined_LUT.map(deltac)\n",
    "\n",
    "# join delta with smoothed\n",
    "deltasmoothcomb = ee.ImageCollection(join1.apply(smoothed, delta, filt1))\n",
    "\n",
    "# filter by delta\n",
    "def delta_filt(image):\n",
    "    return image.select('NDVI').updateMask(ee.Image(image.get('match')).lt(5))\n",
    "\n",
    "deltasmoothcomb1 = deltasmoothcomb.map(delta_filt)"
   ]
  },
  {
   "cell_type": "markdown",
   "metadata": {},
   "source": [
    "GAPS DO REMAIN :("
   ]
  },
  {
   "cell_type": "markdown",
   "metadata": {},
   "source": [
    "#### Visual checks"
   ]
  },
  {
   "cell_type": "code",
   "execution_count": 233,
   "metadata": {},
   "outputs": [],
   "source": [
    "import geemap\n",
    "Map = geemap.Map()"
   ]
  },
  {
   "cell_type": "code",
   "execution_count": 119,
   "metadata": {},
   "outputs": [],
   "source": [
    "#Map.addLayer(deltafil,{'palette':['blue','green','red']},'deltafilt')\n",
    "#Map.addLayer(imagec,{'palette':['red']},'Original with forest mask')\n",
    "#Map.addLayer(deltafil1,{'palette':['black']},'delta filtered < 90')\n",
    "#Map.addLayer(deltafil2,{'palette':['blue']},'delta filtered < 60')\n",
    "#Map.addLayer(deltafil3,{'palette':['green']},'delta filtered < 40')\n",
    "#Map.addLayer(deltafil4,{'palette':['yellow']},'delta filtered < 10')\n",
    "#Map.addLayer(deltafil5,{'palette':['red']},'delta filtered < 5')\n",
    "#Map.addLayer(smoothed_LUT1.first(),{'palette':['blue','yellow','red']},'Pixel count - smoothing fill with 0s')\n"
   ]
  },
  {
   "cell_type": "code",
   "execution_count": 239,
   "metadata": {},
   "outputs": [],
   "source": [
    "#Map.addLayer(tmp,{'palette':['blue','yellow','red']},'test crop')\n",
    "tmp1 = deltasmoothcomb1.first()\n",
    "Map.addLayer(tmp1,{'min':0,'max':1,'palette':['blue','green','red']},'test crop NDVI bit')"
   ]
  },
  {
   "cell_type": "code",
   "execution_count": 234,
   "metadata": {},
   "outputs": [
    {
     "data": {
      "application/vnd.jupyter.widget-view+json": {
       "model_id": "b80ee38e30f84be98e0a865bf9428915",
       "version_major": 2,
       "version_minor": 0
      },
      "text/plain": [
       "Map(center=[40, -100], controls=(WidgetControl(options=['position'], widget=HBox(children=(ToggleButton(value=…"
      ]
     },
     "metadata": {},
     "output_type": "display_data"
    }
   ],
   "source": [
    "Map"
   ]
  },
  {
   "cell_type": "markdown",
   "metadata": {},
   "source": [
    "#### Export count data to cloud"
   ]
  },
  {
   "cell_type": "code",
   "execution_count": 37,
   "metadata": {},
   "outputs": [],
   "source": [
    "#polyl = list(range(2,41+1))\n",
    "minpoly = int(os.environ[\"minpoly\"])\n",
    "maxpoly = int(os.environ[\"maxpoly\"])\n",
    "polyl = list(range(minpoly,maxpoly+1))\n",
    "\n",
    "for poly in polyl:\n",
    "    onep = smallgrid.filterMetadata('polyID', 'equals', poly)\n",
    "    roi = ee.Geometry.Polygon(onep.geometry().getInfo().get('coordinates'))\n",
    "    roi1 = roi.bounds()\n",
    "    filename = 'p_' + str(poly) + '_2003_count'\n",
    "    task = ee.batch.Export.image.toCloudStorage(image=imagec, crs='EPSG:4326', scale=5000, fileNamePrefix=filename,\n",
    "                                                fileFormat='GeoTIFF', maxPixels=1e13, skipEmptyTiles=True,\n",
    "                                                description=filename,\n",
    "                                                region=roi1, bucket='tmpmarcog')\n",
    "    task.start()\n"
   ]
  }
 ],
 "metadata": {
  "kernelspec": {
   "display_name": "Python 3",
   "language": "python",
   "name": "python3"
  },
  "language_info": {
   "codemirror_mode": {
    "name": "ipython",
    "version": 3
   },
   "file_extension": ".py",
   "mimetype": "text/x-python",
   "name": "python",
   "nbconvert_exporter": "python",
   "pygments_lexer": "ipython3",
   "version": "3.8.5"
  },
  "varInspector": {
   "cols": {
    "lenName": 16,
    "lenType": 16,
    "lenVar": 40
   },
   "kernels_config": {
    "python": {
     "delete_cmd_postfix": "",
     "delete_cmd_prefix": "del ",
     "library": "var_list.py",
     "varRefreshCmd": "print(var_dic_list())"
    },
    "r": {
     "delete_cmd_postfix": ") ",
     "delete_cmd_prefix": "rm(",
     "library": "var_list.r",
     "varRefreshCmd": "cat(var_dic_list()) "
    }
   },
   "types_to_exclude": [
    "module",
    "function",
    "builtin_function_or_method",
    "instance",
    "_Feature"
   ],
   "window_display": false
  }
 },
 "nbformat": 4,
 "nbformat_minor": 4
}
