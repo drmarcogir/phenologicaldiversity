{
 "cells": [
  {
   "cell_type": "code",
   "execution_count": 1,
   "metadata": {},
   "outputs": [],
   "source": [
    "import os\n",
    "import ee\n",
    "ee.Initialize()\n",
    "import pandas as pd\n",
    "from IPython.display import JSON\n",
    "import geemap"
   ]
  },
  {
   "cell_type": "code",
   "execution_count": 2,
   "metadata": {},
   "outputs": [],
   "source": [
    "# add dn for product aggregated into 8 days\n",
    "def add_dn_date(img,beginDate=None,n=None,IncludeYear=False):\n",
    "    if beginDate is None:\n",
    "        beginDate = img.get('system:time_start')\n",
    "    else:\n",
    "        beginDate = beginDate\n",
    "    if IncludeYear is False:\n",
    "        IncludeYear = True\n",
    "    if n is None:\n",
    "        n = 8\n",
    "    beginDate = ee.Date(beginDate)\n",
    "    year  = beginDate.get('year')\n",
    "    month = beginDate.get('month')\n",
    "    diff  = beginDate.difference(ee.Date.fromYMD(year, 1, 1), 'day').add(1)\n",
    "    dn    = diff.subtract(1).divide(n).floor().add(1).int()\n",
    "    yearstr  = year.format('%d') \n",
    "    dn = dn.format('%02d')\n",
    "    return ee.Image(img).set('system:time_start', beginDate.millis()).set('date', beginDate.format('yyyy-MM-dd')).set('Year', yearstr).set('Month',beginDate.format('MM')).set('YearMonth', beginDate.format('YYYY-MM')).set('dn', dn)\n",
    "\n",
    "# wrapper function for add_dn_date\n",
    "def add_dn_date_all(Year,days):\n",
    "    def wrapper(image0):\n",
    "        tmp = add_dn_date(img = image0,IncludeYear=Year,n = days)\n",
    "        return tmp\n",
    "    return (wrapper)\n",
    "\n",
    "# add NDVI to data\n",
    "def addNDVI(image):\n",
    "    #image = image.updateMask(MakMarco.eq(1))\n",
    "    return image.addBands(image.normalizedDifference(['sur_refl_b02','sur_refl_b01']).rename('NDVI')).float()\n",
    "\n",
    "# function for extracting quality bits\n",
    "def getQABits(image, start, end, mascara):\n",
    "    # Compute the bits we need to extract.\n",
    "    pattern = 0\n",
    "    for i in range(start,end+1):\n",
    "        pattern += 2**i\n",
    "    # Return a single band image of the extracted QA bits, giving the     band a new name.\n",
    "    return image.select([0], [mascara]).bitwiseAnd(pattern).rightShift(start)\n",
    "\n",
    "# mask out low quality pixels (based on flags)\n",
    "def maskPixels(image0):\n",
    "    #Select the QA band\n",
    "    QA = image0.select('StateQA')\n",
    "    # Get the land_water_flag bits\n",
    "    landWaterFlag = getQABits(QA, 3, 5, 'land_water_flag')\n",
    "    #Get the cloud_state bits and find cloudy areas.\n",
    "    cloud = getQABits(QA, 0, 1, 'cloud_state').expression(\"b(0) == 1 || b(0) == 2\")\n",
    "    # Get the cloud_shadow bit\n",
    "    cloudShadows = getQABits(QA, 2, 2, 'cloud_shadow')\n",
    "    # Get the Pixel is adjacent to cloud bit\n",
    "    cloudAdjacent = getQABits(QA, 13, 13, 'cloud_adj')\n",
    "    # Get the internal cloud flag\n",
    "    cloud2 = getQABits(QA, 10, 10, 'cloud_internal')\n",
    "    # Get the internal fire flag\n",
    "    fire = getQABits(QA, 11, 11, 'fire_internal')\n",
    "    # Get the MOD35 snow/ice flag\n",
    "    snow1 = getQABits(QA, 12, 12, 'snow_MOD35')\n",
    "    # Get the internal snow flag\n",
    "    snow2 = getQABits(QA, 15, 15, 'snow_internal')\n",
    "    # create mask\n",
    "    mask = landWaterFlag.eq(1).And(cloud.Not()).And(cloudShadows.Not()).And(cloudAdjacent.Not()).And(cloud2.Not()).And(fire.Not()).And(snow1.Not()).And(snow2.Not())\n",
    "    return image0.updateMask(mask) \n",
    "\n",
    "# combine two images (using match image)\n",
    "def imgstobands(image):\n",
    "    return image.addBands(image.get('match'))\n",
    "\n",
    "# identify images which should not be used \n",
    "def smoothed_redmin(image):\n",
    "    tmp = image.reproject(crs = 'SR-ORG:6974',scale=463.3127165275).\\\n",
    "        reduceResolution(ee.Reducer.min(),bestEffort = False, maxPixels = 65536).\\\n",
    "        reproject(crs = ee.Projection('EPSG:4326').scale(0.05 , 0.05)).updateMask(1)\n",
    "    return tmp.select('NDVI').rename('NDVI_5km')\n",
    "\n",
    "\n",
    "# count pixels \n",
    "def smoothed_redcount1(image):\n",
    "    tmp = image.reproject(crs = 'SR-ORG:6974',scale=463.3127165275).\\\n",
    "        reduceResolution(ee.Reducer.count(),bestEffort = False, maxPixels = 65536).\\\n",
    "        reproject(crs = ee.Projection('EPSG:4326').scale(0.05 , 0.05)).updateMask(1)\n",
    "    return tmp.select('NDVI').rename('NDVI_5km_X')\n",
    "\n",
    "\n",
    "# count pixels \n",
    "def smoothed_redcount2(image):\n",
    "    tmp = image.reproject(crs = 'SR-ORG:6974',scale=463.3127165275).\\\n",
    "        reduceResolution(ee.Reducer.count(),bestEffort = False, maxPixels = 65536).\\\n",
    "        reproject(crs = ee.Projection('EPSG:4326').scale(0.05 , 0.05)).updateMask(1)\n",
    "    return tmp.select('NDVI').rename('NDVI_5km_Y')\n",
    "\n",
    "# filter smoothed data: fill in images with 0s. This gives all the pixels theoretically available\n",
    "def filt_smoothed_c(image):\n",
    "    image = image.select('NDVI')\n",
    "    image = image.unmask()\n",
    "    image = image.where(image.eq(0),0)\n",
    "    return image.updateMask(count_valid.gte(15)).updateMask(forestmask.eq(1))\n",
    "\n",
    "# filter smoothed data: this keeps usable pixels\n",
    "def filt_smoothed2_c(image):\n",
    "    image = image.select('NDVI')\n",
    "    #image = image.unmask()\n",
    "    #image = image.where(image.eq(0),-9999)\n",
    "    return image.updateMask(count_valid.gte(15)).updateMask(forestmask.eq(1))\n",
    "\n",
    "# calculate delta\n",
    "def deltac(image):\n",
    "    return image.select('NDVI_5km_X').subtract(image.select('NDVI_5km_Y')).rename('delta')\n",
    "\n",
    "# filter images by delta\n",
    "def delta_filt(image):\n",
    "    return image.select('NDVI').updateMask(ee.Image(image.get('match')).lt(10))\n",
    "\n",
    "\n",
    "def smooth_func(image): \n",
    "    collection = ee.ImageCollection.fromImages(image.get('images'))\n",
    "    return ee.Image(image).addBands(collection.mean().rename(['mean']))\n",
    "\n",
    "def clim5y(month):\n",
    "    month = ee.String(month)\n",
    "    seqNDVI = MOD09ndviY.filterMetadata('dn', 'equals',month)\n",
    "    return seqNDVI.median().copyProperties(seqNDVI.first(), ['system:time_start','system:time_end','dn','Month'])\n",
    "\n",
    "# filter smoothed map\n",
    "#def filt_smoothed(image):\n",
    "#    image = image.select('NDVI')\n",
    "#    image = image.unmask()\n",
    "#    #image = image.where(image.eq(0),MinNDVI)\n",
    "#    image = image.where(latmask.lt(50),meanNDVI)\n",
    "#    return image.updateMask(count_valid.gte(15)).updateMask(forestmask.eq(1))\n",
    "\n",
    "def tempfilt(image):\n",
    "    mask = ee.Image(ee.List(image.get('match')).get(0))\n",
    "    return image.updateMask(mask)\n",
    "\n",
    "#def filt_smoothed(image):\n",
    "#    return image.updateMask(count_valid.gte(15)).updateMask(forestmask.eq(1)).select('NDVI')\n",
    "                           \n",
    "# function for accumulating NDVI\n",
    "def accumulate(image,list):\n",
    "    # Get the latest cumulative NDVI of the list with\n",
    "    # get(-1).  Since the type of the list argument to the function is unknown,\n",
    "    # it needs to be cast to a List.  Since the return type of get() is unknown,\n",
    "    # cast it to Image.\n",
    "    previous = ee.Image(ee.List(list).get(-1)).toFloat().unmask()\n",
    "    # Add the current anomaly to make a new cumulative NDVI image and Propagate metadata to the new image.\n",
    "    added = image.unmask().toFloat().add(previous).toFloat().set('system:time_start', image.get('system:time_start'))\n",
    "    return ee.List(list).add(added)\n",
    "\n",
    "# cumulative normalized\n",
    "def cum_dividelast(image):\n",
    "    tmp = image.divide(last).multiply(Cumulative_mean_at_5km)\n",
    "    return tmp\n",
    "\n",
    "# calculate deviations\n",
    "def deviations_calc(image):\n",
    "    tmp = image.select('NDVI').reproject(crs = 'SR-ORG:6974',scale = 463.3127165275).reduceResolution(ee.Reducer.stdDev(), bestEffort = False, maxPixels = 150).reproject(ee.Projection('EPSG:4326').scale(0.05, 0.05)).updateMask(1).rename('stdDev')\n",
    "    return tmp\n",
    "\n",
    "\n",
    "def addTimeBand(img):\n",
    "    ## make sure mask is consistent ##\n",
    "    mask = img.mask()\n",
    "    time = img.metadata('system:time_start').rename(\"time\").mask(mask)\n",
    "    return img.addBands(time)\n",
    "\n",
    "\n",
    "def replace_mask(img, newimg, nodata):\n",
    "    if frame is None:\n",
    "        nodata = 8\n",
    "    # var con = img.mask();\n",
    "    # var res = img., NODATA\n",
    "    mask = img.mask()\n",
    "    # The only nsolution is unmask & updatemask */\n",
    "    img = img.unmask(nodata)\n",
    "    img = img.where(mask.Not(), newimg)\n",
    "    img = img.updateMask(img.neq(nodata))\n",
    "    return img\n",
    "    \n",
    "def linearInterp(imgcol,frame = None,nodata = None):\n",
    "    if frame is None:\n",
    "        frame = 32\n",
    "    if nodata is None:\n",
    "        nodata = 0\n",
    "    timestart   = 'system:time_start'\n",
    "    imgcol = imgcol.map(addTimeBand)\n",
    "    \n",
    "    # We'll look for all images up to 32 days away from the current image.\n",
    "    maxDiff = ee.Filter.maxDifference(frame * (1000*60*60*24), timestart, None, timestart)\n",
    "    \n",
    "    #cond    = {'leftField':timestart, 'rightField':timestart}\n",
    "    # Images after, sorted in descending order (so closest is last).\n",
    "    #var f1 = maxDiff.and(ee.Filter.lessThanOrEquals(time, null, time))\n",
    "    f1 = ee.Filter.And(maxDiff, ee.Filter.lessThanOrEquals(leftField = timestart,rightField = timestart))\n",
    "    c1 = ee.Join.saveAll(matchesKey = 'after', ordering = timestart, ascending = False).apply(imgcol, imgcol, f1)\n",
    "    # Images before, sorted in ascending order (so closest is last).\n",
    "    # var f2 = maxDiff.and(ee.Filter.greaterThanOrEquals(time, null, time))\n",
    "    \n",
    "    f2 = ee.Filter.And(maxDiff, ee.Filter.greaterThanOrEquals(leftField = timestart,rightField = timestart))\n",
    "    c2 = ee.Join.saveAll(matchesKey = 'before', ordering = timestart, ascending = True).apply(c1, imgcol, f2)\n",
    "    \n",
    "    # interpolation \n",
    "    def func_its(img):\n",
    "        img = ee.Image(img)\n",
    "        before = ee.ImageCollection.fromImages(ee.List(img.get('before'))).mosaic()\n",
    "        after  = ee.ImageCollection.fromImages(ee.List(img.get('after'))).mosaic()\n",
    "        img = img.set('before', {}).set('after', {})\n",
    "        \n",
    "        # constrain after or before no NA values, confirm linear Interp having result\n",
    "        before = replace_mask(before, after, nodata)\n",
    "        after  = replace_mask(after , before, nodata)\n",
    "        \n",
    "        # Compute the ratio between the image times.\n",
    "        x1 = before.select('time').double()\n",
    "        x2 = after.select('time').double()\n",
    "        now = ee.Image.constant(img.date().millis()).double()\n",
    "        ratio = now.subtract(x1).divide(x2.subtract(x1))  # this is zero anywhere x1 = x2\n",
    "        \n",
    "        # Compute the interpolated image.\n",
    "        before = before.select(0); #remove time band now\n",
    "        after  = after.select(0)\n",
    "        img    = img.select(0)\n",
    "        interp = after.subtract(before).multiply(ratio).add(before)\n",
    "        qc = img.mask().Not().rename('qc')\n",
    "        interp = replace_mask(img, interp, nodata)\n",
    "        \n",
    "        # Map.addLayer(interp, {}, 'interp')\n",
    "        return interp.addBands(qc).copyProperties(img, img.propertyNames())\n",
    "    interpolated = ee.ImageCollection(c2.map(func_its))\n",
    "    return interpolated\n"
   ]
  },
  {
   "cell_type": "markdown",
   "metadata": {},
   "source": [
    "### Load in collections and required images"
   ]
  },
  {
   "cell_type": "code",
   "execution_count": 34,
   "metadata": {},
   "outputs": [],
   "source": [
    "# load collections and required images\n",
    "collection = ee.ImageCollection('MODIS/006/MOD09A1').filterDate('2000-01-01', '2020-12-31')\n",
    "forestmask = ee.Image('users/marcogirardello/phenoutils/mask_unchanged_500m')\n",
    "#smallgrid = ee.FeatureCollection('users/marcogirardello/phenoutils/grid_export_phenology3')\n",
    "#smallgrid = ee.FeatureCollection('users/marcogirardello/phenoutils/grid_export_phenology3_reduced')\n",
    "#latmask = ee.Image('users/marcogirardello/phenoutils/latitudinal_mask')\n",
    "terracl = ee.Image(\"users/marcogirardello/phenoutils/terraclimate_months\")\n",
    "#smallgrid = ee.FeatureCollection('users/marcogirardello/phenoutils/grid_export_phenology_amazon')\n",
    "#smallgrid = ee.FeatureCollection('users/marcogirardello/phenoutils/grid_export_phenology_amazon_whole')\n",
    "smallgrid = ee.FeatureCollection('users/marcogirardello/phenoutils/smallgrid_northamerica')\n",
    "#smallgrid = smallgrid.filterMetadata('polyID','equals',131)"
   ]
  },
  {
   "cell_type": "code",
   "execution_count": 4,
   "metadata": {},
   "outputs": [],
   "source": [
    "grid5km = ee.FeatureCollection('users/marcogirardello/phenoutils/small5km')"
   ]
  },
  {
   "cell_type": "markdown",
   "metadata": {},
   "source": [
    "#### Create monthly binary masks based on TERRACLIMATE long-term averages"
   ]
  },
  {
   "cell_type": "code",
   "execution_count": 5,
   "metadata": {},
   "outputs": [],
   "source": [
    "# convert into image collection\n",
    "terracl1 = ee.ImageCollection.fromImages(terracl.bandNames().map(lambda name: terracl.select([name])))\n",
    "# add month property taken from bands\n",
    "terracl2 = terracl1.map(lambda image: image.set(ee.Dictionary({'Month': ee.String(image.bandNames().get(0)).slice(2)})))\n",
    "# rename bands into b1\n",
    "terracl3 = terracl2.map(lambda image: image.rename('avgtemp'))\n",
    "# create binary map showing where temperature is greater than 0\n",
    "terraclmonths = terracl3.map(lambda image: image.gt(0).copyProperties(image,['Month']))"
   ]
  },
  {
   "cell_type": "code",
   "execution_count": 6,
   "metadata": {},
   "outputs": [],
   "source": [
    "terraclimbin = terraclmonths.map(lambda image: image.where(image.gt(0),1))\n",
    "# sum of pixel count across 12 months where temperature > 0 °C  \n",
    "ImgCountDistinct = terraclimbin.reduce(ee.Reducer.sum())\n",
    "# create pixel specific filter: i.e. number of observations that one needs to have in the time series for cumulating\n",
    "NumberOfMinImagePerYear = ImgCountDistinct.multiply(2)"
   ]
  },
  {
   "cell_type": "markdown",
   "metadata": {},
   "source": [
    "### <span style=\"color:blue\">Pre-processing step 1: filtering data by quality flags and calculated NDVI.</span>\n",
    "This include snow, cloud, fire, cloud shadows and the land/water mask"
   ]
  },
  {
   "cell_type": "code",
   "execution_count": 7,
   "metadata": {},
   "outputs": [],
   "source": [
    "# end and start date of period of interest\n",
    "start_date = ee.Date.fromYMD(2001, 1, 1)\n",
    "end_date   = ee.Date.fromYMD(2020, 12, 31)"
   ]
  },
  {
   "cell_type": "code",
   "execution_count": 8,
   "metadata": {},
   "outputs": [],
   "source": [
    "# add dn\n",
    "collection = collection.map(add_dn_date_all(Year = False, days = 8))"
   ]
  },
  {
   "cell_type": "code",
   "execution_count": 9,
   "metadata": {},
   "outputs": [],
   "source": [
    "# mask out crap pixels\n",
    "MOD09masked = collection.filterDate(start_date, end_date).map(maskPixels)"
   ]
  },
  {
   "cell_type": "code",
   "execution_count": 10,
   "metadata": {},
   "outputs": [],
   "source": [
    "# add NDVI as a new band\n",
    "MOD09ndvi = MOD09masked.map(addNDVI).select('NDVI')"
   ]
  },
  {
   "cell_type": "markdown",
   "metadata": {},
   "source": [
    "### <span style=\"color:blue\">Main calculations</span>"
   ]
  },
  {
   "cell_type": "code",
   "execution_count": 11,
   "metadata": {},
   "outputs": [],
   "source": [
    "tmpseas = [\"%02d\" % x for x in list(range(1, 46+1))]\n",
    "tmpseas1 = ee.List(tmpseas)"
   ]
  },
  {
   "cell_type": "code",
   "execution_count": 12,
   "metadata": {},
   "outputs": [
    {
     "name": "stdout",
     "output_type": "stream",
     "text": [
      "env: year=2003\n"
     ]
    }
   ],
   "source": [
    "# test environment variable (JUST RELEVANT FOR EXPORT!)\n",
    "%env year=2003\n",
    "year = int(os.environ[\"year\"])\n",
    "#year = 2002"
   ]
  },
  {
   "cell_type": "code",
   "execution_count": 35,
   "metadata": {
    "tags": []
   },
   "outputs": [],
   "source": [
    "# climatology\n",
    "yearp5 = ee.Number(year).add(5)\n",
    "start_date = ee.Date.fromYMD(year,1,1)\n",
    "end_date = ee.Date.fromYMD(yearp5,12,31)\n",
    "MOD09ndviY = MOD09ndvi.filterDate(start_date, end_date)\n",
    "MinNDVI = MOD09ndviY.min()\n",
    "meanNDVI = MOD09ndviY.mean()\n",
    "\n",
    "# climatology 5 years (monthly composites)\n",
    "seasons = ee.ImageCollection.fromImages(tmpseas1.map(clim5y)) \n",
    "\n",
    "# linear interpolation\n",
    "frame  = 8*10\n",
    "nodata = -9999\n",
    "seasons2 = linearInterp(seasons, frame, nodata)\n",
    "#count_valid = seasons2.select('qc').count()\n",
    "#seasons3 = linearInterp(seasons, frame, nodata)\n",
    "\n",
    "# -------- Climatic filter\n",
    "# join with terraclimate data\n",
    "jfilter = ee.Filter.equals(leftField = 'Month',rightField = 'Month')\n",
    "simplej = ee.Join.inner()\n",
    "seasons2j = simplej.apply(seasons2,terraclmonths,jfilter)\n",
    "# add temperature mask as a new band\n",
    "seasons2 = ee.ImageCollection(seasons2j.map(lambda joinresult: ee.Image(joinresult.get('primary')).addBands(joinresult.get('secondary'))))\n",
    "# filter for temperatures bigger than > 0 °C\n",
    "seasons2 = seasons2.map(lambda image: image.updateMask(image.select('avgtemp').gt(0)))\n",
    "\n",
    "count_valid = seasons2.select('NDVI').count()\n",
    "\n",
    "smoothed  = seasons2.map(lambda image: image.updateMask(count_valid.gte(15)).updateMask(forestmask.eq(1)))\n",
    "\n",
    "ct = smoothed.select('NDVI').count()\n",
    "\n",
    "ctmax  = ct.setDefaultProjection(crs = 'SR-ORG:6974',scale = 463.3127165275).\\\n",
    "                          reduceResolution(ee.Reducer.max(), bestEffort = False, maxPixels = 150).\\\n",
    "                          reproject(ee.Projection('EPSG:4326').scale(0.05, 0.05)).updateMask(1) \n",
    "\n",
    "ctmean  = ct.setDefaultProjection(crs = 'SR-ORG:6974',scale = 463.3127165275).\\\n",
    "                          reduceResolution(ee.Reducer.mean(), bestEffort = False, maxPixels = 150).\\\n",
    "                          reproject(ee.Projection('EPSG:4326').scale(0.05, 0.05)).updateMask(1) \n",
    "# create count filter\n",
    "#imgcount = smoothed.count()\n",
    "#sdcount = imgcount.select('NDVI').reproject(crs = 'SR-ORG:6974',scale=463.3127165275).\\\n",
    "#reduceResolution(ee.Reducer.stdDev(),bestEffort = False, maxPixels = 65536).\\\n",
    "#reproject(crs = ee.Projection('EPSG:4326').scale(0.05 , 0.05)).updateMask(1)\n",
    "\n",
    "\n",
    "#Get the timestamp from the most recent image in the reference collection.\n",
    "time0 = smoothed.first().get('system:time_start')\n",
    "\n",
    "# Rename the first band 'NDVI'.\n",
    "first = ee.List([ee.Image(0).set('system:time_start', time0).select([0],['NDVI']).toFloat().set(ee.Dictionary({'Month': '01'}))])\n",
    "\n",
    "# Since the return type of iterate is unknown, it needs to be cast to a List.\n",
    "cumulative = ee.ImageCollection(ee.List(smoothed.iterate(accumulate, first)))\n",
    "\n",
    "cumulative = cumulative.map(lambda image: image.select('NDVI').updateMask(image.select('NDVI').gt(0)))\n",
    "\n",
    "# normalise\n",
    "last = cumulative.sort('system:time_start', False).first()\n",
    "last = last.updateMask(last.gte(6))\n",
    "\n",
    "# mean of cumulative values\n",
    "Cumulative_mean = last.divide(46)\n",
    "Cumulative_mean_at_5km = Cumulative_mean.setDefaultProjection(crs = 'SR-ORG:6974',scale = 463.3127165275).reduceResolution(ee.Reducer.mean(), bestEffort = False, maxPixels = 150).reproject(ee.Projection('EPSG:4326').scale(0.05, 0.05)).updateMask(1) \n",
    "\n",
    "# cumulative map normalised\n",
    "cumulativeNorm = cumulative.map(cum_dividelast)\n",
    "\n",
    "# deviations (these are described in the document sent by Alessandro)\n",
    "cumulativeStd10 = cumulativeNorm.map(deviations_calc)\n",
    "\n",
    "# calculate the mean of the deviations\n",
    "pixelmask = ctmean.eq(ctmax)\n",
    "cumulativeStd10_mean = cumulativeStd10.mean().multiply(10000).updateMask(pixelmask.eq(1))\n"
   ]
  },
  {
   "cell_type": "code",
   "execution_count": 32,
   "metadata": {},
   "outputs": [],
   "source": [
    "#ctmax  = ct.setDefaultProjection(crs = 'SR-ORG:6974',scale = 463.3127165275).reduceResolution(ee.Reducer.max(), bestEffort = False, maxPixels = 150)"
   ]
  },
  {
   "cell_type": "code",
   "execution_count": 33,
   "metadata": {},
   "outputs": [],
   "source": [
    "#!earthengine create collection users/marcogirardello12/phenoutils/maxcount_2003\n",
    "#!earthengine create collection users/marcogirardello12/phenoutils/meancount_2003\n",
    "# load grid\n",
    "#exgrid = ee.FeatureCollection('users/marcogirardello/phenoutils/grid_export_phenology3')\n",
    "#1105\n",
    "onesquare = exgrid.filterMetadata('polyID','equals',1105)\n",
    "roi1 = ee.Geometry.Polygon(onesquare.geometry().getInfo().get('coordinates'))\n",
    "roi1 = roi1.bounds()\n",
    "task = ee.batch.Export.image.toAsset(image = ctmax, description ='ctmax',assetId='users/marcogirardello12/phenoutils/test_noreproj_all',\n",
    "                                     maxPixels=1e13,scale=5565.974539663679,crs='EPSG:4326',\n",
    "                                    region = roi1)\n",
    "task.start()"
   ]
  },
  {
   "cell_type": "code",
   "execution_count": 21,
   "metadata": {},
   "outputs": [],
   "source": [
    "Map = geemap.Map()"
   ]
  },
  {
   "cell_type": "code",
   "execution_count": 28,
   "metadata": {},
   "outputs": [],
   "source": [
    "Map.addLayer(mm,'','forest 500m')"
   ]
  },
  {
   "cell_type": "code",
   "execution_count": 26,
   "metadata": {},
   "outputs": [],
   "source": [
    "Map = geemap.Map()"
   ]
  },
  {
   "cell_type": "code",
   "execution_count": 27,
   "metadata": {},
   "outputs": [
    {
     "data": {
      "application/vnd.jupyter.widget-view+json": {
       "model_id": "87bf7076140247b894973b92fa737489",
       "version_major": 2,
       "version_minor": 0
      },
      "text/plain": [
       "Map(center=[40, -100], controls=(WidgetControl(options=['position'], widget=HBox(children=(ToggleButton(value=…"
      ]
     },
     "metadata": {},
     "output_type": "display_data"
    }
   ],
   "source": [
    "Map"
   ]
  },
  {
   "cell_type": "markdown",
   "metadata": {},
   "source": [
    "\n",
    "### Export using the tile method. File to use is Guido's reprojected 5km file"
   ]
  },
  {
   "cell_type": "code",
   "execution_count": 36,
   "metadata": {},
   "outputs": [
    {
     "name": "stdout",
     "output_type": "stream",
     "text": [
      "env: minpoly=15\n",
      "env: maxpoly=15\n"
     ]
    }
   ],
   "source": [
    "%env minpoly=15\n",
    "%env maxpoly=15\n",
    "minpoly = int(os.environ[\"minpoly\"])\n",
    "maxpoly = int(os.environ[\"maxpoly\"])"
   ]
  },
  {
   "cell_type": "code",
   "execution_count": 37,
   "metadata": {},
   "outputs": [],
   "source": [
    "polyl = list(range(minpoly,maxpoly+1))"
   ]
  },
  {
   "cell_type": "code",
   "execution_count": 40,
   "metadata": {},
   "outputs": [],
   "source": [
    "# Remember year!\n",
    "for poly in polyl:\n",
    "    # filter a given square\n",
    "    onesquare = smallgrid.filterMetadata('polyID','equals',poly)\n",
    "    roi1 = ee.Geometry.Polygon(onesquare.geometry().getInfo().get('coordinates'))\n",
    "    roi1 = roi1.bounds()\n",
    "    # polygon number\n",
    "    polyname = 'Y_'+str(year)+'_'+'poly_'+str(poly)+'_naamerica'\n",
    "    # export tile\n",
    "    filename = 'Y_'+str(year)+'_'+str(poly)+'_naamerica'\n",
    "    task = ee.batch.Export.image.toCloudStorage(image = cumulativeStd10_mean,description = polyname,\n",
    "                                     bucket = 'temperaturefilter',fileNamePrefix = filename,\n",
    "                                     scale = 5565.974539663679,fileFormat='GeoTIFF',\n",
    "                                    skipEmptyTiles = True, crs ='EPSG:4326',maxPixels=1e13,\n",
    "                                    region = roi1)\n",
    "    task.start()"
   ]
  }
 ],
 "metadata": {
  "kernelspec": {
   "display_name": "Python 3",
   "language": "python",
   "name": "python3"
  },
  "language_info": {
   "codemirror_mode": {
    "name": "ipython",
    "version": 3
   },
   "file_extension": ".py",
   "mimetype": "text/x-python",
   "name": "python",
   "nbconvert_exporter": "python",
   "pygments_lexer": "ipython3",
   "version": "3.8.5"
  },
  "varInspector": {
   "cols": {
    "lenName": 16,
    "lenType": 16,
    "lenVar": 40
   },
   "kernels_config": {
    "python": {
     "delete_cmd_postfix": "",
     "delete_cmd_prefix": "del ",
     "library": "var_list.py",
     "varRefreshCmd": "print(var_dic_list())"
    },
    "r": {
     "delete_cmd_postfix": ") ",
     "delete_cmd_prefix": "rm(",
     "library": "var_list.r",
     "varRefreshCmd": "cat(var_dic_list()) "
    }
   },
   "types_to_exclude": [
    "module",
    "function",
    "builtin_function_or_method",
    "instance",
    "_Feature"
   ],
   "window_display": false
  }
 },
 "nbformat": 4,
 "nbformat_minor": 4
}
